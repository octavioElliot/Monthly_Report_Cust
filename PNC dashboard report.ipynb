{
 "cells": [
  {
   "cell_type": "code",
   "execution_count": 1,
   "metadata": {},
   "outputs": [],
   "source": [
    "#!conda install -c anaconda xlrd --yes"
   ]
  },
  {
   "cell_type": "code",
   "execution_count": 2,
   "metadata": {},
   "outputs": [],
   "source": [
    "import pandas as pd\n",
    "from datetime import date"
   ]
  },
  {
   "cell_type": "code",
   "execution_count": 3,
   "metadata": {},
   "outputs": [
    {
     "data": {
      "text/html": [
       "<div>\n",
       "<style scoped>\n",
       "    .dataframe tbody tr th:only-of-type {\n",
       "        vertical-align: middle;\n",
       "    }\n",
       "\n",
       "    .dataframe tbody tr th {\n",
       "        vertical-align: top;\n",
       "    }\n",
       "\n",
       "    .dataframe thead th {\n",
       "        text-align: right;\n",
       "    }\n",
       "</style>\n",
       "<table border=\"1\" class=\"dataframe\">\n",
       "  <thead>\n",
       "    <tr style=\"text-align: right;\">\n",
       "      <th></th>\n",
       "      <th>Invoice number</th>\n",
       "      <th>Invoice date</th>\n",
       "      <th>Invoice client reference 1</th>\n",
       "      <th>Payment type</th>\n",
       "      <th>Total amount due</th>\n",
       "      <th>Currency</th>\n",
       "      <th>Machine type</th>\n",
       "      <th>Description</th>\n",
       "      <th>Equipment type</th>\n",
       "      <th>Sub-status</th>\n",
       "    </tr>\n",
       "  </thead>\n",
       "  <tbody>\n",
       "    <tr>\n",
       "      <th>0</th>\n",
       "      <td>Q5886GH</td>\n",
       "      <td>2020-01-05</td>\n",
       "      <td>NaN</td>\n",
       "      <td>Early Termination/Early Termination of Lease o...</td>\n",
       "      <td>-17.77</td>\n",
       "      <td>USD</td>\n",
       "      <td>ZLND</td>\n",
       "      <td>CORE I5 2.9GHZ 4TH GEN 4GB DESKTOP</td>\n",
       "      <td>Desktops</td>\n",
       "      <td>ETRM-EARLYTERM</td>\n",
       "    </tr>\n",
       "    <tr>\n",
       "      <th>1</th>\n",
       "      <td>Q5886GH</td>\n",
       "      <td>2020-01-05</td>\n",
       "      <td>NaN</td>\n",
       "      <td>Early Termination/Early Termination of Lease o...</td>\n",
       "      <td>-15.49</td>\n",
       "      <td>USD</td>\n",
       "      <td>ZLND</td>\n",
       "      <td>CORE I5 2.9GHZ 4TH GEN 4GB DESKTOP</td>\n",
       "      <td>Desktops</td>\n",
       "      <td>ETRM-EARLYTERM</td>\n",
       "    </tr>\n",
       "    <tr>\n",
       "      <th>2</th>\n",
       "      <td>Q5886GH</td>\n",
       "      <td>2020-01-05</td>\n",
       "      <td>NaN</td>\n",
       "      <td>Early Termination/Early Termination of Lease o...</td>\n",
       "      <td>-13.41</td>\n",
       "      <td>USD</td>\n",
       "      <td>ZLND</td>\n",
       "      <td>CORE I5 2.9GHZ 4TH GEN 4GB DESKTOP</td>\n",
       "      <td>Desktops</td>\n",
       "      <td>ETRM-EARLYTERM</td>\n",
       "    </tr>\n",
       "    <tr>\n",
       "      <th>3</th>\n",
       "      <td>Q5886GH</td>\n",
       "      <td>2020-01-05</td>\n",
       "      <td>NaN</td>\n",
       "      <td>Early Termination/Early Termination of Lease o...</td>\n",
       "      <td>-12.54</td>\n",
       "      <td>USD</td>\n",
       "      <td>ZLND</td>\n",
       "      <td>CORE I5 2.9GHZ 4TH GEN 4GB DESKTOP</td>\n",
       "      <td>Desktops</td>\n",
       "      <td>ETRM-EARLYTERM</td>\n",
       "    </tr>\n",
       "    <tr>\n",
       "      <th>4</th>\n",
       "      <td>Q5886GH</td>\n",
       "      <td>2020-01-05</td>\n",
       "      <td>NaN</td>\n",
       "      <td>Early Termination/Early Termination of Lease o...</td>\n",
       "      <td>-12.51</td>\n",
       "      <td>USD</td>\n",
       "      <td>DELD</td>\n",
       "      <td>CORE I5 3.3GHZ 4TH GEN 4GB DESKTOP 01</td>\n",
       "      <td>Desktops</td>\n",
       "      <td>ETRM-EARLYTERM</td>\n",
       "    </tr>\n",
       "  </tbody>\n",
       "</table>\n",
       "</div>"
      ],
      "text/plain": [
       "  Invoice number Invoice date Invoice client reference 1  \\\n",
       "0        Q5886GH   2020-01-05                        NaN   \n",
       "1        Q5886GH   2020-01-05                        NaN   \n",
       "2        Q5886GH   2020-01-05                        NaN   \n",
       "3        Q5886GH   2020-01-05                        NaN   \n",
       "4        Q5886GH   2020-01-05                        NaN   \n",
       "\n",
       "                                        Payment type  Total amount due  \\\n",
       "0  Early Termination/Early Termination of Lease o...            -17.77   \n",
       "1  Early Termination/Early Termination of Lease o...            -15.49   \n",
       "2  Early Termination/Early Termination of Lease o...            -13.41   \n",
       "3  Early Termination/Early Termination of Lease o...            -12.54   \n",
       "4  Early Termination/Early Termination of Lease o...            -12.51   \n",
       "\n",
       "  Currency Machine type                            Description Equipment type  \\\n",
       "0    USD           ZLND     CORE I5 2.9GHZ 4TH GEN 4GB DESKTOP       Desktops   \n",
       "1    USD           ZLND     CORE I5 2.9GHZ 4TH GEN 4GB DESKTOP       Desktops   \n",
       "2    USD           ZLND     CORE I5 2.9GHZ 4TH GEN 4GB DESKTOP       Desktops   \n",
       "3    USD           ZLND     CORE I5 2.9GHZ 4TH GEN 4GB DESKTOP       Desktops   \n",
       "4    USD           DELD  CORE I5 3.3GHZ 4TH GEN 4GB DESKTOP 01       Desktops   \n",
       "\n",
       "       Sub-status  \n",
       "0  ETRM-EARLYTERM  \n",
       "1  ETRM-EARLYTERM  \n",
       "2  ETRM-EARLYTERM  \n",
       "3  ETRM-EARLYTERM  \n",
       "4  ETRM-EARLYTERM  "
      ]
     },
     "execution_count": 3,
     "metadata": {},
     "output_type": "execute_result"
    }
   ],
   "source": [
    "df = pd.read_excel('PNC_BANK_20200511_140520_62_inv1.xlsx')\n",
    "#df = pd.read_csv('teste.csv')\n",
    "df.head()"
   ]
  },
  {
   "cell_type": "code",
   "execution_count": 4,
   "metadata": {},
   "outputs": [
    {
     "data": {
      "text/html": [
       "<div>\n",
       "<style scoped>\n",
       "    .dataframe tbody tr th:only-of-type {\n",
       "        vertical-align: middle;\n",
       "    }\n",
       "\n",
       "    .dataframe tbody tr th {\n",
       "        vertical-align: top;\n",
       "    }\n",
       "\n",
       "    .dataframe thead th {\n",
       "        text-align: right;\n",
       "    }\n",
       "</style>\n",
       "<table border=\"1\" class=\"dataframe\">\n",
       "  <thead>\n",
       "    <tr style=\"text-align: right;\">\n",
       "      <th></th>\n",
       "      <th>Invoice number</th>\n",
       "      <th>Invoice date</th>\n",
       "      <th>Invoice client reference 1</th>\n",
       "      <th>Payment type</th>\n",
       "      <th>Total amount due</th>\n",
       "      <th>Currency</th>\n",
       "      <th>Machine type</th>\n",
       "      <th>Description</th>\n",
       "      <th>Equipment type</th>\n",
       "      <th>Sub-status</th>\n",
       "    </tr>\n",
       "  </thead>\n",
       "  <tbody>\n",
       "    <tr>\n",
       "      <th>0</th>\n",
       "      <td>Q5886GH</td>\n",
       "      <td>2020-01-05</td>\n",
       "      <td>NaN</td>\n",
       "      <td>Early Termination/Early Termination of Lease o...</td>\n",
       "      <td>-17.77</td>\n",
       "      <td>USD</td>\n",
       "      <td>ZLND</td>\n",
       "      <td>CORE I5 2.9GHZ 4TH GEN 4GB DESKTOP</td>\n",
       "      <td>Desktops</td>\n",
       "      <td>ETRM-EARLYTERM</td>\n",
       "    </tr>\n",
       "    <tr>\n",
       "      <th>1</th>\n",
       "      <td>Q5886GH</td>\n",
       "      <td>2020-01-05</td>\n",
       "      <td>NaN</td>\n",
       "      <td>Early Termination/Early Termination of Lease o...</td>\n",
       "      <td>-15.49</td>\n",
       "      <td>USD</td>\n",
       "      <td>ZLND</td>\n",
       "      <td>CORE I5 2.9GHZ 4TH GEN 4GB DESKTOP</td>\n",
       "      <td>Desktops</td>\n",
       "      <td>ETRM-EARLYTERM</td>\n",
       "    </tr>\n",
       "    <tr>\n",
       "      <th>2</th>\n",
       "      <td>Q5886GH</td>\n",
       "      <td>2020-01-05</td>\n",
       "      <td>NaN</td>\n",
       "      <td>Early Termination/Early Termination of Lease o...</td>\n",
       "      <td>-13.41</td>\n",
       "      <td>USD</td>\n",
       "      <td>ZLND</td>\n",
       "      <td>CORE I5 2.9GHZ 4TH GEN 4GB DESKTOP</td>\n",
       "      <td>Desktops</td>\n",
       "      <td>ETRM-EARLYTERM</td>\n",
       "    </tr>\n",
       "    <tr>\n",
       "      <th>3</th>\n",
       "      <td>Q5886GH</td>\n",
       "      <td>2020-01-05</td>\n",
       "      <td>NaN</td>\n",
       "      <td>Early Termination/Early Termination of Lease o...</td>\n",
       "      <td>-12.54</td>\n",
       "      <td>USD</td>\n",
       "      <td>ZLND</td>\n",
       "      <td>CORE I5 2.9GHZ 4TH GEN 4GB DESKTOP</td>\n",
       "      <td>Desktops</td>\n",
       "      <td>ETRM-EARLYTERM</td>\n",
       "    </tr>\n",
       "    <tr>\n",
       "      <th>4</th>\n",
       "      <td>Q5886GH</td>\n",
       "      <td>2020-01-05</td>\n",
       "      <td>NaN</td>\n",
       "      <td>Early Termination/Early Termination of Lease o...</td>\n",
       "      <td>-12.51</td>\n",
       "      <td>USD</td>\n",
       "      <td>DELD</td>\n",
       "      <td>CORE I5 3.3GHZ 4TH GEN 4GB DESKTOP 01</td>\n",
       "      <td>Desktops</td>\n",
       "      <td>ETRM-EARLYTERM</td>\n",
       "    </tr>\n",
       "  </tbody>\n",
       "</table>\n",
       "</div>"
      ],
      "text/plain": [
       "  Invoice number Invoice date Invoice client reference 1  \\\n",
       "0        Q5886GH   2020-01-05                        NaN   \n",
       "1        Q5886GH   2020-01-05                        NaN   \n",
       "2        Q5886GH   2020-01-05                        NaN   \n",
       "3        Q5886GH   2020-01-05                        NaN   \n",
       "4        Q5886GH   2020-01-05                        NaN   \n",
       "\n",
       "                                        Payment type  Total amount due  \\\n",
       "0  Early Termination/Early Termination of Lease o...            -17.77   \n",
       "1  Early Termination/Early Termination of Lease o...            -15.49   \n",
       "2  Early Termination/Early Termination of Lease o...            -13.41   \n",
       "3  Early Termination/Early Termination of Lease o...            -12.54   \n",
       "4  Early Termination/Early Termination of Lease o...            -12.51   \n",
       "\n",
       "  Currency Machine type                            Description Equipment type  \\\n",
       "0    USD           ZLND     CORE I5 2.9GHZ 4TH GEN 4GB DESKTOP       Desktops   \n",
       "1    USD           ZLND     CORE I5 2.9GHZ 4TH GEN 4GB DESKTOP       Desktops   \n",
       "2    USD           ZLND     CORE I5 2.9GHZ 4TH GEN 4GB DESKTOP       Desktops   \n",
       "3    USD           ZLND     CORE I5 2.9GHZ 4TH GEN 4GB DESKTOP       Desktops   \n",
       "4    USD           DELD  CORE I5 3.3GHZ 4TH GEN 4GB DESKTOP 01       Desktops   \n",
       "\n",
       "       Sub-status  \n",
       "0  ETRM-EARLYTERM  \n",
       "1  ETRM-EARLYTERM  \n",
       "2  ETRM-EARLYTERM  \n",
       "3  ETRM-EARLYTERM  \n",
       "4  ETRM-EARLYTERM  "
      ]
     },
     "execution_count": 4,
     "metadata": {},
     "output_type": "execute_result"
    }
   ],
   "source": [
    "df.head()"
   ]
  },
  {
   "cell_type": "code",
   "execution_count": 5,
   "metadata": {},
   "outputs": [],
   "source": [
    "PC_ONLY = df[['Invoice number','Machine type','Equipment type','Sub-status', 'Payment type','Description','Invoice client reference 1','Invoice date','Total amount due']]"
   ]
  },
  {
   "cell_type": "code",
   "execution_count": 6,
   "metadata": {},
   "outputs": [],
   "source": [
    "INVOICE_LIST_REMOVED = ['Q6230GE']\n",
    "items = len(INVOICE_LIST_REMOVED)"
   ]
  },
  {
   "cell_type": "code",
   "execution_count": 7,
   "metadata": {},
   "outputs": [
    {
     "name": "stdout",
     "output_type": "stream",
     "text": [
      "Empty DataFrame\n",
      "Columns: [Invoice number, Machine type, Equipment type, Sub-status, Payment type, Description, Invoice client reference 1, Invoice date, Total amount due]\n",
      "Index: []\n"
     ]
    }
   ],
   "source": [
    "for i in range(items):\n",
    "       print (PC_ONLY[PC_ONLY['Invoice number'] == INVOICE_LIST_REMOVED[i]].head(1))"
   ]
  },
  {
   "cell_type": "code",
   "execution_count": null,
   "metadata": {},
   "outputs": [],
   "source": []
  },
  {
   "cell_type": "code",
   "execution_count": 8,
   "metadata": {},
   "outputs": [],
   "source": [
    "rows = PC_ONLY['Invoice number'].count()"
   ]
  },
  {
   "cell_type": "code",
   "execution_count": 9,
   "metadata": {},
   "outputs": [],
   "source": [
    "PC_ONLY['Invoice number 2'] = PC_ONLY['Invoice number']\n",
    "PC_ONLY['BILL TYPE'] = 'TBD'\n",
    "PC_ONLY['To be removed'] = ''"
   ]
  },
  {
   "cell_type": "code",
   "execution_count": 10,
   "metadata": {},
   "outputs": [
    {
     "data": {
      "text/html": [
       "<div>\n",
       "<style scoped>\n",
       "    .dataframe tbody tr th:only-of-type {\n",
       "        vertical-align: middle;\n",
       "    }\n",
       "\n",
       "    .dataframe tbody tr th {\n",
       "        vertical-align: top;\n",
       "    }\n",
       "\n",
       "    .dataframe thead th {\n",
       "        text-align: right;\n",
       "    }\n",
       "</style>\n",
       "<table border=\"1\" class=\"dataframe\">\n",
       "  <thead>\n",
       "    <tr style=\"text-align: right;\">\n",
       "      <th></th>\n",
       "      <th>Invoice number</th>\n",
       "      <th>Machine type</th>\n",
       "      <th>Equipment type</th>\n",
       "      <th>Sub-status</th>\n",
       "      <th>Payment type</th>\n",
       "      <th>Description</th>\n",
       "      <th>Invoice client reference 1</th>\n",
       "      <th>Invoice date</th>\n",
       "      <th>Total amount due</th>\n",
       "      <th>Invoice number 2</th>\n",
       "      <th>BILL TYPE</th>\n",
       "      <th>To be removed</th>\n",
       "    </tr>\n",
       "  </thead>\n",
       "  <tbody>\n",
       "    <tr>\n",
       "      <th>0</th>\n",
       "      <td>Q5886GH</td>\n",
       "      <td>ZLND</td>\n",
       "      <td>Desktops</td>\n",
       "      <td>ETRM-EARLYTERM</td>\n",
       "      <td>Early Termination/Early Termination of Lease o...</td>\n",
       "      <td>CORE I5 2.9GHZ 4TH GEN 4GB DESKTOP</td>\n",
       "      <td>NaN</td>\n",
       "      <td>2020-01-05</td>\n",
       "      <td>-17.77</td>\n",
       "      <td>Q5886GH</td>\n",
       "      <td>TBD</td>\n",
       "      <td></td>\n",
       "    </tr>\n",
       "    <tr>\n",
       "      <th>1</th>\n",
       "      <td>Q5886GH</td>\n",
       "      <td>ZLND</td>\n",
       "      <td>Desktops</td>\n",
       "      <td>ETRM-EARLYTERM</td>\n",
       "      <td>Early Termination/Early Termination of Lease o...</td>\n",
       "      <td>CORE I5 2.9GHZ 4TH GEN 4GB DESKTOP</td>\n",
       "      <td>NaN</td>\n",
       "      <td>2020-01-05</td>\n",
       "      <td>-15.49</td>\n",
       "      <td>Q5886GH</td>\n",
       "      <td>TBD</td>\n",
       "      <td></td>\n",
       "    </tr>\n",
       "    <tr>\n",
       "      <th>2</th>\n",
       "      <td>Q5886GH</td>\n",
       "      <td>ZLND</td>\n",
       "      <td>Desktops</td>\n",
       "      <td>ETRM-EARLYTERM</td>\n",
       "      <td>Early Termination/Early Termination of Lease o...</td>\n",
       "      <td>CORE I5 2.9GHZ 4TH GEN 4GB DESKTOP</td>\n",
       "      <td>NaN</td>\n",
       "      <td>2020-01-05</td>\n",
       "      <td>-13.41</td>\n",
       "      <td>Q5886GH</td>\n",
       "      <td>TBD</td>\n",
       "      <td></td>\n",
       "    </tr>\n",
       "    <tr>\n",
       "      <th>3</th>\n",
       "      <td>Q5886GH</td>\n",
       "      <td>ZLND</td>\n",
       "      <td>Desktops</td>\n",
       "      <td>ETRM-EARLYTERM</td>\n",
       "      <td>Early Termination/Early Termination of Lease o...</td>\n",
       "      <td>CORE I5 2.9GHZ 4TH GEN 4GB DESKTOP</td>\n",
       "      <td>NaN</td>\n",
       "      <td>2020-01-05</td>\n",
       "      <td>-12.54</td>\n",
       "      <td>Q5886GH</td>\n",
       "      <td>TBD</td>\n",
       "      <td></td>\n",
       "    </tr>\n",
       "    <tr>\n",
       "      <th>4</th>\n",
       "      <td>Q5886GH</td>\n",
       "      <td>DELD</td>\n",
       "      <td>Desktops</td>\n",
       "      <td>ETRM-EARLYTERM</td>\n",
       "      <td>Early Termination/Early Termination of Lease o...</td>\n",
       "      <td>CORE I5 3.3GHZ 4TH GEN 4GB DESKTOP 01</td>\n",
       "      <td>NaN</td>\n",
       "      <td>2020-01-05</td>\n",
       "      <td>-12.51</td>\n",
       "      <td>Q5886GH</td>\n",
       "      <td>TBD</td>\n",
       "      <td></td>\n",
       "    </tr>\n",
       "  </tbody>\n",
       "</table>\n",
       "</div>"
      ],
      "text/plain": [
       "  Invoice number Machine type Equipment type      Sub-status  \\\n",
       "0        Q5886GH         ZLND       Desktops  ETRM-EARLYTERM   \n",
       "1        Q5886GH         ZLND       Desktops  ETRM-EARLYTERM   \n",
       "2        Q5886GH         ZLND       Desktops  ETRM-EARLYTERM   \n",
       "3        Q5886GH         ZLND       Desktops  ETRM-EARLYTERM   \n",
       "4        Q5886GH         DELD       Desktops  ETRM-EARLYTERM   \n",
       "\n",
       "                                        Payment type  \\\n",
       "0  Early Termination/Early Termination of Lease o...   \n",
       "1  Early Termination/Early Termination of Lease o...   \n",
       "2  Early Termination/Early Termination of Lease o...   \n",
       "3  Early Termination/Early Termination of Lease o...   \n",
       "4  Early Termination/Early Termination of Lease o...   \n",
       "\n",
       "                             Description Invoice client reference 1  \\\n",
       "0     CORE I5 2.9GHZ 4TH GEN 4GB DESKTOP                        NaN   \n",
       "1     CORE I5 2.9GHZ 4TH GEN 4GB DESKTOP                        NaN   \n",
       "2     CORE I5 2.9GHZ 4TH GEN 4GB DESKTOP                        NaN   \n",
       "3     CORE I5 2.9GHZ 4TH GEN 4GB DESKTOP                        NaN   \n",
       "4  CORE I5 3.3GHZ 4TH GEN 4GB DESKTOP 01                        NaN   \n",
       "\n",
       "  Invoice date  Total amount due Invoice number 2 BILL TYPE To be removed  \n",
       "0   2020-01-05            -17.77          Q5886GH       TBD                \n",
       "1   2020-01-05            -15.49          Q5886GH       TBD                \n",
       "2   2020-01-05            -13.41          Q5886GH       TBD                \n",
       "3   2020-01-05            -12.54          Q5886GH       TBD                \n",
       "4   2020-01-05            -12.51          Q5886GH       TBD                "
      ]
     },
     "execution_count": 10,
     "metadata": {},
     "output_type": "execute_result"
    }
   ],
   "source": [
    "PC_ONLY.head()"
   ]
  },
  {
   "cell_type": "markdown",
   "metadata": {},
   "source": [
    "FORMATACAO DOS DADOS"
   ]
  },
  {
   "cell_type": "code",
   "execution_count": 11,
   "metadata": {},
   "outputs": [],
   "source": [
    "for i in range(rows):\n",
    "    PC_ONLY.at[i,'Invoice number 2'] = PC_ONLY.at[i,'Invoice number'][:2]\n",
    "    PC_ONLY.at[i,'Invoice number'] = PC_ONLY.at[i,'Invoice number'][:7]"
   ]
  },
  {
   "cell_type": "code",
   "execution_count": 12,
   "metadata": {},
   "outputs": [],
   "source": [
    "PC_ONLY[\"Total amount due\"] = pd.to_numeric(PC_ONLY[\"Total amount due\"], downcast=\"float\")\n",
    "PC_ONLY['Total amount due'] = PC_ONLY['Total amount due'].apply (lambda x: round(x,2)) "
   ]
  },
  {
   "cell_type": "code",
   "execution_count": 13,
   "metadata": {},
   "outputs": [],
   "source": [
    "PC_ONLY[\"Invoice client reference 1\"]= PC_ONLY[\"Invoice client reference 1\"].astype(str)"
   ]
  },
  {
   "cell_type": "code",
   "execution_count": 14,
   "metadata": {},
   "outputs": [],
   "source": [
    "for i in range(rows):\n",
    "    PC_ONLY.at[i,'Invoice client reference 1'] = PC_ONLY.at[i,'Invoice client reference 1'][:2]\n",
    "    "
   ]
  },
  {
   "cell_type": "code",
   "execution_count": 15,
   "metadata": {},
   "outputs": [],
   "source": [
    "# creating the filters taht will be used\n",
    "\n",
    "FILTER_LPF = (PC_ONLY['Payment type']=='Late Payment Fee')\n",
    "FILTER_DAMAGE = (PC_ONLY[\"Invoice number 2\"] == \"QC\")\n",
    "FILTER_RECYLCLYNG_FEE = (PC_ONLY['Payment type'] == 'STATE RECYCLING FEE (FOR BATCH JOBS)')\n",
    "FILTER_CMOS = (PC_ONLY['Equipment type'] == 'Storage')\n",
    "FILTER_STORAGE = (PC_ONLY['Equipment type']=='CMOS Processors')\n",
    "\n",
    "\n",
    "FILTER_PRODUCT_SET = (PC_ONLY['Equipment type'] == 'PC Product Set')\n",
    "FILTER_IBM_MAINT = (PC_ONLY['Description'] == 'IBM PREPAID MAINTENANCE')\n",
    "\n",
    "FILTER_XOT9_EMPTY = (PC_ONLY['Machine type'] == \"XOT9\") # &  pd.isnull(df['Equipment type'])\n",
    "\n",
    "FILTER_PPT = (PC_ONLY['Payment type'] == 'PPT Recovery: Full Year') # & (PC_ONLY['BILL TYPE'] == '')\n",
    "FILTER_BUY = (PC_ONLY['Sub-status'] == 'BUY-BUYOUT') # & (PC_ONLY['BILL TYPE'] == '')\n",
    "\n",
    "FILTER_CONC = (PC_ONLY['Sub-status'] == 'CONC-CONCLUDE') # & (PC_ONLY['BILL TYPE'] == '')\n",
    "FILTER_CONT = (PC_ONLY['Sub-status'] == 'CONT-CONTINUATION') # & (PC_ONLY['BILL TYPE'] == '')\n",
    "\n",
    "\n",
    "\n",
    "FILTER_EPUR = (PC_ONLY['Sub-status'] == 'EPUR-PURCHASE')  # & (PC_ONLY['BILL TYPE'] == '')\n",
    "\n",
    "FILTER_SS_ETRM = (PC_ONLY['Sub-status'] =='ETRM-EARLYTERM') | (PC_ONLY['Payment type'] == 'Early Termination/Early Termination of Lease of Lease')\n",
    "\n",
    "\n",
    "FILTER_REGULAR_PERIODIC = (PC_ONLY['Payment type'] == 'Regular Periodic Invoice-Payment in Advance') # & (PC_ONLY['BILL TYPE'] == '')\n",
    "\n",
    "FILTER_NLOA_NLEASE = (PC_ONLY['Sub-status'] == 'NLOA-NEW LOAN') | (PC_ONLY['Sub-status'] == 'NLSE-NEW LEASE') # & (PC_ONLY['BILL TYPE'] == '')\n",
    "\n",
    "FILTER_ONE_OFF = (PC_ONLY['Invoice client reference 1']=='OL') | (PC_ONLY['Invoice client reference 1']=='OI')\n",
    "\n"
   ]
  },
  {
   "cell_type": "markdown",
   "metadata": {},
   "source": [
    "# Notacao para filtro duplo\n",
    "DOUBLE FILTER = PC_ONLY[(PC_ONLY[\"Equipment type\"] == \"PC Product Set\") & (PC_ONLY[\"Payment type\"] == \"PPT Recovery: Full Year\")]\n",
    "PC_ONLY[(FILTER_PRODUCT_SET) & (FILTER_PPT)]\n",
    "\n",
    "PC_ONLY.loc[(FILTER_CONT) & (FILTER_BT_EMPTY),'BILL TYPE'] = \"s\""
   ]
  },
  {
   "cell_type": "code",
   "execution_count": 16,
   "metadata": {},
   "outputs": [
    {
     "data": {
      "text/html": [
       "<div>\n",
       "<style scoped>\n",
       "    .dataframe tbody tr th:only-of-type {\n",
       "        vertical-align: middle;\n",
       "    }\n",
       "\n",
       "    .dataframe tbody tr th {\n",
       "        vertical-align: top;\n",
       "    }\n",
       "\n",
       "    .dataframe thead th {\n",
       "        text-align: right;\n",
       "    }\n",
       "</style>\n",
       "<table border=\"1\" class=\"dataframe\">\n",
       "  <thead>\n",
       "    <tr style=\"text-align: right;\">\n",
       "      <th></th>\n",
       "      <th>Invoice number</th>\n",
       "      <th>Machine type</th>\n",
       "      <th>Equipment type</th>\n",
       "      <th>Sub-status</th>\n",
       "      <th>Payment type</th>\n",
       "      <th>Description</th>\n",
       "      <th>Invoice client reference 1</th>\n",
       "      <th>Invoice date</th>\n",
       "      <th>Total amount due</th>\n",
       "      <th>Invoice number 2</th>\n",
       "      <th>BILL TYPE</th>\n",
       "      <th>To be removed</th>\n",
       "    </tr>\n",
       "  </thead>\n",
       "  <tbody>\n",
       "    <tr>\n",
       "      <th>96048</th>\n",
       "      <td>Q7026GH</td>\n",
       "      <td>9OT9</td>\n",
       "      <td>MISCELLANEOUS FINANCING</td>\n",
       "      <td>NLOA-NEW LOAN</td>\n",
       "      <td>Regular Periodic Invoice-Payment in Arrears</td>\n",
       "      <td>OTHER FINANCING</td>\n",
       "      <td>OL</td>\n",
       "      <td>2020-01-05</td>\n",
       "      <td>22.9</td>\n",
       "      <td>Q7</td>\n",
       "      <td>TBD</td>\n",
       "      <td></td>\n",
       "    </tr>\n",
       "    <tr>\n",
       "      <th>96049</th>\n",
       "      <td>Q7026GH</td>\n",
       "      <td>9OT9</td>\n",
       "      <td>MISCELLANEOUS FINANCING</td>\n",
       "      <td>NLOA-NEW LOAN</td>\n",
       "      <td>Regular Periodic Invoice-Payment in Arrears</td>\n",
       "      <td>OTHER FINANCING</td>\n",
       "      <td>OL</td>\n",
       "      <td>2020-01-05</td>\n",
       "      <td>22.9</td>\n",
       "      <td>Q7</td>\n",
       "      <td>TBD</td>\n",
       "      <td></td>\n",
       "    </tr>\n",
       "    <tr>\n",
       "      <th>96050</th>\n",
       "      <td>Q7026GH</td>\n",
       "      <td>9OT9</td>\n",
       "      <td>MISCELLANEOUS FINANCING</td>\n",
       "      <td>NLOA-NEW LOAN</td>\n",
       "      <td>Regular Periodic Invoice-Payment in Arrears</td>\n",
       "      <td>OTHER FINANCING</td>\n",
       "      <td>OL</td>\n",
       "      <td>2020-01-05</td>\n",
       "      <td>22.9</td>\n",
       "      <td>Q7</td>\n",
       "      <td>TBD</td>\n",
       "      <td></td>\n",
       "    </tr>\n",
       "    <tr>\n",
       "      <th>96051</th>\n",
       "      <td>Q7026GH</td>\n",
       "      <td>9OT9</td>\n",
       "      <td>MISCELLANEOUS FINANCING</td>\n",
       "      <td>NLOA-NEW LOAN</td>\n",
       "      <td>Regular Periodic Invoice-Payment in Arrears</td>\n",
       "      <td>OTHER FINANCING</td>\n",
       "      <td>OL</td>\n",
       "      <td>2020-01-05</td>\n",
       "      <td>22.9</td>\n",
       "      <td>Q7</td>\n",
       "      <td>TBD</td>\n",
       "      <td></td>\n",
       "    </tr>\n",
       "    <tr>\n",
       "      <th>96052</th>\n",
       "      <td>Q7026GH</td>\n",
       "      <td>9OT9</td>\n",
       "      <td>MISCELLANEOUS FINANCING</td>\n",
       "      <td>NLOA-NEW LOAN</td>\n",
       "      <td>Regular Periodic Invoice-Payment in Arrears</td>\n",
       "      <td>OTHER FINANCING</td>\n",
       "      <td>OL</td>\n",
       "      <td>2020-01-05</td>\n",
       "      <td>22.9</td>\n",
       "      <td>Q7</td>\n",
       "      <td>TBD</td>\n",
       "      <td></td>\n",
       "    </tr>\n",
       "  </tbody>\n",
       "</table>\n",
       "</div>"
      ],
      "text/plain": [
       "      Invoice number Machine type           Equipment type     Sub-status  \\\n",
       "96048        Q7026GH         9OT9  MISCELLANEOUS FINANCING  NLOA-NEW LOAN   \n",
       "96049        Q7026GH         9OT9  MISCELLANEOUS FINANCING  NLOA-NEW LOAN   \n",
       "96050        Q7026GH         9OT9  MISCELLANEOUS FINANCING  NLOA-NEW LOAN   \n",
       "96051        Q7026GH         9OT9  MISCELLANEOUS FINANCING  NLOA-NEW LOAN   \n",
       "96052        Q7026GH         9OT9  MISCELLANEOUS FINANCING  NLOA-NEW LOAN   \n",
       "\n",
       "                                      Payment type      Description  \\\n",
       "96048  Regular Periodic Invoice-Payment in Arrears  OTHER FINANCING   \n",
       "96049  Regular Periodic Invoice-Payment in Arrears  OTHER FINANCING   \n",
       "96050  Regular Periodic Invoice-Payment in Arrears  OTHER FINANCING   \n",
       "96051  Regular Periodic Invoice-Payment in Arrears  OTHER FINANCING   \n",
       "96052  Regular Periodic Invoice-Payment in Arrears  OTHER FINANCING   \n",
       "\n",
       "      Invoice client reference 1 Invoice date  Total amount due  \\\n",
       "96048                         OL   2020-01-05              22.9   \n",
       "96049                         OL   2020-01-05              22.9   \n",
       "96050                         OL   2020-01-05              22.9   \n",
       "96051                         OL   2020-01-05              22.9   \n",
       "96052                         OL   2020-01-05              22.9   \n",
       "\n",
       "      Invoice number 2 BILL TYPE To be removed  \n",
       "96048               Q7       TBD                \n",
       "96049               Q7       TBD                \n",
       "96050               Q7       TBD                \n",
       "96051               Q7       TBD                \n",
       "96052               Q7       TBD                "
      ]
     },
     "execution_count": 16,
     "metadata": {},
     "output_type": "execute_result"
    }
   ],
   "source": [
    "PC_ONLY[FILTER_ONE_OFF].head()"
   ]
  },
  {
   "cell_type": "code",
   "execution_count": 17,
   "metadata": {},
   "outputs": [],
   "source": [
    "LPF = PC_ONLY[FILTER_LPF]"
   ]
  },
  {
   "cell_type": "code",
   "execution_count": 18,
   "metadata": {},
   "outputs": [
    {
     "data": {
      "text/html": [
       "<div>\n",
       "<style scoped>\n",
       "    .dataframe tbody tr th:only-of-type {\n",
       "        vertical-align: middle;\n",
       "    }\n",
       "\n",
       "    .dataframe tbody tr th {\n",
       "        vertical-align: top;\n",
       "    }\n",
       "\n",
       "    .dataframe thead th {\n",
       "        text-align: right;\n",
       "    }\n",
       "</style>\n",
       "<table border=\"1\" class=\"dataframe\">\n",
       "  <thead>\n",
       "    <tr style=\"text-align: right;\">\n",
       "      <th></th>\n",
       "      <th>Invoice number</th>\n",
       "      <th>Machine type</th>\n",
       "      <th>Equipment type</th>\n",
       "      <th>Sub-status</th>\n",
       "      <th>Payment type</th>\n",
       "      <th>Description</th>\n",
       "      <th>Invoice client reference 1</th>\n",
       "      <th>Invoice date</th>\n",
       "      <th>Total amount due</th>\n",
       "      <th>Invoice number 2</th>\n",
       "      <th>BILL TYPE</th>\n",
       "      <th>To be removed</th>\n",
       "    </tr>\n",
       "  </thead>\n",
       "  <tbody>\n",
       "  </tbody>\n",
       "</table>\n",
       "</div>"
      ],
      "text/plain": [
       "Empty DataFrame\n",
       "Columns: [Invoice number, Machine type, Equipment type, Sub-status, Payment type, Description, Invoice client reference 1, Invoice date, Total amount due, Invoice number 2, BILL TYPE, To be removed]\n",
       "Index: []"
      ]
     },
     "execution_count": 18,
     "metadata": {},
     "output_type": "execute_result"
    }
   ],
   "source": [
    "PC_ONLY[PC_ONLY['Invoice number']=='Q6591GF']"
   ]
  },
  {
   "cell_type": "code",
   "execution_count": 19,
   "metadata": {},
   "outputs": [],
   "source": [
    "NON_PC = PC_ONLY[FILTER_DAMAGE]"
   ]
  },
  {
   "cell_type": "code",
   "execution_count": 20,
   "metadata": {},
   "outputs": [],
   "source": [
    "PC_ONLY.loc[FILTER_LPF, 'To be removed'] = 'NaN'"
   ]
  },
  {
   "cell_type": "code",
   "execution_count": 21,
   "metadata": {},
   "outputs": [],
   "source": [
    "PC_ONLY.loc[FILTER_DAMAGE, 'To be removed'] = 'NaN'"
   ]
  },
  {
   "cell_type": "code",
   "execution_count": 22,
   "metadata": {},
   "outputs": [],
   "source": [
    "PC_ONLY.loc[FILTER_ONE_OFF, 'To be removed'] = 'NaN'"
   ]
  },
  {
   "cell_type": "code",
   "execution_count": 23,
   "metadata": {},
   "outputs": [],
   "source": [
    "PC_ONLY.loc[(FILTER_RECYLCLYNG_FEE) & (PC_ONLY['BILL TYPE'] == 'TBD'),'BILL TYPE']= 'Recycle'"
   ]
  },
  {
   "cell_type": "code",
   "execution_count": 24,
   "metadata": {},
   "outputs": [],
   "source": [
    "PC_ONLY.loc[FILTER_CMOS,'To be removed'] = 'NaN'"
   ]
  },
  {
   "cell_type": "code",
   "execution_count": 25,
   "metadata": {},
   "outputs": [],
   "source": [
    "PC_ONLY.loc[FILTER_STORAGE,'To be removed'] = 'NaN'"
   ]
  },
  {
   "cell_type": "code",
   "execution_count": 26,
   "metadata": {},
   "outputs": [],
   "source": [
    "PC_ONLY.loc[FILTER_IBM_MAINT,'To be removed'] = 'NaN'"
   ]
  },
  {
   "cell_type": "code",
   "execution_count": 27,
   "metadata": {},
   "outputs": [],
   "source": [
    "for invoice in INVOICE_LIST_REMOVED:\n",
    "    NON_PC = NON_PC.append(PC_ONLY[PC_ONLY['Invoice number'] == invoice])\n",
    "    PC_ONLY.loc[PC_ONLY['Invoice number'] == invoice,'To be removed'] = 'NaN'\n",
    "\n"
   ]
  },
  {
   "cell_type": "code",
   "execution_count": 28,
   "metadata": {},
   "outputs": [],
   "source": [
    "PC_ONLY = PC_ONLY[PC_ONLY['To be removed']!= 'NaN']"
   ]
  },
  {
   "cell_type": "code",
   "execution_count": 29,
   "metadata": {},
   "outputs": [
    {
     "data": {
      "text/plain": [
       "['Q6230GE']"
      ]
     },
     "execution_count": 29,
     "metadata": {},
     "output_type": "execute_result"
    }
   ],
   "source": [
    "INVOICE_LIST_REMOVED"
   ]
  },
  {
   "cell_type": "code",
   "execution_count": 30,
   "metadata": {},
   "outputs": [
    {
     "name": "stderr",
     "output_type": "stream",
     "text": [
      "C:\\Users\\Pichau\\anaconda3\\lib\\site-packages\\ipykernel_launcher.py:1: UserWarning: Boolean Series key will be reindexed to match DataFrame index.\n",
      "  \"\"\"Entry point for launching an IPython kernel.\n"
     ]
    }
   ],
   "source": [
    "NON_PC = NON_PC.append(PC_ONLY[FILTER_ONE_OFF])"
   ]
  },
  {
   "cell_type": "code",
   "execution_count": 31,
   "metadata": {},
   "outputs": [
    {
     "name": "stderr",
     "output_type": "stream",
     "text": [
      "C:\\Users\\Pichau\\anaconda3\\lib\\site-packages\\ipykernel_launcher.py:1: UserWarning: Boolean Series key will be reindexed to match DataFrame index.\n",
      "  \"\"\"Entry point for launching an IPython kernel.\n"
     ]
    }
   ],
   "source": [
    "NON_PC = NON_PC.append(PC_ONLY[FILTER_CMOS])"
   ]
  },
  {
   "cell_type": "code",
   "execution_count": 32,
   "metadata": {},
   "outputs": [
    {
     "name": "stderr",
     "output_type": "stream",
     "text": [
      "C:\\Users\\Pichau\\anaconda3\\lib\\site-packages\\ipykernel_launcher.py:1: UserWarning: Boolean Series key will be reindexed to match DataFrame index.\n",
      "  \"\"\"Entry point for launching an IPython kernel.\n"
     ]
    }
   ],
   "source": [
    "NON_PC = NON_PC.append(PC_ONLY[FILTER_STORAGE])"
   ]
  },
  {
   "cell_type": "code",
   "execution_count": 33,
   "metadata": {},
   "outputs": [
    {
     "name": "stderr",
     "output_type": "stream",
     "text": [
      "C:\\Users\\Pichau\\anaconda3\\lib\\site-packages\\ipykernel_launcher.py:1: UserWarning: Boolean Series key will be reindexed to match DataFrame index.\n",
      "  \"\"\"Entry point for launching an IPython kernel.\n"
     ]
    }
   ],
   "source": [
    "NON_PC = NON_PC.append(PC_ONLY[FILTER_IBM_MAINT])"
   ]
  },
  {
   "cell_type": "code",
   "execution_count": 34,
   "metadata": {},
   "outputs": [],
   "source": [
    "PC_ONLY = PC_ONLY.dropna()"
   ]
  },
  {
   "cell_type": "code",
   "execution_count": 35,
   "metadata": {},
   "outputs": [],
   "source": [
    "PC_ONLY.loc[FILTER_PRODUCT_SET,'Equipment type'] = 'MISCELLANEOUS FINANCING'"
   ]
  },
  {
   "cell_type": "code",
   "execution_count": 36,
   "metadata": {},
   "outputs": [],
   "source": [
    "#  Update empty cells on [AC] TO MISCELLANEOUS FINANCING if XOT9 OEM\n",
    "\n",
    "PC_ONLY.loc[(FILTER_XOT9_EMPTY) & (PC_ONLY['BILL TYPE'] == 'TBD'), 'Equipment type'] = 'MISCELLANEOUS FINANCING'"
   ]
  },
  {
   "cell_type": "code",
   "execution_count": 37,
   "metadata": {},
   "outputs": [],
   "source": [
    "PC_ONLY.loc[(FILTER_PPT) & (PC_ONLY['BILL TYPE'] == 'TBD'),'BILL TYPE'] = 'TAXES'"
   ]
  },
  {
   "cell_type": "code",
   "execution_count": 38,
   "metadata": {},
   "outputs": [],
   "source": [
    "PC_ONLY.loc[(FILTER_BUY) & (PC_ONLY['BILL TYPE'] == 'TBD'),'BILL TYPE'] = 'BUY'"
   ]
  },
  {
   "cell_type": "code",
   "execution_count": 39,
   "metadata": {},
   "outputs": [],
   "source": [
    "PC_ONLY.loc[(FILTER_CONC) & (PC_ONLY['BILL TYPE'] == 'TBD'),'BILL TYPE'] = 'REGULAR RENT'\n",
    "PC_ONLY.loc[(FILTER_CONT) & (PC_ONLY['BILL TYPE'] == 'TBD'),'BILL TYPE'] = 'REGULAR RENT'\n",
    "PC_ONLY.loc[(FILTER_EPUR) & (PC_ONLY['BILL TYPE'] == 'TBD'),'BILL TYPE'] = 'REGULAR RENT'"
   ]
  },
  {
   "cell_type": "code",
   "execution_count": 40,
   "metadata": {},
   "outputs": [],
   "source": [
    "PC_ONLY.loc[(FILTER_SS_ETRM) & (PC_ONLY['BILL TYPE'] == 'TBD'),'BILL TYPE'] = 'ETERM'"
   ]
  },
  {
   "cell_type": "code",
   "execution_count": 41,
   "metadata": {},
   "outputs": [],
   "source": [
    "PC_ONLY.loc[(FILTER_REGULAR_PERIODIC) & (PC_ONLY['BILL TYPE'] == 'TBD'),'BILL TYPE'] = 'REGULAR RENT'"
   ]
  },
  {
   "cell_type": "code",
   "execution_count": 42,
   "metadata": {},
   "outputs": [],
   "source": [
    "PC_ONLY.loc[(FILTER_NLOA_NLEASE) & (PC_ONLY['BILL TYPE'] == 'TBD'),'BILL TYPE'] = 'REGULAR RENT'"
   ]
  },
  {
   "cell_type": "code",
   "execution_count": 43,
   "metadata": {},
   "outputs": [
    {
     "name": "stderr",
     "output_type": "stream",
     "text": [
      "C:\\Users\\Pichau\\anaconda3\\lib\\site-packages\\ipykernel_launcher.py:1: UserWarning: Boolean Series key will be reindexed to match DataFrame index.\n",
      "  \"\"\"Entry point for launching an IPython kernel.\n"
     ]
    },
    {
     "data": {
      "text/html": [
       "<div>\n",
       "<style scoped>\n",
       "    .dataframe tbody tr th:only-of-type {\n",
       "        vertical-align: middle;\n",
       "    }\n",
       "\n",
       "    .dataframe tbody tr th {\n",
       "        vertical-align: top;\n",
       "    }\n",
       "\n",
       "    .dataframe thead th {\n",
       "        text-align: right;\n",
       "    }\n",
       "</style>\n",
       "<table border=\"1\" class=\"dataframe\">\n",
       "  <thead>\n",
       "    <tr style=\"text-align: right;\">\n",
       "      <th></th>\n",
       "      <th>Invoice number</th>\n",
       "      <th>Machine type</th>\n",
       "      <th>Equipment type</th>\n",
       "      <th>Sub-status</th>\n",
       "      <th>Payment type</th>\n",
       "      <th>Description</th>\n",
       "      <th>Invoice client reference 1</th>\n",
       "      <th>Invoice date</th>\n",
       "      <th>Total amount due</th>\n",
       "      <th>Invoice number 2</th>\n",
       "      <th>BILL TYPE</th>\n",
       "      <th>To be removed</th>\n",
       "    </tr>\n",
       "  </thead>\n",
       "  <tbody>\n",
       "  </tbody>\n",
       "</table>\n",
       "</div>"
      ],
      "text/plain": [
       "Empty DataFrame\n",
       "Columns: [Invoice number, Machine type, Equipment type, Sub-status, Payment type, Description, Invoice client reference 1, Invoice date, Total amount due, Invoice number 2, BILL TYPE, To be removed]\n",
       "Index: []"
      ]
     },
     "execution_count": 43,
     "metadata": {},
     "output_type": "execute_result"
    }
   ],
   "source": [
    "PC_ONLY[(FILTER_SS_ETRM)&(PC_ONLY['BILL TYPE'] == 'TBD')]\n",
    "\n"
   ]
  },
  {
   "cell_type": "markdown",
   "metadata": {},
   "source": [
    "CRINDO EXCEL XLSX FILE"
   ]
  },
  {
   "cell_type": "code",
   "execution_count": 44,
   "metadata": {},
   "outputs": [],
   "source": [
    "#today = str(date.today())\n"
   ]
  },
  {
   "cell_type": "code",
   "execution_count": 45,
   "metadata": {},
   "outputs": [],
   "source": [
    "file_name = 'PC_ONLY_Pivot.xlsx'"
   ]
  },
  {
   "cell_type": "code",
   "execution_count": 46,
   "metadata": {},
   "outputs": [],
   "source": [
    "#PC_ONLY.to_csv(r'PC_ONLY_'+ today +'.csv')\n",
    "PC_ONLY.to_excel(file_name,index = False)"
   ]
  },
  {
   "cell_type": "code",
   "execution_count": 47,
   "metadata": {},
   "outputs": [
    {
     "data": {
      "text/html": [
       "<div>\n",
       "<style scoped>\n",
       "    .dataframe tbody tr th:only-of-type {\n",
       "        vertical-align: middle;\n",
       "    }\n",
       "\n",
       "    .dataframe tbody tr th {\n",
       "        vertical-align: top;\n",
       "    }\n",
       "\n",
       "    .dataframe thead th {\n",
       "        text-align: right;\n",
       "    }\n",
       "</style>\n",
       "<table border=\"1\" class=\"dataframe\">\n",
       "  <thead>\n",
       "    <tr style=\"text-align: right;\">\n",
       "      <th></th>\n",
       "      <th>Invoice number</th>\n",
       "      <th>Machine type</th>\n",
       "      <th>Equipment type</th>\n",
       "      <th>Sub-status</th>\n",
       "      <th>Payment type</th>\n",
       "      <th>Description</th>\n",
       "      <th>Invoice client reference 1</th>\n",
       "      <th>Invoice date</th>\n",
       "      <th>Total amount due</th>\n",
       "      <th>Invoice number 2</th>\n",
       "      <th>BILL TYPE</th>\n",
       "      <th>To be removed</th>\n",
       "    </tr>\n",
       "  </thead>\n",
       "  <tbody>\n",
       "    <tr>\n",
       "      <th>0</th>\n",
       "      <td>Q5886GH</td>\n",
       "      <td>ZLND</td>\n",
       "      <td>Desktops</td>\n",
       "      <td>ETRM-EARLYTERM</td>\n",
       "      <td>Early Termination/Early Termination of Lease o...</td>\n",
       "      <td>CORE I5 2.9GHZ 4TH GEN 4GB DESKTOP</td>\n",
       "      <td>na</td>\n",
       "      <td>2020-01-05</td>\n",
       "      <td>-17.77</td>\n",
       "      <td>Q5</td>\n",
       "      <td>ETERM</td>\n",
       "      <td></td>\n",
       "    </tr>\n",
       "    <tr>\n",
       "      <th>1</th>\n",
       "      <td>Q5886GH</td>\n",
       "      <td>ZLND</td>\n",
       "      <td>Desktops</td>\n",
       "      <td>ETRM-EARLYTERM</td>\n",
       "      <td>Early Termination/Early Termination of Lease o...</td>\n",
       "      <td>CORE I5 2.9GHZ 4TH GEN 4GB DESKTOP</td>\n",
       "      <td>na</td>\n",
       "      <td>2020-01-05</td>\n",
       "      <td>-15.49</td>\n",
       "      <td>Q5</td>\n",
       "      <td>ETERM</td>\n",
       "      <td></td>\n",
       "    </tr>\n",
       "    <tr>\n",
       "      <th>2</th>\n",
       "      <td>Q5886GH</td>\n",
       "      <td>ZLND</td>\n",
       "      <td>Desktops</td>\n",
       "      <td>ETRM-EARLYTERM</td>\n",
       "      <td>Early Termination/Early Termination of Lease o...</td>\n",
       "      <td>CORE I5 2.9GHZ 4TH GEN 4GB DESKTOP</td>\n",
       "      <td>na</td>\n",
       "      <td>2020-01-05</td>\n",
       "      <td>-13.41</td>\n",
       "      <td>Q5</td>\n",
       "      <td>ETERM</td>\n",
       "      <td></td>\n",
       "    </tr>\n",
       "    <tr>\n",
       "      <th>3</th>\n",
       "      <td>Q5886GH</td>\n",
       "      <td>ZLND</td>\n",
       "      <td>Desktops</td>\n",
       "      <td>ETRM-EARLYTERM</td>\n",
       "      <td>Early Termination/Early Termination of Lease o...</td>\n",
       "      <td>CORE I5 2.9GHZ 4TH GEN 4GB DESKTOP</td>\n",
       "      <td>na</td>\n",
       "      <td>2020-01-05</td>\n",
       "      <td>-12.54</td>\n",
       "      <td>Q5</td>\n",
       "      <td>ETERM</td>\n",
       "      <td></td>\n",
       "    </tr>\n",
       "    <tr>\n",
       "      <th>4</th>\n",
       "      <td>Q5886GH</td>\n",
       "      <td>DELD</td>\n",
       "      <td>Desktops</td>\n",
       "      <td>ETRM-EARLYTERM</td>\n",
       "      <td>Early Termination/Early Termination of Lease o...</td>\n",
       "      <td>CORE I5 3.3GHZ 4TH GEN 4GB DESKTOP 01</td>\n",
       "      <td>na</td>\n",
       "      <td>2020-01-05</td>\n",
       "      <td>-12.51</td>\n",
       "      <td>Q5</td>\n",
       "      <td>ETERM</td>\n",
       "      <td></td>\n",
       "    </tr>\n",
       "    <tr>\n",
       "      <th>...</th>\n",
       "      <td>...</td>\n",
       "      <td>...</td>\n",
       "      <td>...</td>\n",
       "      <td>...</td>\n",
       "      <td>...</td>\n",
       "      <td>...</td>\n",
       "      <td>...</td>\n",
       "      <td>...</td>\n",
       "      <td>...</td>\n",
       "      <td>...</td>\n",
       "      <td>...</td>\n",
       "      <td>...</td>\n",
       "    </tr>\n",
       "    <tr>\n",
       "      <th>96739</th>\n",
       "      <td>QP6365U</td>\n",
       "      <td>DELN</td>\n",
       "      <td>Notebooks</td>\n",
       "      <td>NLSE-NEW LEASE</td>\n",
       "      <td>PPT Recovery: Full Year</td>\n",
       "      <td>CORE I5 2.4GHZ 6TH GEN 8GB NOTEBOOK 15\" - 17\"</td>\n",
       "      <td>na</td>\n",
       "      <td>2020-01-05</td>\n",
       "      <td>17.30</td>\n",
       "      <td>QP</td>\n",
       "      <td>TAXES</td>\n",
       "      <td></td>\n",
       "    </tr>\n",
       "    <tr>\n",
       "      <th>96740</th>\n",
       "      <td>QP6365U</td>\n",
       "      <td>ZLNN</td>\n",
       "      <td>Notebooks</td>\n",
       "      <td>NLSE-NEW LEASE</td>\n",
       "      <td>PPT Recovery: Full Year</td>\n",
       "      <td>CORE I5 2.4GHZ 6TH GEN 16GB NOTEBOOK 11\" - 14\"</td>\n",
       "      <td>na</td>\n",
       "      <td>2020-01-05</td>\n",
       "      <td>17.31</td>\n",
       "      <td>QP</td>\n",
       "      <td>TAXES</td>\n",
       "      <td></td>\n",
       "    </tr>\n",
       "    <tr>\n",
       "      <th>96741</th>\n",
       "      <td>QP6365U</td>\n",
       "      <td>DELN</td>\n",
       "      <td>Notebooks</td>\n",
       "      <td>NLSE-NEW LEASE</td>\n",
       "      <td>PPT Recovery: Full Year</td>\n",
       "      <td>CORE I5 2.4GHZ 6TH GEN 8GB NOTEBOOK 11\" - 14\"</td>\n",
       "      <td>na</td>\n",
       "      <td>2020-01-05</td>\n",
       "      <td>17.32</td>\n",
       "      <td>QP</td>\n",
       "      <td>TAXES</td>\n",
       "      <td></td>\n",
       "    </tr>\n",
       "    <tr>\n",
       "      <th>96742</th>\n",
       "      <td>QP6375U</td>\n",
       "      <td>DELN</td>\n",
       "      <td>Notebooks</td>\n",
       "      <td>NLSE-NEW LEASE</td>\n",
       "      <td>PPT Recovery: Full Year</td>\n",
       "      <td>CORE I5 2.4GHZ 6TH GEN 8GB NOTEBOOK 15\" - 17\"</td>\n",
       "      <td>na</td>\n",
       "      <td>2020-01-05</td>\n",
       "      <td>17.69</td>\n",
       "      <td>QP</td>\n",
       "      <td>TAXES</td>\n",
       "      <td></td>\n",
       "    </tr>\n",
       "    <tr>\n",
       "      <th>96743</th>\n",
       "      <td>QP6385U</td>\n",
       "      <td>DELD</td>\n",
       "      <td>Desktops</td>\n",
       "      <td>CONC-CONCLUDE</td>\n",
       "      <td>PPT Recovery: Full Year</td>\n",
       "      <td>CORE I5 3.3GHZ 4TH GEN 4GB DESKTOP 01</td>\n",
       "      <td>TR</td>\n",
       "      <td>2020-01-05</td>\n",
       "      <td>3.42</td>\n",
       "      <td>QP</td>\n",
       "      <td>TAXES</td>\n",
       "      <td></td>\n",
       "    </tr>\n",
       "  </tbody>\n",
       "</table>\n",
       "<p>89342 rows × 12 columns</p>\n",
       "</div>"
      ],
      "text/plain": [
       "      Invoice number Machine type Equipment type      Sub-status  \\\n",
       "0            Q5886GH         ZLND       Desktops  ETRM-EARLYTERM   \n",
       "1            Q5886GH         ZLND       Desktops  ETRM-EARLYTERM   \n",
       "2            Q5886GH         ZLND       Desktops  ETRM-EARLYTERM   \n",
       "3            Q5886GH         ZLND       Desktops  ETRM-EARLYTERM   \n",
       "4            Q5886GH         DELD       Desktops  ETRM-EARLYTERM   \n",
       "...              ...          ...            ...             ...   \n",
       "96739        QP6365U         DELN      Notebooks  NLSE-NEW LEASE   \n",
       "96740        QP6365U         ZLNN      Notebooks  NLSE-NEW LEASE   \n",
       "96741        QP6365U         DELN      Notebooks  NLSE-NEW LEASE   \n",
       "96742        QP6375U         DELN      Notebooks  NLSE-NEW LEASE   \n",
       "96743        QP6385U         DELD       Desktops   CONC-CONCLUDE   \n",
       "\n",
       "                                            Payment type  \\\n",
       "0      Early Termination/Early Termination of Lease o...   \n",
       "1      Early Termination/Early Termination of Lease o...   \n",
       "2      Early Termination/Early Termination of Lease o...   \n",
       "3      Early Termination/Early Termination of Lease o...   \n",
       "4      Early Termination/Early Termination of Lease o...   \n",
       "...                                                  ...   \n",
       "96739                            PPT Recovery: Full Year   \n",
       "96740                            PPT Recovery: Full Year   \n",
       "96741                            PPT Recovery: Full Year   \n",
       "96742                            PPT Recovery: Full Year   \n",
       "96743                            PPT Recovery: Full Year   \n",
       "\n",
       "                                          Description  \\\n",
       "0                  CORE I5 2.9GHZ 4TH GEN 4GB DESKTOP   \n",
       "1                  CORE I5 2.9GHZ 4TH GEN 4GB DESKTOP   \n",
       "2                  CORE I5 2.9GHZ 4TH GEN 4GB DESKTOP   \n",
       "3                  CORE I5 2.9GHZ 4TH GEN 4GB DESKTOP   \n",
       "4               CORE I5 3.3GHZ 4TH GEN 4GB DESKTOP 01   \n",
       "...                                               ...   \n",
       "96739   CORE I5 2.4GHZ 6TH GEN 8GB NOTEBOOK 15\" - 17\"   \n",
       "96740  CORE I5 2.4GHZ 6TH GEN 16GB NOTEBOOK 11\" - 14\"   \n",
       "96741   CORE I5 2.4GHZ 6TH GEN 8GB NOTEBOOK 11\" - 14\"   \n",
       "96742   CORE I5 2.4GHZ 6TH GEN 8GB NOTEBOOK 15\" - 17\"   \n",
       "96743           CORE I5 3.3GHZ 4TH GEN 4GB DESKTOP 01   \n",
       "\n",
       "      Invoice client reference 1 Invoice date  Total amount due  \\\n",
       "0                             na   2020-01-05            -17.77   \n",
       "1                             na   2020-01-05            -15.49   \n",
       "2                             na   2020-01-05            -13.41   \n",
       "3                             na   2020-01-05            -12.54   \n",
       "4                             na   2020-01-05            -12.51   \n",
       "...                          ...          ...               ...   \n",
       "96739                         na   2020-01-05             17.30   \n",
       "96740                         na   2020-01-05             17.31   \n",
       "96741                         na   2020-01-05             17.32   \n",
       "96742                         na   2020-01-05             17.69   \n",
       "96743                         TR   2020-01-05              3.42   \n",
       "\n",
       "      Invoice number 2 BILL TYPE To be removed  \n",
       "0                   Q5     ETERM                \n",
       "1                   Q5     ETERM                \n",
       "2                   Q5     ETERM                \n",
       "3                   Q5     ETERM                \n",
       "4                   Q5     ETERM                \n",
       "...                ...       ...           ...  \n",
       "96739               QP     TAXES                \n",
       "96740               QP     TAXES                \n",
       "96741               QP     TAXES                \n",
       "96742               QP     TAXES                \n",
       "96743               QP     TAXES                \n",
       "\n",
       "[89342 rows x 12 columns]"
      ]
     },
     "execution_count": 47,
     "metadata": {},
     "output_type": "execute_result"
    }
   ],
   "source": [
    "\n",
    "PC_ONLY\n",
    "    "
   ]
  },
  {
   "cell_type": "code",
   "execution_count": null,
   "metadata": {},
   "outputs": [],
   "source": []
  },
  {
   "cell_type": "code",
   "execution_count": null,
   "metadata": {},
   "outputs": [],
   "source": []
  }
 ],
 "metadata": {
  "kernelspec": {
   "display_name": "Python 3",
   "language": "python",
   "name": "python3"
  },
  "language_info": {
   "codemirror_mode": {
    "name": "ipython",
    "version": 3
   },
   "file_extension": ".py",
   "mimetype": "text/x-python",
   "name": "python",
   "nbconvert_exporter": "python",
   "pygments_lexer": "ipython3",
   "version": "3.7.6"
  }
 },
 "nbformat": 4,
 "nbformat_minor": 4
}
