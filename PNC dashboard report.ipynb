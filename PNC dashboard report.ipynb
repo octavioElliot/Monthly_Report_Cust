{
 "cells": [
  {
   "cell_type": "code",
   "execution_count": 2,
   "metadata": {},
   "outputs": [],
   "source": [
    "#!conda install -c anaconda xlrd --yes"
   ]
  },
  {
   "cell_type": "code",
   "execution_count": null,
   "metadata": {},
   "outputs": [],
   "source": [
    "import pandas as pd\n",
    "from datetime import date"
   ]
  },
  {
   "cell_type": "code",
   "execution_count": 4,
   "metadata": {},
   "outputs": [],
   "source": [
    "df = pd.read_csv(r'Octavio.Elliot@ibm.com_20200109_145314_53_inv1.csv')\n"
   ]
  },
  {
   "cell_type": "code",
   "execution_count": 5,
   "metadata": {},
   "outputs": [],
   "source": [
    "PC_ONLY = df[['Invoice number','Machine type','Equipment type','Sub-status', 'Payment type','Description','Invoice client reference 1','Invoice date','Total amount due']]"
   ]
  },
  {
   "cell_type": "code",
   "execution_count": 6,
   "metadata": {},
   "outputs": [],
   "source": [
    "INVOICE_LIST_REMOVED = ['Q6230GE']"
   ]
  },
  {
   "cell_type": "code",
   "execution_count": 7,
   "metadata": {},
   "outputs": [],
   "source": [
    "rows = PC_ONLY['Invoice number'].count()"
   ]
  },
  {
   "cell_type": "code",
   "execution_count": 8,
   "metadata": {},
   "outputs": [
    {
     "name": "stderr",
     "output_type": "stream",
     "text": [
      "/home/jupyterlab/conda/envs/python/lib/python3.6/site-packages/ipykernel_launcher.py:1: SettingWithCopyWarning: \n",
      "A value is trying to be set on a copy of a slice from a DataFrame.\n",
      "Try using .loc[row_indexer,col_indexer] = value instead\n",
      "\n",
      "See the caveats in the documentation: http://pandas.pydata.org/pandas-docs/stable/user_guide/indexing.html#returning-a-view-versus-a-copy\n",
      "  \"\"\"Entry point for launching an IPython kernel.\n",
      "/home/jupyterlab/conda/envs/python/lib/python3.6/site-packages/ipykernel_launcher.py:2: SettingWithCopyWarning: \n",
      "A value is trying to be set on a copy of a slice from a DataFrame.\n",
      "Try using .loc[row_indexer,col_indexer] = value instead\n",
      "\n",
      "See the caveats in the documentation: http://pandas.pydata.org/pandas-docs/stable/user_guide/indexing.html#returning-a-view-versus-a-copy\n",
      "  \n",
      "/home/jupyterlab/conda/envs/python/lib/python3.6/site-packages/ipykernel_launcher.py:3: SettingWithCopyWarning: \n",
      "A value is trying to be set on a copy of a slice from a DataFrame.\n",
      "Try using .loc[row_indexer,col_indexer] = value instead\n",
      "\n",
      "See the caveats in the documentation: http://pandas.pydata.org/pandas-docs/stable/user_guide/indexing.html#returning-a-view-versus-a-copy\n",
      "  This is separate from the ipykernel package so we can avoid doing imports until\n"
     ]
    }
   ],
   "source": [
    "PC_ONLY['Invoice number 2'] = PC_ONLY['Invoice number']\n",
    "PC_ONLY['BILL TYPE'] = 'TBD'\n",
    "PC_ONLY['To be removed'] = ''"
   ]
  },
  {
   "cell_type": "code",
   "execution_count": 9,
   "metadata": {},
   "outputs": [],
   "source": [
    "for i in range(rows):\n",
    "    PC_ONLY.at[i,'Invoice number 2'] = PC_ONLY.at[i,'Invoice number 2'][:2]\n",
    "    "
   ]
  },
  {
   "cell_type": "code",
   "execution_count": 10,
   "metadata": {},
   "outputs": [
    {
     "name": "stderr",
     "output_type": "stream",
     "text": [
      "/home/jupyterlab/conda/envs/python/lib/python3.6/site-packages/ipykernel_launcher.py:1: SettingWithCopyWarning: \n",
      "A value is trying to be set on a copy of a slice from a DataFrame.\n",
      "Try using .loc[row_indexer,col_indexer] = value instead\n",
      "\n",
      "See the caveats in the documentation: http://pandas.pydata.org/pandas-docs/stable/user_guide/indexing.html#returning-a-view-versus-a-copy\n",
      "  \"\"\"Entry point for launching an IPython kernel.\n"
     ]
    }
   ],
   "source": [
    "PC_ONLY[\"Invoice client reference 1\"]= PC_ONLY[\"Invoice client reference 1\"].astype(str)"
   ]
  },
  {
   "cell_type": "code",
   "execution_count": 11,
   "metadata": {},
   "outputs": [],
   "source": [
    "for i in range(rows):\n",
    "    PC_ONLY.at[i,'Invoice client reference 1'] = PC_ONLY.at[i,'Invoice client reference 1'][:2]"
   ]
  },
  {
   "cell_type": "code",
   "execution_count": 12,
   "metadata": {},
   "outputs": [],
   "source": [
    "# creating the filters taht will be used\n",
    "\n",
    "FILTER_LPF = (PC_ONLY['Payment type']=='Late Payment Fee')\n",
    "FILTER_DAMAGE = (PC_ONLY[\"Invoice number 2\"] == \"QC\")\n",
    "FILTER_RECYLCLYNG_FEE = (PC_ONLY['Payment type'] == 'STATE RECYCLING FEE (FOR BATCH JOBS)')\n",
    "FILTER_CMOS = (PC_ONLY['Equipment type'] == 'Storage')\n",
    "FILTER_STORAGE = (PC_ONLY['Equipment type']=='CMOS Processors')\n",
    "\n",
    "\n",
    "FILTER_PRODUCT_SET = (PC_ONLY['Equipment type'] == 'PC Product Set')\n",
    "FILTER_IBM_MAINT = (PC_ONLY['Description'] == 'IBM PREPAID MAINTENANCE')\n",
    "\n",
    "FILTER_XOT9_EMPTY = (PC_ONLY['Machine type'] == \"XOT9\") # &  pd.isnull(df['Equipment type'])\n",
    "\n",
    "FILTER_PPT = (PC_ONLY['Payment type'] == 'PPT Recovery: Full Year') # & (PC_ONLY['BILL TYPE'] == '')\n",
    "FILTER_BUY = (PC_ONLY['Sub-status'] == 'BUY-BUYOUT') # & (PC_ONLY['BILL TYPE'] == '')\n",
    "\n",
    "FILTER_CONC = (PC_ONLY['Sub-status'] == 'CONC-CONCLUDE') # & (PC_ONLY['BILL TYPE'] == '')\n",
    "FILTER_CONT = (PC_ONLY['Sub-status'] == 'CONT-CONTINUATION') # & (PC_ONLY['BILL TYPE'] == '')\n",
    "\n",
    "\n",
    "\n",
    "FILTER_EPUR = (PC_ONLY['Sub-status'] == 'EPUR-PURCHASE')  # & (PC_ONLY['BILL TYPE'] == '')\n",
    "\n",
    "FILTER_SS_ETRM = (PC_ONLY['Sub-status'] =='ETRM-EARLYTERM') | (PC_ONLY['Payment type'] == 'Early Termination/Early Termination of Lease of Lease')\n",
    "\n",
    "\n",
    "FILTER_REGULAR_PERIODIC = (PC_ONLY['Payment type'] == 'Regular Periodic Invoice-Payment in Advance') # & (PC_ONLY['BILL TYPE'] == '')\n",
    "\n",
    "FILTER_NLOA_NLEASE = (PC_ONLY['Sub-status'] == 'NLOA-NEW LOAN') | (PC_ONLY['Sub-status'] == 'NLSE-NEW LEASE') # & (PC_ONLY['BILL TYPE'] == '')\n",
    "\n",
    "FILTER_ONE_OFF = (PC_ONLY['Invoice client reference 1']=='OL') | (PC_ONLY['Invoice client reference 1']=='OI')\n",
    "\n"
   ]
  },
  {
   "cell_type": "markdown",
   "metadata": {},
   "source": [
    "# Notacao para filtro duplo\n",
    "DOUBLE FILTER = PC_ONLY[(PC_ONLY[\"Equipment type\"] == \"PC Product Set\") & (PC_ONLY[\"Payment type\"] == \"PPT Recovery: Full Year\")]\n",
    "PC_ONLY[(FILTER_PRODUCT_SET) & (FILTER_PPT)]\n",
    "\n",
    "PC_ONLY.loc[(FILTER_CONT) & (FILTER_BT_EMPTY),'BILL TYPE'] = \"s\""
   ]
  },
  {
   "cell_type": "code",
   "execution_count": 13,
   "metadata": {},
   "outputs": [],
   "source": [
    "LPF = PC_ONLY[FILTER_LPF]"
   ]
  },
  {
   "cell_type": "code",
   "execution_count": 14,
   "metadata": {},
   "outputs": [
    {
     "data": {
      "text/html": [
       "<div>\n",
       "<style scoped>\n",
       "    .dataframe tbody tr th:only-of-type {\n",
       "        vertical-align: middle;\n",
       "    }\n",
       "\n",
       "    .dataframe tbody tr th {\n",
       "        vertical-align: top;\n",
       "    }\n",
       "\n",
       "    .dataframe thead th {\n",
       "        text-align: right;\n",
       "    }\n",
       "</style>\n",
       "<table border=\"1\" class=\"dataframe\">\n",
       "  <thead>\n",
       "    <tr style=\"text-align: right;\">\n",
       "      <th></th>\n",
       "      <th>Invoice number</th>\n",
       "      <th>Machine type</th>\n",
       "      <th>Equipment type</th>\n",
       "      <th>Sub-status</th>\n",
       "      <th>Payment type</th>\n",
       "      <th>Description</th>\n",
       "      <th>Invoice client reference 1</th>\n",
       "      <th>Invoice date</th>\n",
       "      <th>Total amount due</th>\n",
       "      <th>Invoice number 2</th>\n",
       "      <th>BILL TYPE</th>\n",
       "      <th>To be removed</th>\n",
       "    </tr>\n",
       "  </thead>\n",
       "  <tbody>\n",
       "    <tr>\n",
       "      <th>105000</th>\n",
       "      <td>Q6591GF</td>\n",
       "      <td>9OT9</td>\n",
       "      <td>MISCELLANEOUS FINANCING</td>\n",
       "      <td>NLOA-NEW LOAN</td>\n",
       "      <td>Regular Periodic Invoice-Payment in Arrears</td>\n",
       "      <td>Regular Periodic Invoice-Payment in Arrears</td>\n",
       "      <td>OL</td>\n",
       "      <td>43831</td>\n",
       "      <td>22.90</td>\n",
       "      <td>Q6</td>\n",
       "      <td>TBD</td>\n",
       "      <td></td>\n",
       "    </tr>\n",
       "    <tr>\n",
       "      <th>105001</th>\n",
       "      <td>Q6591GF</td>\n",
       "      <td>9OT9</td>\n",
       "      <td>MISCELLANEOUS FINANCING</td>\n",
       "      <td>NLOA-NEW LOAN</td>\n",
       "      <td>Regular Periodic Invoice-Payment in Arrears</td>\n",
       "      <td>Regular Periodic Invoice-Payment in Arrears</td>\n",
       "      <td>OL</td>\n",
       "      <td>43831</td>\n",
       "      <td>22.90</td>\n",
       "      <td>Q6</td>\n",
       "      <td>TBD</td>\n",
       "      <td></td>\n",
       "    </tr>\n",
       "    <tr>\n",
       "      <th>105002</th>\n",
       "      <td>Q6591GF</td>\n",
       "      <td>9MT3</td>\n",
       "      <td>PC Product Set</td>\n",
       "      <td>NLOA-NEW LOAN</td>\n",
       "      <td>Regular Periodic Invoice-Payment in Arrears</td>\n",
       "      <td>Regular Periodic Invoice-Payment in Arrears</td>\n",
       "      <td>OL</td>\n",
       "      <td>43831</td>\n",
       "      <td>1266.04</td>\n",
       "      <td>Q6</td>\n",
       "      <td>TBD</td>\n",
       "      <td></td>\n",
       "    </tr>\n",
       "    <tr>\n",
       "      <th>105003</th>\n",
       "      <td>Q6591GF</td>\n",
       "      <td>9OT9</td>\n",
       "      <td>MISCELLANEOUS FINANCING</td>\n",
       "      <td>NLOA-NEW LOAN</td>\n",
       "      <td>Regular Periodic Invoice-Payment in Arrears</td>\n",
       "      <td>Regular Periodic Invoice-Payment in Arrears</td>\n",
       "      <td>OL</td>\n",
       "      <td>43831</td>\n",
       "      <td>22.90</td>\n",
       "      <td>Q6</td>\n",
       "      <td>TBD</td>\n",
       "      <td></td>\n",
       "    </tr>\n",
       "    <tr>\n",
       "      <th>105004</th>\n",
       "      <td>Q6591GF</td>\n",
       "      <td>9OT9</td>\n",
       "      <td>MISCELLANEOUS FINANCING</td>\n",
       "      <td>NLOA-NEW LOAN</td>\n",
       "      <td>Regular Periodic Invoice-Payment in Arrears</td>\n",
       "      <td>Regular Periodic Invoice-Payment in Arrears</td>\n",
       "      <td>OL</td>\n",
       "      <td>43831</td>\n",
       "      <td>22.90</td>\n",
       "      <td>Q6</td>\n",
       "      <td>TBD</td>\n",
       "      <td></td>\n",
       "    </tr>\n",
       "    <tr>\n",
       "      <th>...</th>\n",
       "      <td>...</td>\n",
       "      <td>...</td>\n",
       "      <td>...</td>\n",
       "      <td>...</td>\n",
       "      <td>...</td>\n",
       "      <td>...</td>\n",
       "      <td>...</td>\n",
       "      <td>...</td>\n",
       "      <td>...</td>\n",
       "      <td>...</td>\n",
       "      <td>...</td>\n",
       "      <td>...</td>\n",
       "    </tr>\n",
       "    <tr>\n",
       "      <th>105065</th>\n",
       "      <td>Q6591GF</td>\n",
       "      <td>3957</td>\n",
       "      <td>Storage</td>\n",
       "      <td>NLSE-NEW LEASE</td>\n",
       "      <td>Regular Periodic Invoice-Payment in Arrears</td>\n",
       "      <td>Regular Periodic Invoice-Payment in Arrears</td>\n",
       "      <td>OL</td>\n",
       "      <td>43831</td>\n",
       "      <td>9273.36</td>\n",
       "      <td>Q6</td>\n",
       "      <td>TBD</td>\n",
       "      <td></td>\n",
       "    </tr>\n",
       "    <tr>\n",
       "      <th>105066</th>\n",
       "      <td>Q6591GF</td>\n",
       "      <td>3957</td>\n",
       "      <td>Storage</td>\n",
       "      <td>NLSE-NEW LEASE</td>\n",
       "      <td>Regular Periodic Invoice-Payment in Arrears</td>\n",
       "      <td>Regular Periodic Invoice-Payment in Arrears</td>\n",
       "      <td>OL</td>\n",
       "      <td>43831</td>\n",
       "      <td>3223.90</td>\n",
       "      <td>Q6</td>\n",
       "      <td>TBD</td>\n",
       "      <td></td>\n",
       "    </tr>\n",
       "    <tr>\n",
       "      <th>105067</th>\n",
       "      <td>Q6591GF</td>\n",
       "      <td>3957</td>\n",
       "      <td>Storage</td>\n",
       "      <td>NLSE-NEW LEASE</td>\n",
       "      <td>Regular Periodic Invoice-Payment in Arrears</td>\n",
       "      <td>Regular Periodic Invoice-Payment in Arrears</td>\n",
       "      <td>OL</td>\n",
       "      <td>43831</td>\n",
       "      <td>3223.90</td>\n",
       "      <td>Q6</td>\n",
       "      <td>TBD</td>\n",
       "      <td></td>\n",
       "    </tr>\n",
       "    <tr>\n",
       "      <th>105068</th>\n",
       "      <td>Q6591GF</td>\n",
       "      <td>3957</td>\n",
       "      <td>Storage</td>\n",
       "      <td>NLSE-NEW LEASE</td>\n",
       "      <td>Regular Periodic Invoice-Payment in Arrears</td>\n",
       "      <td>Regular Periodic Invoice-Payment in Arrears</td>\n",
       "      <td>OL</td>\n",
       "      <td>43831</td>\n",
       "      <td>3223.90</td>\n",
       "      <td>Q6</td>\n",
       "      <td>TBD</td>\n",
       "      <td></td>\n",
       "    </tr>\n",
       "    <tr>\n",
       "      <th>105069</th>\n",
       "      <td>Q6591GF</td>\n",
       "      <td>3957</td>\n",
       "      <td>Storage</td>\n",
       "      <td>NLSE-NEW LEASE</td>\n",
       "      <td>Regular Periodic Invoice-Payment in Arrears</td>\n",
       "      <td>Regular Periodic Invoice-Payment in Arrears</td>\n",
       "      <td>OL</td>\n",
       "      <td>43831</td>\n",
       "      <td>3223.90</td>\n",
       "      <td>Q6</td>\n",
       "      <td>TBD</td>\n",
       "      <td></td>\n",
       "    </tr>\n",
       "  </tbody>\n",
       "</table>\n",
       "<p>70 rows × 12 columns</p>\n",
       "</div>"
      ],
      "text/plain": [
       "       Invoice number Machine type           Equipment type      Sub-status  \\\n",
       "105000        Q6591GF         9OT9  MISCELLANEOUS FINANCING   NLOA-NEW LOAN   \n",
       "105001        Q6591GF         9OT9  MISCELLANEOUS FINANCING   NLOA-NEW LOAN   \n",
       "105002        Q6591GF         9MT3           PC Product Set   NLOA-NEW LOAN   \n",
       "105003        Q6591GF         9OT9  MISCELLANEOUS FINANCING   NLOA-NEW LOAN   \n",
       "105004        Q6591GF         9OT9  MISCELLANEOUS FINANCING   NLOA-NEW LOAN   \n",
       "...               ...          ...                      ...             ...   \n",
       "105065        Q6591GF         3957                  Storage  NLSE-NEW LEASE   \n",
       "105066        Q6591GF         3957                  Storage  NLSE-NEW LEASE   \n",
       "105067        Q6591GF         3957                  Storage  NLSE-NEW LEASE   \n",
       "105068        Q6591GF         3957                  Storage  NLSE-NEW LEASE   \n",
       "105069        Q6591GF         3957                  Storage  NLSE-NEW LEASE   \n",
       "\n",
       "                                       Payment type  \\\n",
       "105000  Regular Periodic Invoice-Payment in Arrears   \n",
       "105001  Regular Periodic Invoice-Payment in Arrears   \n",
       "105002  Regular Periodic Invoice-Payment in Arrears   \n",
       "105003  Regular Periodic Invoice-Payment in Arrears   \n",
       "105004  Regular Periodic Invoice-Payment in Arrears   \n",
       "...                                             ...   \n",
       "105065  Regular Periodic Invoice-Payment in Arrears   \n",
       "105066  Regular Periodic Invoice-Payment in Arrears   \n",
       "105067  Regular Periodic Invoice-Payment in Arrears   \n",
       "105068  Regular Periodic Invoice-Payment in Arrears   \n",
       "105069  Regular Periodic Invoice-Payment in Arrears   \n",
       "\n",
       "                                        Description  \\\n",
       "105000  Regular Periodic Invoice-Payment in Arrears   \n",
       "105001  Regular Periodic Invoice-Payment in Arrears   \n",
       "105002  Regular Periodic Invoice-Payment in Arrears   \n",
       "105003  Regular Periodic Invoice-Payment in Arrears   \n",
       "105004  Regular Periodic Invoice-Payment in Arrears   \n",
       "...                                             ...   \n",
       "105065  Regular Periodic Invoice-Payment in Arrears   \n",
       "105066  Regular Periodic Invoice-Payment in Arrears   \n",
       "105067  Regular Periodic Invoice-Payment in Arrears   \n",
       "105068  Regular Periodic Invoice-Payment in Arrears   \n",
       "105069  Regular Periodic Invoice-Payment in Arrears   \n",
       "\n",
       "       Invoice client reference 1  Invoice date  Total amount due  \\\n",
       "105000                         OL         43831             22.90   \n",
       "105001                         OL         43831             22.90   \n",
       "105002                         OL         43831           1266.04   \n",
       "105003                         OL         43831             22.90   \n",
       "105004                         OL         43831             22.90   \n",
       "...                           ...           ...               ...   \n",
       "105065                         OL         43831           9273.36   \n",
       "105066                         OL         43831           3223.90   \n",
       "105067                         OL         43831           3223.90   \n",
       "105068                         OL         43831           3223.90   \n",
       "105069                         OL         43831           3223.90   \n",
       "\n",
       "       Invoice number 2 BILL TYPE To be removed  \n",
       "105000               Q6       TBD                \n",
       "105001               Q6       TBD                \n",
       "105002               Q6       TBD                \n",
       "105003               Q6       TBD                \n",
       "105004               Q6       TBD                \n",
       "...                 ...       ...           ...  \n",
       "105065               Q6       TBD                \n",
       "105066               Q6       TBD                \n",
       "105067               Q6       TBD                \n",
       "105068               Q6       TBD                \n",
       "105069               Q6       TBD                \n",
       "\n",
       "[70 rows x 12 columns]"
      ]
     },
     "execution_count": 14,
     "metadata": {},
     "output_type": "execute_result"
    }
   ],
   "source": [
    "PC_ONLY[PC_ONLY['Invoice number']=='Q6591GF']"
   ]
  },
  {
   "cell_type": "code",
   "execution_count": 15,
   "metadata": {},
   "outputs": [],
   "source": [
    "NON_PC = PC_ONLY[FILTER_DAMAGE]"
   ]
  },
  {
   "cell_type": "code",
   "execution_count": 16,
   "metadata": {},
   "outputs": [
    {
     "name": "stderr",
     "output_type": "stream",
     "text": [
      "/home/jupyterlab/conda/envs/python/lib/python3.6/site-packages/pandas/core/indexing.py:494: SettingWithCopyWarning: \n",
      "A value is trying to be set on a copy of a slice from a DataFrame.\n",
      "Try using .loc[row_indexer,col_indexer] = value instead\n",
      "\n",
      "See the caveats in the documentation: http://pandas.pydata.org/pandas-docs/stable/user_guide/indexing.html#returning-a-view-versus-a-copy\n",
      "  self.obj[item] = s\n"
     ]
    }
   ],
   "source": [
    "PC_ONLY.loc[FILTER_LPF, 'To be removed'] = 'NaN'"
   ]
  },
  {
   "cell_type": "code",
   "execution_count": 17,
   "metadata": {},
   "outputs": [],
   "source": [
    "PC_ONLY.loc[FILTER_DAMAGE, 'To be removed'] = 'NaN'"
   ]
  },
  {
   "cell_type": "code",
   "execution_count": 18,
   "metadata": {},
   "outputs": [],
   "source": [
    "PC_ONLY.loc[FILTER_ONE_OFF, 'To be removed'] = 'NaN'"
   ]
  },
  {
   "cell_type": "code",
   "execution_count": 19,
   "metadata": {},
   "outputs": [],
   "source": [
    "PC_ONLY.loc[(FILTER_RECYLCLYNG_FEE) & (PC_ONLY['BILL TYPE'] == 'TBD'),'BILL TYPE']= 'Recycle'"
   ]
  },
  {
   "cell_type": "code",
   "execution_count": 20,
   "metadata": {},
   "outputs": [],
   "source": [
    "PC_ONLY.loc[FILTER_CMOS,'To be removed'] = 'NaN'"
   ]
  },
  {
   "cell_type": "code",
   "execution_count": 21,
   "metadata": {},
   "outputs": [],
   "source": [
    "PC_ONLY.loc[FILTER_STORAGE,'To be removed'] = 'NaN'"
   ]
  },
  {
   "cell_type": "code",
   "execution_count": 22,
   "metadata": {},
   "outputs": [],
   "source": [
    "PC_ONLY.loc[FILTER_IBM_MAINT,'To be removed'] = 'NaN'"
   ]
  },
  {
   "cell_type": "code",
   "execution_count": 23,
   "metadata": {},
   "outputs": [],
   "source": [
    "PC_ONLY = PC_ONLY[PC_ONLY['To be removed']!= 'NaN']"
   ]
  },
  {
   "cell_type": "code",
   "execution_count": 24,
   "metadata": {},
   "outputs": [],
   "source": [
    "for invoice in INVOICE_LIST_REMOVED:\n",
    "    NON_PC = NON_PC.append(PC_ONLY[PC_ONLY['Invoice number'] == invoice])\n",
    "    PC_ONLY.loc[PC_ONLY['Invoice number'] == invoice,'To be removed'] = 'NaN'\n",
    "\n"
   ]
  },
  {
   "cell_type": "code",
   "execution_count": 25,
   "metadata": {},
   "outputs": [
    {
     "data": {
      "text/plain": [
       "['Q6230GE']"
      ]
     },
     "execution_count": 25,
     "metadata": {},
     "output_type": "execute_result"
    }
   ],
   "source": [
    "INVOICE_LIST_REMOVED"
   ]
  },
  {
   "cell_type": "code",
   "execution_count": 26,
   "metadata": {},
   "outputs": [
    {
     "name": "stderr",
     "output_type": "stream",
     "text": [
      "/home/jupyterlab/conda/envs/python/lib/python3.6/site-packages/ipykernel_launcher.py:1: UserWarning: Boolean Series key will be reindexed to match DataFrame index.\n",
      "  \"\"\"Entry point for launching an IPython kernel.\n"
     ]
    }
   ],
   "source": [
    "NON_PC = NON_PC.append(PC_ONLY[FILTER_ONE_OFF])"
   ]
  },
  {
   "cell_type": "code",
   "execution_count": 27,
   "metadata": {},
   "outputs": [
    {
     "name": "stderr",
     "output_type": "stream",
     "text": [
      "/home/jupyterlab/conda/envs/python/lib/python3.6/site-packages/ipykernel_launcher.py:1: UserWarning: Boolean Series key will be reindexed to match DataFrame index.\n",
      "  \"\"\"Entry point for launching an IPython kernel.\n"
     ]
    }
   ],
   "source": [
    "NON_PC = NON_PC.append(PC_ONLY[FILTER_CMOS])"
   ]
  },
  {
   "cell_type": "code",
   "execution_count": 28,
   "metadata": {},
   "outputs": [
    {
     "name": "stderr",
     "output_type": "stream",
     "text": [
      "/home/jupyterlab/conda/envs/python/lib/python3.6/site-packages/ipykernel_launcher.py:1: UserWarning: Boolean Series key will be reindexed to match DataFrame index.\n",
      "  \"\"\"Entry point for launching an IPython kernel.\n"
     ]
    }
   ],
   "source": [
    "NON_PC = NON_PC.append(PC_ONLY[FILTER_STORAGE])"
   ]
  },
  {
   "cell_type": "code",
   "execution_count": 29,
   "metadata": {},
   "outputs": [
    {
     "name": "stderr",
     "output_type": "stream",
     "text": [
      "/home/jupyterlab/conda/envs/python/lib/python3.6/site-packages/ipykernel_launcher.py:1: UserWarning: Boolean Series key will be reindexed to match DataFrame index.\n",
      "  \"\"\"Entry point for launching an IPython kernel.\n"
     ]
    }
   ],
   "source": [
    "NON_PC = NON_PC.append(PC_ONLY[FILTER_IBM_MAINT])"
   ]
  },
  {
   "cell_type": "code",
   "execution_count": 30,
   "metadata": {},
   "outputs": [],
   "source": [
    "PC_ONLY = PC_ONLY.dropna()"
   ]
  },
  {
   "cell_type": "code",
   "execution_count": 31,
   "metadata": {},
   "outputs": [],
   "source": [
    "PC_ONLY.loc[FILTER_PRODUCT_SET,'Equipment type'] = 'MISCELLANEOUS FINANCING'"
   ]
  },
  {
   "cell_type": "code",
   "execution_count": 32,
   "metadata": {},
   "outputs": [],
   "source": [
    "#  Update empty cells on [AC] TO MISCELLANEOUS FINANCING if XOT9 OEM\n",
    "\n",
    "PC_ONLY.loc[(FILTER_XOT9_EMPTY) & (PC_ONLY['BILL TYPE'] == 'TBD'), 'Equipment type'] = 'MISCELLANEOUS FINANCING'"
   ]
  },
  {
   "cell_type": "code",
   "execution_count": 33,
   "metadata": {},
   "outputs": [],
   "source": [
    "PC_ONLY.loc[(FILTER_PPT) & (PC_ONLY['BILL TYPE'] == 'TBD'),'BILL TYPE'] = 'TAXES'"
   ]
  },
  {
   "cell_type": "code",
   "execution_count": 34,
   "metadata": {},
   "outputs": [],
   "source": [
    "PC_ONLY.loc[(FILTER_BUY) & (PC_ONLY['BILL TYPE'] == 'TBD'),'BILL TYPE'] = 'BUY'"
   ]
  },
  {
   "cell_type": "code",
   "execution_count": 35,
   "metadata": {},
   "outputs": [],
   "source": [
    "PC_ONLY.loc[(FILTER_CONC) & (PC_ONLY['BILL TYPE'] == 'TBD'),'BILL TYPE'] = 'REGULAR RENT'\n",
    "PC_ONLY.loc[(FILTER_CONT) & (PC_ONLY['BILL TYPE'] == 'TBD'),'BILL TYPE'] = 'REGULAR RENT'\n",
    "PC_ONLY.loc[(FILTER_EPUR) & (PC_ONLY['BILL TYPE'] == 'TBD'),'BILL TYPE'] = 'REGULAR RENT'"
   ]
  },
  {
   "cell_type": "code",
   "execution_count": 36,
   "metadata": {},
   "outputs": [],
   "source": [
    "PC_ONLY.loc[(FILTER_SS_ETRM) & (PC_ONLY['BILL TYPE'] == 'TBD'),'BILL TYPE'] = 'ETERM'"
   ]
  },
  {
   "cell_type": "code",
   "execution_count": 37,
   "metadata": {},
   "outputs": [],
   "source": [
    "PC_ONLY.loc[(FILTER_REGULAR_PERIODIC) & (PC_ONLY['BILL TYPE'] == 'TBD'),'BILL TYPE'] = 'REGULAR RENT'"
   ]
  },
  {
   "cell_type": "code",
   "execution_count": 38,
   "metadata": {},
   "outputs": [],
   "source": [
    "PC_ONLY.loc[(FILTER_NLOA_NLEASE) & (PC_ONLY['BILL TYPE'] == 'TBD'),'BILL TYPE'] = 'REGULAR RENT'"
   ]
  },
  {
   "cell_type": "code",
   "execution_count": 39,
   "metadata": {},
   "outputs": [
    {
     "name": "stderr",
     "output_type": "stream",
     "text": [
      "/home/jupyterlab/conda/envs/python/lib/python3.6/site-packages/ipykernel_launcher.py:1: UserWarning: Boolean Series key will be reindexed to match DataFrame index.\n",
      "  \"\"\"Entry point for launching an IPython kernel.\n"
     ]
    },
    {
     "data": {
      "text/html": [
       "<div>\n",
       "<style scoped>\n",
       "    .dataframe tbody tr th:only-of-type {\n",
       "        vertical-align: middle;\n",
       "    }\n",
       "\n",
       "    .dataframe tbody tr th {\n",
       "        vertical-align: top;\n",
       "    }\n",
       "\n",
       "    .dataframe thead th {\n",
       "        text-align: right;\n",
       "    }\n",
       "</style>\n",
       "<table border=\"1\" class=\"dataframe\">\n",
       "  <thead>\n",
       "    <tr style=\"text-align: right;\">\n",
       "      <th></th>\n",
       "      <th>Invoice number</th>\n",
       "      <th>Machine type</th>\n",
       "      <th>Equipment type</th>\n",
       "      <th>Sub-status</th>\n",
       "      <th>Payment type</th>\n",
       "      <th>Description</th>\n",
       "      <th>Invoice client reference 1</th>\n",
       "      <th>Invoice date</th>\n",
       "      <th>Total amount due</th>\n",
       "      <th>Invoice number 2</th>\n",
       "      <th>BILL TYPE</th>\n",
       "      <th>To be removed</th>\n",
       "    </tr>\n",
       "  </thead>\n",
       "  <tbody>\n",
       "  </tbody>\n",
       "</table>\n",
       "</div>"
      ],
      "text/plain": [
       "Empty DataFrame\n",
       "Columns: [Invoice number, Machine type, Equipment type, Sub-status, Payment type, Description, Invoice client reference 1, Invoice date, Total amount due, Invoice number 2, BILL TYPE, To be removed]\n",
       "Index: []"
      ]
     },
     "execution_count": 39,
     "metadata": {},
     "output_type": "execute_result"
    }
   ],
   "source": [
    "PC_ONLY[(FILTER_SS_ETRM)&(PC_ONLY['BILL TYPE'] == 'TBD')]\n",
    "\n"
   ]
  },
  {
   "cell_type": "code",
   "execution_count": 40,
   "metadata": {},
   "outputs": [],
   "source": [
    "PC_PIVOT = pd.pivot_table(PC_ONLY,index=['Invoice number','Invoice date'],values=['Total amount due'])"
   ]
  },
  {
   "cell_type": "code",
   "execution_count": 41,
   "metadata": {},
   "outputs": [],
   "source": [
    "today = str(date.today())"
   ]
  },
  {
   "cell_type": "code",
   "execution_count": 42,
   "metadata": {},
   "outputs": [],
   "source": [
    "PC_ONLY.to_csv(r'PC_ONLY_'+ today +'.csv')"
   ]
  },
  {
   "cell_type": "code",
   "execution_count": 43,
   "metadata": {},
   "outputs": [
    {
     "data": {
      "text/html": [
       "<div>\n",
       "<style scoped>\n",
       "    .dataframe tbody tr th:only-of-type {\n",
       "        vertical-align: middle;\n",
       "    }\n",
       "\n",
       "    .dataframe tbody tr th {\n",
       "        vertical-align: top;\n",
       "    }\n",
       "\n",
       "    .dataframe thead th {\n",
       "        text-align: right;\n",
       "    }\n",
       "</style>\n",
       "<table border=\"1\" class=\"dataframe\">\n",
       "  <thead>\n",
       "    <tr style=\"text-align: right;\">\n",
       "      <th></th>\n",
       "      <th>Invoice number</th>\n",
       "      <th>Machine type</th>\n",
       "      <th>Equipment type</th>\n",
       "      <th>Sub-status</th>\n",
       "      <th>Payment type</th>\n",
       "      <th>Description</th>\n",
       "      <th>Invoice client reference 1</th>\n",
       "      <th>Invoice date</th>\n",
       "      <th>Total amount due</th>\n",
       "      <th>Invoice number 2</th>\n",
       "      <th>BILL TYPE</th>\n",
       "      <th>To be removed</th>\n",
       "    </tr>\n",
       "  </thead>\n",
       "  <tbody>\n",
       "    <tr>\n",
       "      <th>0</th>\n",
       "      <td>Q5394GF</td>\n",
       "      <td>DELN</td>\n",
       "      <td>Notebooks</td>\n",
       "      <td>ETRM-EARLYTERM</td>\n",
       "      <td>Early Termination/Early Termination of Lease o...</td>\n",
       "      <td>Early Termination/Early Termination of Lease o...</td>\n",
       "      <td>na</td>\n",
       "      <td>43831</td>\n",
       "      <td>-33.08</td>\n",
       "      <td>Q5</td>\n",
       "      <td>ETERM</td>\n",
       "      <td></td>\n",
       "    </tr>\n",
       "    <tr>\n",
       "      <th>1</th>\n",
       "      <td>Q5394GF</td>\n",
       "      <td>DELN</td>\n",
       "      <td>Notebooks</td>\n",
       "      <td>ETRM-EARLYTERM</td>\n",
       "      <td>Early Termination/Early Termination of Lease o...</td>\n",
       "      <td>Early Termination/Early Termination of Lease o...</td>\n",
       "      <td>na</td>\n",
       "      <td>43831</td>\n",
       "      <td>-20.79</td>\n",
       "      <td>Q5</td>\n",
       "      <td>ETERM</td>\n",
       "      <td></td>\n",
       "    </tr>\n",
       "    <tr>\n",
       "      <th>2</th>\n",
       "      <td>Q5394GF</td>\n",
       "      <td>DELN</td>\n",
       "      <td>Notebooks</td>\n",
       "      <td>ETRM-EARLYTERM</td>\n",
       "      <td>Early Termination/Early Termination of Lease o...</td>\n",
       "      <td>Early Termination/Early Termination of Lease o...</td>\n",
       "      <td>na</td>\n",
       "      <td>43831</td>\n",
       "      <td>-19.57</td>\n",
       "      <td>Q5</td>\n",
       "      <td>ETERM</td>\n",
       "      <td></td>\n",
       "    </tr>\n",
       "    <tr>\n",
       "      <th>3</th>\n",
       "      <td>Q5394GF</td>\n",
       "      <td>DELN</td>\n",
       "      <td>Notebooks</td>\n",
       "      <td>ETRM-EARLYTERM</td>\n",
       "      <td>Early Termination/Early Termination of Lease o...</td>\n",
       "      <td>Early Termination/Early Termination of Lease o...</td>\n",
       "      <td>na</td>\n",
       "      <td>43831</td>\n",
       "      <td>-19.21</td>\n",
       "      <td>Q5</td>\n",
       "      <td>ETERM</td>\n",
       "      <td></td>\n",
       "    </tr>\n",
       "    <tr>\n",
       "      <th>4</th>\n",
       "      <td>Q5394GF</td>\n",
       "      <td>DELN</td>\n",
       "      <td>Notebooks</td>\n",
       "      <td>ETRM-EARLYTERM</td>\n",
       "      <td>Early Termination/Early Termination of Lease o...</td>\n",
       "      <td>Early Termination/Early Termination of Lease o...</td>\n",
       "      <td>na</td>\n",
       "      <td>43831</td>\n",
       "      <td>-19.64</td>\n",
       "      <td>Q5</td>\n",
       "      <td>ETERM</td>\n",
       "      <td></td>\n",
       "    </tr>\n",
       "    <tr>\n",
       "      <th>...</th>\n",
       "      <td>...</td>\n",
       "      <td>...</td>\n",
       "      <td>...</td>\n",
       "      <td>...</td>\n",
       "      <td>...</td>\n",
       "      <td>...</td>\n",
       "      <td>...</td>\n",
       "      <td>...</td>\n",
       "      <td>...</td>\n",
       "      <td>...</td>\n",
       "      <td>...</td>\n",
       "      <td>...</td>\n",
       "    </tr>\n",
       "    <tr>\n",
       "      <th>109264</th>\n",
       "      <td>QP6335A</td>\n",
       "      <td>DELN</td>\n",
       "      <td>Notebooks</td>\n",
       "      <td>CONC-CONCLUDE</td>\n",
       "      <td>PPT Recovery: Full Year</td>\n",
       "      <td>PPT Recovery: Full Year</td>\n",
       "      <td>TR</td>\n",
       "      <td>43831</td>\n",
       "      <td>4.12</td>\n",
       "      <td>QP</td>\n",
       "      <td>TAXES</td>\n",
       "      <td></td>\n",
       "    </tr>\n",
       "    <tr>\n",
       "      <th>109265</th>\n",
       "      <td>QP6335A</td>\n",
       "      <td>DELN</td>\n",
       "      <td>Notebooks</td>\n",
       "      <td>EPUR-PURCHASE</td>\n",
       "      <td>PPT Recovery: Full Year</td>\n",
       "      <td>PPT Recovery: Full Year</td>\n",
       "      <td>TR</td>\n",
       "      <td>43831</td>\n",
       "      <td>3.74</td>\n",
       "      <td>QP</td>\n",
       "      <td>TAXES</td>\n",
       "      <td></td>\n",
       "    </tr>\n",
       "    <tr>\n",
       "      <th>109266</th>\n",
       "      <td>QP6335A</td>\n",
       "      <td>DELN</td>\n",
       "      <td>Notebooks</td>\n",
       "      <td>EPUR-PURCHASE</td>\n",
       "      <td>PPT Recovery: Full Year</td>\n",
       "      <td>PPT Recovery: Full Year</td>\n",
       "      <td>TR</td>\n",
       "      <td>43831</td>\n",
       "      <td>4.70</td>\n",
       "      <td>QP</td>\n",
       "      <td>TAXES</td>\n",
       "      <td></td>\n",
       "    </tr>\n",
       "    <tr>\n",
       "      <th>109267</th>\n",
       "      <td>QP6335A</td>\n",
       "      <td>ZLNN</td>\n",
       "      <td>Notebooks</td>\n",
       "      <td>EPUR-PURCHASE</td>\n",
       "      <td>PPT Recovery: Full Year</td>\n",
       "      <td>PPT Recovery: Full Year</td>\n",
       "      <td>TR</td>\n",
       "      <td>43831</td>\n",
       "      <td>2.36</td>\n",
       "      <td>QP</td>\n",
       "      <td>TAXES</td>\n",
       "      <td></td>\n",
       "    </tr>\n",
       "    <tr>\n",
       "      <th>109268</th>\n",
       "      <td>QP6335A</td>\n",
       "      <td>ZLNN</td>\n",
       "      <td>Notebooks</td>\n",
       "      <td>CONC-CONCLUDE</td>\n",
       "      <td>PPT Recovery: Full Year</td>\n",
       "      <td>PPT Recovery: Full Year</td>\n",
       "      <td>DD</td>\n",
       "      <td>43831</td>\n",
       "      <td>3.49</td>\n",
       "      <td>QP</td>\n",
       "      <td>TAXES</td>\n",
       "      <td></td>\n",
       "    </tr>\n",
       "  </tbody>\n",
       "</table>\n",
       "<p>101778 rows × 12 columns</p>\n",
       "</div>"
      ],
      "text/plain": [
       "       Invoice number Machine type Equipment type      Sub-status  \\\n",
       "0             Q5394GF         DELN      Notebooks  ETRM-EARLYTERM   \n",
       "1             Q5394GF         DELN      Notebooks  ETRM-EARLYTERM   \n",
       "2             Q5394GF         DELN      Notebooks  ETRM-EARLYTERM   \n",
       "3             Q5394GF         DELN      Notebooks  ETRM-EARLYTERM   \n",
       "4             Q5394GF         DELN      Notebooks  ETRM-EARLYTERM   \n",
       "...               ...          ...            ...             ...   \n",
       "109264        QP6335A         DELN      Notebooks   CONC-CONCLUDE   \n",
       "109265        QP6335A         DELN      Notebooks   EPUR-PURCHASE   \n",
       "109266        QP6335A         DELN      Notebooks   EPUR-PURCHASE   \n",
       "109267        QP6335A         ZLNN      Notebooks   EPUR-PURCHASE   \n",
       "109268        QP6335A         ZLNN      Notebooks   CONC-CONCLUDE   \n",
       "\n",
       "                                             Payment type  \\\n",
       "0       Early Termination/Early Termination of Lease o...   \n",
       "1       Early Termination/Early Termination of Lease o...   \n",
       "2       Early Termination/Early Termination of Lease o...   \n",
       "3       Early Termination/Early Termination of Lease o...   \n",
       "4       Early Termination/Early Termination of Lease o...   \n",
       "...                                                   ...   \n",
       "109264                            PPT Recovery: Full Year   \n",
       "109265                            PPT Recovery: Full Year   \n",
       "109266                            PPT Recovery: Full Year   \n",
       "109267                            PPT Recovery: Full Year   \n",
       "109268                            PPT Recovery: Full Year   \n",
       "\n",
       "                                              Description  \\\n",
       "0       Early Termination/Early Termination of Lease o...   \n",
       "1       Early Termination/Early Termination of Lease o...   \n",
       "2       Early Termination/Early Termination of Lease o...   \n",
       "3       Early Termination/Early Termination of Lease o...   \n",
       "4       Early Termination/Early Termination of Lease o...   \n",
       "...                                                   ...   \n",
       "109264                            PPT Recovery: Full Year   \n",
       "109265                            PPT Recovery: Full Year   \n",
       "109266                            PPT Recovery: Full Year   \n",
       "109267                            PPT Recovery: Full Year   \n",
       "109268                            PPT Recovery: Full Year   \n",
       "\n",
       "       Invoice client reference 1  Invoice date  Total amount due  \\\n",
       "0                              na         43831            -33.08   \n",
       "1                              na         43831            -20.79   \n",
       "2                              na         43831            -19.57   \n",
       "3                              na         43831            -19.21   \n",
       "4                              na         43831            -19.64   \n",
       "...                           ...           ...               ...   \n",
       "109264                         TR         43831              4.12   \n",
       "109265                         TR         43831              3.74   \n",
       "109266                         TR         43831              4.70   \n",
       "109267                         TR         43831              2.36   \n",
       "109268                         DD         43831              3.49   \n",
       "\n",
       "       Invoice number 2 BILL TYPE To be removed  \n",
       "0                    Q5     ETERM                \n",
       "1                    Q5     ETERM                \n",
       "2                    Q5     ETERM                \n",
       "3                    Q5     ETERM                \n",
       "4                    Q5     ETERM                \n",
       "...                 ...       ...           ...  \n",
       "109264               QP     TAXES                \n",
       "109265               QP     TAXES                \n",
       "109266               QP     TAXES                \n",
       "109267               QP     TAXES                \n",
       "109268               QP     TAXES                \n",
       "\n",
       "[101778 rows x 12 columns]"
      ]
     },
     "execution_count": 43,
     "metadata": {},
     "output_type": "execute_result"
    }
   ],
   "source": [
    "\n",
    "PC_ONLY\n"
   ]
  },
  {
   "cell_type": "code",
   "execution_count": null,
   "metadata": {},
   "outputs": [],
   "source": []
  },
  {
   "cell_type": "code",
   "execution_count": null,
   "metadata": {},
   "outputs": [],
   "source": []
  }
 ],
 "metadata": {
  "kernelspec": {
   "display_name": "Python",
   "language": "python",
   "name": "conda-env-python-py"
  },
  "language_info": {
   "codemirror_mode": {
    "name": "ipython",
    "version": 3
   },
   "file_extension": ".py",
   "mimetype": "text/x-python",
   "name": "python",
   "nbconvert_exporter": "python",
   "pygments_lexer": "ipython3",
   "version": "3.6.7"
  }
 },
 "nbformat": 4,
 "nbformat_minor": 4
}
