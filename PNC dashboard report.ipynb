{
 "cells": [
  {
   "cell_type": "code",
   "execution_count": 37,
   "metadata": {},
   "outputs": [],
   "source": [
    "#!conda install -c anaconda xlrd --yes"
   ]
  },
  {
   "cell_type": "code",
   "execution_count": 38,
   "metadata": {},
   "outputs": [],
   "source": [
    "import pandas as pd\n",
    "from datetime import date"
   ]
  },
  {
   "cell_type": "code",
   "execution_count": 39,
   "metadata": {},
   "outputs": [
    {
     "data": {
      "text/html": [
       "<div>\n",
       "<style scoped>\n",
       "    .dataframe tbody tr th:only-of-type {\n",
       "        vertical-align: middle;\n",
       "    }\n",
       "\n",
       "    .dataframe tbody tr th {\n",
       "        vertical-align: top;\n",
       "    }\n",
       "\n",
       "    .dataframe thead th {\n",
       "        text-align: right;\n",
       "    }\n",
       "</style>\n",
       "<table border=\"1\" class=\"dataframe\">\n",
       "  <thead>\n",
       "    <tr style=\"text-align: right;\">\n",
       "      <th></th>\n",
       "      <th>Invoice number</th>\n",
       "      <th>Invoice date</th>\n",
       "      <th>Invoice client reference 1</th>\n",
       "      <th>Invoice client reference 2</th>\n",
       "      <th>Late payment fee invoice number</th>\n",
       "      <th>Subtotal</th>\n",
       "      <th>Currency</th>\n",
       "      <th>Payment type</th>\n",
       "      <th>Total amount due</th>\n",
       "      <th>Currency.1</th>\n",
       "      <th>...</th>\n",
       "      <th>Contract serial number</th>\n",
       "      <th>Machine type</th>\n",
       "      <th>Model</th>\n",
       "      <th>Description.1</th>\n",
       "      <th>Equipment type</th>\n",
       "      <th>Contract item number</th>\n",
       "      <th>Status</th>\n",
       "      <th>Sub-status</th>\n",
       "      <th>End of Lease Date</th>\n",
       "      <th>Cost center</th>\n",
       "    </tr>\n",
       "  </thead>\n",
       "  <tbody>\n",
       "    <tr>\n",
       "      <th>0</th>\n",
       "      <td>Q5886GH</td>\n",
       "      <td>5/1/2020</td>\n",
       "      <td>NaN</td>\n",
       "      <td>PO20736</td>\n",
       "      <td>NaN</td>\n",
       "      <td>-32.85</td>\n",
       "      <td>USD</td>\n",
       "      <td>Early Termination/Early Termination of Lease o...</td>\n",
       "      <td>-35.15</td>\n",
       "      <td>USD</td>\n",
       "      <td>...</td>\n",
       "      <td>6GQG7H2</td>\n",
       "      <td>DELN</td>\n",
       "      <td>4MI</td>\n",
       "      <td>CORE I7 2.7GHZ 6TH GEN 16GB NOTEBOOK 15\" - 17\"</td>\n",
       "      <td>Notebooks</td>\n",
       "      <td>2.0</td>\n",
       "      <td>Inactive</td>\n",
       "      <td>ETRM-EARLYTERM</td>\n",
       "      <td>4/30/2020</td>\n",
       "      <td>NaN</td>\n",
       "    </tr>\n",
       "    <tr>\n",
       "      <th>1</th>\n",
       "      <td>Q5886GH</td>\n",
       "      <td>5/1/2020</td>\n",
       "      <td>NaN</td>\n",
       "      <td>PO77876</td>\n",
       "      <td>NaN</td>\n",
       "      <td>-19.46</td>\n",
       "      <td>USD</td>\n",
       "      <td>Early Termination/Early Termination of Lease o...</td>\n",
       "      <td>-21.19</td>\n",
       "      <td>USD</td>\n",
       "      <td>...</td>\n",
       "      <td>382QFH2</td>\n",
       "      <td>DELN</td>\n",
       "      <td>4KA</td>\n",
       "      <td>CORE I5 2.4GHZ 6TH GEN 8GB NOTEBOOK 11\" - 14\"</td>\n",
       "      <td>Notebooks</td>\n",
       "      <td>2.0</td>\n",
       "      <td>Inactive</td>\n",
       "      <td>ETRM-EARLYTERM</td>\n",
       "      <td>4/30/2020</td>\n",
       "      <td>NaN</td>\n",
       "    </tr>\n",
       "    <tr>\n",
       "      <th>2</th>\n",
       "      <td>Q5886GH</td>\n",
       "      <td>5/1/2020</td>\n",
       "      <td>NaN</td>\n",
       "      <td>PO12092</td>\n",
       "      <td>NaN</td>\n",
       "      <td>-18.52</td>\n",
       "      <td>USD</td>\n",
       "      <td>Early Termination/Early Termination of Lease o...</td>\n",
       "      <td>-19.72</td>\n",
       "      <td>USD</td>\n",
       "      <td>...</td>\n",
       "      <td>3F0S8H2</td>\n",
       "      <td>DELN</td>\n",
       "      <td>4KA</td>\n",
       "      <td>CORE I5 2.4GHZ 6TH GEN 8GB NOTEBOOK 11\" - 14\"</td>\n",
       "      <td>Notebooks</td>\n",
       "      <td>2.0</td>\n",
       "      <td>Inactive</td>\n",
       "      <td>ETRM-EARLYTERM</td>\n",
       "      <td>4/30/2020</td>\n",
       "      <td>NaN</td>\n",
       "    </tr>\n",
       "    <tr>\n",
       "      <th>3</th>\n",
       "      <td>Q5886GH</td>\n",
       "      <td>5/1/2020</td>\n",
       "      <td>NaN</td>\n",
       "      <td>DO3802580</td>\n",
       "      <td>NaN</td>\n",
       "      <td>-11.69</td>\n",
       "      <td>USD</td>\n",
       "      <td>Early Termination/Early Termination of Lease o...</td>\n",
       "      <td>-12.39</td>\n",
       "      <td>USD</td>\n",
       "      <td>...</td>\n",
       "      <td>GKR6382</td>\n",
       "      <td>DELD</td>\n",
       "      <td>2TB</td>\n",
       "      <td>CORE I5 3.3GHZ 4TH GEN 4GB DESKTOP 01</td>\n",
       "      <td>Desktops</td>\n",
       "      <td>4.0</td>\n",
       "      <td>Inactive</td>\n",
       "      <td>ETRM-EARLYTERM</td>\n",
       "      <td>4/30/2020</td>\n",
       "      <td>NaN</td>\n",
       "    </tr>\n",
       "    <tr>\n",
       "      <th>4</th>\n",
       "      <td>Q5886GH</td>\n",
       "      <td>5/1/2020</td>\n",
       "      <td>NaN</td>\n",
       "      <td>DO3780676</td>\n",
       "      <td>NaN</td>\n",
       "      <td>-11.69</td>\n",
       "      <td>USD</td>\n",
       "      <td>Early Termination/Early Termination of Lease o...</td>\n",
       "      <td>-12.51</td>\n",
       "      <td>USD</td>\n",
       "      <td>...</td>\n",
       "      <td>GM1B382</td>\n",
       "      <td>DELD</td>\n",
       "      <td>2TB</td>\n",
       "      <td>CORE I5 3.3GHZ 4TH GEN 4GB DESKTOP 01</td>\n",
       "      <td>Desktops</td>\n",
       "      <td>5.0</td>\n",
       "      <td>Inactive</td>\n",
       "      <td>ETRM-EARLYTERM</td>\n",
       "      <td>3/31/2020</td>\n",
       "      <td>NaN</td>\n",
       "    </tr>\n",
       "  </tbody>\n",
       "</table>\n",
       "<p>5 rows × 22 columns</p>\n",
       "</div>"
      ],
      "text/plain": [
       "  Invoice number Invoice date Invoice client reference 1  \\\n",
       "0        Q5886GH     5/1/2020                        NaN   \n",
       "1        Q5886GH     5/1/2020                        NaN   \n",
       "2        Q5886GH     5/1/2020                        NaN   \n",
       "3        Q5886GH     5/1/2020                        NaN   \n",
       "4        Q5886GH     5/1/2020                        NaN   \n",
       "\n",
       "  Invoice client reference 2  Late payment fee invoice number  Subtotal  \\\n",
       "0                    PO20736                              NaN    -32.85   \n",
       "1                    PO77876                              NaN    -19.46   \n",
       "2                    PO12092                              NaN    -18.52   \n",
       "3                  DO3802580                              NaN    -11.69   \n",
       "4                  DO3780676                              NaN    -11.69   \n",
       "\n",
       "  Currency                                       Payment type  \\\n",
       "0    USD    Early Termination/Early Termination of Lease o...   \n",
       "1    USD    Early Termination/Early Termination of Lease o...   \n",
       "2    USD    Early Termination/Early Termination of Lease o...   \n",
       "3    USD    Early Termination/Early Termination of Lease o...   \n",
       "4    USD    Early Termination/Early Termination of Lease o...   \n",
       "\n",
       "   Total amount due Currency.1  ... Contract serial number Machine type Model  \\\n",
       "0            -35.15      USD    ...                6GQG7H2         DELN   4MI   \n",
       "1            -21.19      USD    ...                382QFH2         DELN   4KA   \n",
       "2            -19.72      USD    ...                3F0S8H2         DELN   4KA   \n",
       "3            -12.39      USD    ...                GKR6382         DELD   2TB   \n",
       "4            -12.51      USD    ...                GM1B382         DELD   2TB   \n",
       "\n",
       "                                    Description.1 Equipment type  \\\n",
       "0  CORE I7 2.7GHZ 6TH GEN 16GB NOTEBOOK 15\" - 17\"      Notebooks   \n",
       "1   CORE I5 2.4GHZ 6TH GEN 8GB NOTEBOOK 11\" - 14\"      Notebooks   \n",
       "2   CORE I5 2.4GHZ 6TH GEN 8GB NOTEBOOK 11\" - 14\"      Notebooks   \n",
       "3           CORE I5 3.3GHZ 4TH GEN 4GB DESKTOP 01       Desktops   \n",
       "4           CORE I5 3.3GHZ 4TH GEN 4GB DESKTOP 01       Desktops   \n",
       "\n",
       "  Contract item number    Status      Sub-status End of Lease Date Cost center  \n",
       "0                  2.0  Inactive  ETRM-EARLYTERM         4/30/2020         NaN  \n",
       "1                  2.0  Inactive  ETRM-EARLYTERM         4/30/2020         NaN  \n",
       "2                  2.0  Inactive  ETRM-EARLYTERM         4/30/2020         NaN  \n",
       "3                  4.0  Inactive  ETRM-EARLYTERM         4/30/2020         NaN  \n",
       "4                  5.0  Inactive  ETRM-EARLYTERM         3/31/2020         NaN  \n",
       "\n",
       "[5 rows x 22 columns]"
      ]
     },
     "execution_count": 39,
     "metadata": {},
     "output_type": "execute_result"
    }
   ],
   "source": [
    "#df = pd.read_excel('Data csv\\Octavio.Elliot@ibm.com_20200518_140814_86_inv1.xlsx')\n",
    "df = pd.read_csv(r'Data csv\\Octavio.Elliot@ibm.com_20200518_143814_95_inv1.csv')\n",
    "df.head()"
   ]
  },
  {
   "cell_type": "code",
   "execution_count": null,
   "metadata": {},
   "outputs": [],
   "source": []
  },
  {
   "cell_type": "code",
   "execution_count": null,
   "metadata": {},
   "outputs": [],
   "source": []
  },
  {
   "cell_type": "code",
   "execution_count": null,
   "metadata": {},
   "outputs": [],
   "source": []
  },
  {
   "cell_type": "code",
   "execution_count": 40,
   "metadata": {},
   "outputs": [],
   "source": [
    "PC_ONLY = df[['Invoice number','Machine type','Equipment type','Sub-status', 'Payment type','Description','Invoice client reference 1','Invoice date','Total amount due','End of Lease Date']]"
   ]
  },
  {
   "cell_type": "code",
   "execution_count": 41,
   "metadata": {},
   "outputs": [],
   "source": [
    "INVOICE_LIST_REMOVED = ['Q6230GE']\n",
    "items = len(INVOICE_LIST_REMOVED)"
   ]
  },
  {
   "cell_type": "code",
   "execution_count": 42,
   "metadata": {},
   "outputs": [
    {
     "name": "stdout",
     "output_type": "stream",
     "text": [
      "Empty DataFrame\n",
      "Columns: [Invoice number, Machine type, Equipment type, Sub-status, Payment type, Description, Invoice client reference 1, Invoice date, Total amount due, End of Lease Date]\n",
      "Index: []\n"
     ]
    }
   ],
   "source": [
    "for i in range(items):\n",
    "       print (PC_ONLY[PC_ONLY['Invoice number'] == INVOICE_LIST_REMOVED[i]].head(1))"
   ]
  },
  {
   "cell_type": "code",
   "execution_count": null,
   "metadata": {},
   "outputs": [],
   "source": []
  },
  {
   "cell_type": "code",
   "execution_count": 43,
   "metadata": {},
   "outputs": [],
   "source": [
    "rows = PC_ONLY['Invoice number'].count()"
   ]
  },
  {
   "cell_type": "code",
   "execution_count": 44,
   "metadata": {},
   "outputs": [
    {
     "name": "stderr",
     "output_type": "stream",
     "text": [
      "C:\\Users\\OctavioLuisElliotFre\\anaconda3\\lib\\site-packages\\ipykernel_launcher.py:1: SettingWithCopyWarning: \n",
      "A value is trying to be set on a copy of a slice from a DataFrame.\n",
      "Try using .loc[row_indexer,col_indexer] = value instead\n",
      "\n",
      "See the caveats in the documentation: https://pandas.pydata.org/pandas-docs/stable/user_guide/indexing.html#returning-a-view-versus-a-copy\n",
      "  \"\"\"Entry point for launching an IPython kernel.\n",
      "C:\\Users\\OctavioLuisElliotFre\\anaconda3\\lib\\site-packages\\ipykernel_launcher.py:2: SettingWithCopyWarning: \n",
      "A value is trying to be set on a copy of a slice from a DataFrame.\n",
      "Try using .loc[row_indexer,col_indexer] = value instead\n",
      "\n",
      "See the caveats in the documentation: https://pandas.pydata.org/pandas-docs/stable/user_guide/indexing.html#returning-a-view-versus-a-copy\n",
      "  \n",
      "C:\\Users\\OctavioLuisElliotFre\\anaconda3\\lib\\site-packages\\ipykernel_launcher.py:3: SettingWithCopyWarning: \n",
      "A value is trying to be set on a copy of a slice from a DataFrame.\n",
      "Try using .loc[row_indexer,col_indexer] = value instead\n",
      "\n",
      "See the caveats in the documentation: https://pandas.pydata.org/pandas-docs/stable/user_guide/indexing.html#returning-a-view-versus-a-copy\n",
      "  This is separate from the ipykernel package so we can avoid doing imports until\n"
     ]
    }
   ],
   "source": [
    "PC_ONLY['Invoice number 2'] = PC_ONLY['Invoice number']\n",
    "PC_ONLY['BILL TYPE'] = 'TBD'\n",
    "PC_ONLY['To be removed'] = ''"
   ]
  },
  {
   "cell_type": "code",
   "execution_count": 45,
   "metadata": {},
   "outputs": [
    {
     "data": {
      "text/html": [
       "<div>\n",
       "<style scoped>\n",
       "    .dataframe tbody tr th:only-of-type {\n",
       "        vertical-align: middle;\n",
       "    }\n",
       "\n",
       "    .dataframe tbody tr th {\n",
       "        vertical-align: top;\n",
       "    }\n",
       "\n",
       "    .dataframe thead th {\n",
       "        text-align: right;\n",
       "    }\n",
       "</style>\n",
       "<table border=\"1\" class=\"dataframe\">\n",
       "  <thead>\n",
       "    <tr style=\"text-align: right;\">\n",
       "      <th></th>\n",
       "      <th>Invoice number</th>\n",
       "      <th>Machine type</th>\n",
       "      <th>Equipment type</th>\n",
       "      <th>Sub-status</th>\n",
       "      <th>Payment type</th>\n",
       "      <th>Description</th>\n",
       "      <th>Invoice client reference 1</th>\n",
       "      <th>Invoice date</th>\n",
       "      <th>Total amount due</th>\n",
       "      <th>End of Lease Date</th>\n",
       "      <th>Invoice number 2</th>\n",
       "      <th>BILL TYPE</th>\n",
       "      <th>To be removed</th>\n",
       "    </tr>\n",
       "  </thead>\n",
       "  <tbody>\n",
       "    <tr>\n",
       "      <th>0</th>\n",
       "      <td>Q5886GH</td>\n",
       "      <td>DELN</td>\n",
       "      <td>Notebooks</td>\n",
       "      <td>ETRM-EARLYTERM</td>\n",
       "      <td>Early Termination/Early Termination of Lease o...</td>\n",
       "      <td>Early Termination/Early Termination of Lease o...</td>\n",
       "      <td>NaN</td>\n",
       "      <td>5/1/2020</td>\n",
       "      <td>-35.15</td>\n",
       "      <td>4/30/2020</td>\n",
       "      <td>Q5886GH</td>\n",
       "      <td>TBD</td>\n",
       "      <td></td>\n",
       "    </tr>\n",
       "    <tr>\n",
       "      <th>1</th>\n",
       "      <td>Q5886GH</td>\n",
       "      <td>DELN</td>\n",
       "      <td>Notebooks</td>\n",
       "      <td>ETRM-EARLYTERM</td>\n",
       "      <td>Early Termination/Early Termination of Lease o...</td>\n",
       "      <td>Early Termination/Early Termination of Lease o...</td>\n",
       "      <td>NaN</td>\n",
       "      <td>5/1/2020</td>\n",
       "      <td>-21.19</td>\n",
       "      <td>4/30/2020</td>\n",
       "      <td>Q5886GH</td>\n",
       "      <td>TBD</td>\n",
       "      <td></td>\n",
       "    </tr>\n",
       "    <tr>\n",
       "      <th>2</th>\n",
       "      <td>Q5886GH</td>\n",
       "      <td>DELN</td>\n",
       "      <td>Notebooks</td>\n",
       "      <td>ETRM-EARLYTERM</td>\n",
       "      <td>Early Termination/Early Termination of Lease o...</td>\n",
       "      <td>Early Termination/Early Termination of Lease o...</td>\n",
       "      <td>NaN</td>\n",
       "      <td>5/1/2020</td>\n",
       "      <td>-19.72</td>\n",
       "      <td>4/30/2020</td>\n",
       "      <td>Q5886GH</td>\n",
       "      <td>TBD</td>\n",
       "      <td></td>\n",
       "    </tr>\n",
       "    <tr>\n",
       "      <th>3</th>\n",
       "      <td>Q5886GH</td>\n",
       "      <td>DELD</td>\n",
       "      <td>Desktops</td>\n",
       "      <td>ETRM-EARLYTERM</td>\n",
       "      <td>Early Termination/Early Termination of Lease o...</td>\n",
       "      <td>Early Termination/Early Termination of Lease o...</td>\n",
       "      <td>NaN</td>\n",
       "      <td>5/1/2020</td>\n",
       "      <td>-12.39</td>\n",
       "      <td>4/30/2020</td>\n",
       "      <td>Q5886GH</td>\n",
       "      <td>TBD</td>\n",
       "      <td></td>\n",
       "    </tr>\n",
       "    <tr>\n",
       "      <th>4</th>\n",
       "      <td>Q5886GH</td>\n",
       "      <td>DELD</td>\n",
       "      <td>Desktops</td>\n",
       "      <td>ETRM-EARLYTERM</td>\n",
       "      <td>Early Termination/Early Termination of Lease o...</td>\n",
       "      <td>Early Termination/Early Termination of Lease o...</td>\n",
       "      <td>NaN</td>\n",
       "      <td>5/1/2020</td>\n",
       "      <td>-12.51</td>\n",
       "      <td>3/31/2020</td>\n",
       "      <td>Q5886GH</td>\n",
       "      <td>TBD</td>\n",
       "      <td></td>\n",
       "    </tr>\n",
       "  </tbody>\n",
       "</table>\n",
       "</div>"
      ],
      "text/plain": [
       "  Invoice number Machine type Equipment type      Sub-status  \\\n",
       "0        Q5886GH         DELN      Notebooks  ETRM-EARLYTERM   \n",
       "1        Q5886GH         DELN      Notebooks  ETRM-EARLYTERM   \n",
       "2        Q5886GH         DELN      Notebooks  ETRM-EARLYTERM   \n",
       "3        Q5886GH         DELD       Desktops  ETRM-EARLYTERM   \n",
       "4        Q5886GH         DELD       Desktops  ETRM-EARLYTERM   \n",
       "\n",
       "                                        Payment type  \\\n",
       "0  Early Termination/Early Termination of Lease o...   \n",
       "1  Early Termination/Early Termination of Lease o...   \n",
       "2  Early Termination/Early Termination of Lease o...   \n",
       "3  Early Termination/Early Termination of Lease o...   \n",
       "4  Early Termination/Early Termination of Lease o...   \n",
       "\n",
       "                                         Description  \\\n",
       "0  Early Termination/Early Termination of Lease o...   \n",
       "1  Early Termination/Early Termination of Lease o...   \n",
       "2  Early Termination/Early Termination of Lease o...   \n",
       "3  Early Termination/Early Termination of Lease o...   \n",
       "4  Early Termination/Early Termination of Lease o...   \n",
       "\n",
       "  Invoice client reference 1 Invoice date  Total amount due End of Lease Date  \\\n",
       "0                        NaN     5/1/2020            -35.15         4/30/2020   \n",
       "1                        NaN     5/1/2020            -21.19         4/30/2020   \n",
       "2                        NaN     5/1/2020            -19.72         4/30/2020   \n",
       "3                        NaN     5/1/2020            -12.39         4/30/2020   \n",
       "4                        NaN     5/1/2020            -12.51         3/31/2020   \n",
       "\n",
       "  Invoice number 2 BILL TYPE To be removed  \n",
       "0          Q5886GH       TBD                \n",
       "1          Q5886GH       TBD                \n",
       "2          Q5886GH       TBD                \n",
       "3          Q5886GH       TBD                \n",
       "4          Q5886GH       TBD                "
      ]
     },
     "execution_count": 45,
     "metadata": {},
     "output_type": "execute_result"
    }
   ],
   "source": [
    "PC_ONLY.head()"
   ]
  },
  {
   "cell_type": "markdown",
   "metadata": {},
   "source": [
    "FORMATACAO DOS DADOS"
   ]
  },
  {
   "cell_type": "code",
   "execution_count": 46,
   "metadata": {},
   "outputs": [],
   "source": [
    "for i in range(rows):\n",
    "    PC_ONLY.at[i,'Invoice number 2'] = PC_ONLY.at[i,'Invoice number'][:2]\n",
    "    PC_ONLY.at[i,'Invoice number'] = PC_ONLY.at[i,'Invoice number'][:7]"
   ]
  },
  {
   "cell_type": "code",
   "execution_count": 47,
   "metadata": {},
   "outputs": [
    {
     "name": "stderr",
     "output_type": "stream",
     "text": [
      "C:\\Users\\OctavioLuisElliotFre\\anaconda3\\lib\\site-packages\\ipykernel_launcher.py:1: SettingWithCopyWarning: \n",
      "A value is trying to be set on a copy of a slice from a DataFrame.\n",
      "Try using .loc[row_indexer,col_indexer] = value instead\n",
      "\n",
      "See the caveats in the documentation: https://pandas.pydata.org/pandas-docs/stable/user_guide/indexing.html#returning-a-view-versus-a-copy\n",
      "  \"\"\"Entry point for launching an IPython kernel.\n",
      "C:\\Users\\OctavioLuisElliotFre\\anaconda3\\lib\\site-packages\\ipykernel_launcher.py:2: SettingWithCopyWarning: \n",
      "A value is trying to be set on a copy of a slice from a DataFrame.\n",
      "Try using .loc[row_indexer,col_indexer] = value instead\n",
      "\n",
      "See the caveats in the documentation: https://pandas.pydata.org/pandas-docs/stable/user_guide/indexing.html#returning-a-view-versus-a-copy\n",
      "  \n"
     ]
    }
   ],
   "source": [
    "PC_ONLY[\"Total amount due\"] = pd.to_numeric(PC_ONLY[\"Total amount due\"], downcast=\"float\")\n",
    "PC_ONLY['Total amount due'] = PC_ONLY['Total amount due'].apply (lambda x: round(x,2)) "
   ]
  },
  {
   "cell_type": "code",
   "execution_count": 48,
   "metadata": {},
   "outputs": [
    {
     "name": "stderr",
     "output_type": "stream",
     "text": [
      "C:\\Users\\OctavioLuisElliotFre\\anaconda3\\lib\\site-packages\\ipykernel_launcher.py:1: SettingWithCopyWarning: \n",
      "A value is trying to be set on a copy of a slice from a DataFrame.\n",
      "Try using .loc[row_indexer,col_indexer] = value instead\n",
      "\n",
      "See the caveats in the documentation: https://pandas.pydata.org/pandas-docs/stable/user_guide/indexing.html#returning-a-view-versus-a-copy\n",
      "  \"\"\"Entry point for launching an IPython kernel.\n"
     ]
    }
   ],
   "source": [
    "PC_ONLY[\"Invoice client reference 1\"]= PC_ONLY[\"Invoice client reference 1\"].astype(str)"
   ]
  },
  {
   "cell_type": "code",
   "execution_count": 49,
   "metadata": {},
   "outputs": [],
   "source": [
    "for i in range(rows):\n",
    "    PC_ONLY.at[i,'Invoice client reference 1'] = PC_ONLY.at[i,'Invoice client reference 1'][:2]\n",
    "    "
   ]
  },
  {
   "cell_type": "code",
   "execution_count": 50,
   "metadata": {},
   "outputs": [],
   "source": [
    "# creating the filters taht will be used\n",
    "\n",
    "FILTER_LPF = (PC_ONLY['Payment type']=='Late Payment Fee')\n",
    "FILTER_DAMAGE = (PC_ONLY[\"Invoice number 2\"] == \"QC\")\n",
    "FILTER_RECYLCLYNG_FEE = (PC_ONLY['Payment type'] == 'STATE RECYCLING FEE (FOR BATCH JOBS)')\n",
    "FILTER_CMOS = (PC_ONLY['Equipment type'] == 'Storage')\n",
    "FILTER_STORAGE = (PC_ONLY['Equipment type']=='CMOS Processors')\n",
    "\n",
    "\n",
    "FILTER_PRODUCT_SET = (PC_ONLY['Equipment type'] == 'PC Product Set')\n",
    "FILTER_IBM_MAINT = (PC_ONLY['Description'] == 'IBM PREPAID MAINTENANCE')\n",
    "\n",
    "FILTER_XOT9_EMPTY = (PC_ONLY['Machine type'] == \"XOT9\") # &  pd.isnull(df['Equipment type'])\n",
    "\n",
    "FILTER_PPT = (PC_ONLY['Payment type'] == 'PPT Recovery: Full Year') # & (PC_ONLY['BILL TYPE'] == '')\n",
    "FILTER_BUY = (PC_ONLY['Sub-status'] == 'BUY-BUYOUT') # & (PC_ONLY['BILL TYPE'] == '')\n",
    "\n",
    "FILTER_CONC = (PC_ONLY['Sub-status'] == 'CONC-CONCLUDE') # & (PC_ONLY['BILL TYPE'] == '')\n",
    "FILTER_CONT = (PC_ONLY['Sub-status'] == 'CONT-CONTINUATION') # & (PC_ONLY['BILL TYPE'] == '')\n",
    "\n",
    "\n",
    "\n",
    "FILTER_EPUR = (PC_ONLY['Sub-status'] == 'EPUR-PURCHASE')  # & (PC_ONLY['BILL TYPE'] == '')\n",
    "\n",
    "FILTER_SS_ETRM = (PC_ONLY['Sub-status'] =='ETRM-EARLYTERM') | (PC_ONLY['Payment type'] == 'Early Termination/Early Termination of Lease of Lease')\n",
    "\n",
    "\n",
    "FILTER_REGULAR_PERIODIC = (PC_ONLY['Payment type'] == 'Regular Periodic Invoice-Payment in Advance') # & (PC_ONLY['BILL TYPE'] == '')\n",
    "\n",
    "FILTER_NLOA_NLEASE = (PC_ONLY['Sub-status'] == 'NLOA-NEW LOAN') | (PC_ONLY['Sub-status'] == 'NLSE-NEW LEASE') # & (PC_ONLY['BILL TYPE'] == '')\n",
    "\n",
    "FILTER_ONE_OFF = (PC_ONLY['Invoice client reference 1']=='OL') | (PC_ONLY['Invoice client reference 1']=='OI')\n",
    "\n"
   ]
  },
  {
   "cell_type": "markdown",
   "metadata": {},
   "source": [
    "# Notacao para filtro duplo\n",
    "DOUBLE FILTER = PC_ONLY[(PC_ONLY[\"Equipment type\"] == \"PC Product Set\") & (PC_ONLY[\"Payment type\"] == \"PPT Recovery: Full Year\")]\n",
    "PC_ONLY[(FILTER_PRODUCT_SET) & (FILTER_PPT)]\n",
    "\n",
    "PC_ONLY.loc[(FILTER_CONT) & (FILTER_BT_EMPTY),'BILL TYPE'] = \"s\""
   ]
  },
  {
   "cell_type": "code",
   "execution_count": 51,
   "metadata": {},
   "outputs": [
    {
     "data": {
      "text/html": [
       "<div>\n",
       "<style scoped>\n",
       "    .dataframe tbody tr th:only-of-type {\n",
       "        vertical-align: middle;\n",
       "    }\n",
       "\n",
       "    .dataframe tbody tr th {\n",
       "        vertical-align: top;\n",
       "    }\n",
       "\n",
       "    .dataframe thead th {\n",
       "        text-align: right;\n",
       "    }\n",
       "</style>\n",
       "<table border=\"1\" class=\"dataframe\">\n",
       "  <thead>\n",
       "    <tr style=\"text-align: right;\">\n",
       "      <th></th>\n",
       "      <th>Invoice number</th>\n",
       "      <th>Machine type</th>\n",
       "      <th>Equipment type</th>\n",
       "      <th>Sub-status</th>\n",
       "      <th>Payment type</th>\n",
       "      <th>Description</th>\n",
       "      <th>Invoice client reference 1</th>\n",
       "      <th>Invoice date</th>\n",
       "      <th>Total amount due</th>\n",
       "      <th>End of Lease Date</th>\n",
       "      <th>Invoice number 2</th>\n",
       "      <th>BILL TYPE</th>\n",
       "      <th>To be removed</th>\n",
       "    </tr>\n",
       "  </thead>\n",
       "  <tbody>\n",
       "    <tr>\n",
       "      <th>96048</th>\n",
       "      <td>Q7026GH</td>\n",
       "      <td>3952</td>\n",
       "      <td>Storage</td>\n",
       "      <td>NLSE-NEW LEASE</td>\n",
       "      <td>Regular Periodic Invoice-Payment in Arrears</td>\n",
       "      <td>Regular Periodic Invoice-Payment in Arrears</td>\n",
       "      <td>OL</td>\n",
       "      <td>5/1/2020</td>\n",
       "      <td>324.84</td>\n",
       "      <td>8/31/2022</td>\n",
       "      <td>Q7</td>\n",
       "      <td>TBD</td>\n",
       "      <td></td>\n",
       "    </tr>\n",
       "    <tr>\n",
       "      <th>96049</th>\n",
       "      <td>Q7026GH</td>\n",
       "      <td>3952</td>\n",
       "      <td>Storage</td>\n",
       "      <td>NLSE-NEW LEASE</td>\n",
       "      <td>Regular Periodic Invoice-Payment in Arrears</td>\n",
       "      <td>Regular Periodic Invoice-Payment in Arrears</td>\n",
       "      <td>OL</td>\n",
       "      <td>5/1/2020</td>\n",
       "      <td>324.84</td>\n",
       "      <td>8/31/2022</td>\n",
       "      <td>Q7</td>\n",
       "      <td>TBD</td>\n",
       "      <td></td>\n",
       "    </tr>\n",
       "    <tr>\n",
       "      <th>96050</th>\n",
       "      <td>Q7026GH</td>\n",
       "      <td>3952</td>\n",
       "      <td>Storage</td>\n",
       "      <td>NLSE-NEW LEASE</td>\n",
       "      <td>Regular Periodic Invoice-Payment in Arrears</td>\n",
       "      <td>Regular Periodic Invoice-Payment in Arrears</td>\n",
       "      <td>OL</td>\n",
       "      <td>5/1/2020</td>\n",
       "      <td>129.02</td>\n",
       "      <td>8/31/2022</td>\n",
       "      <td>Q7</td>\n",
       "      <td>TBD</td>\n",
       "      <td></td>\n",
       "    </tr>\n",
       "    <tr>\n",
       "      <th>96051</th>\n",
       "      <td>Q7026GH</td>\n",
       "      <td>3952</td>\n",
       "      <td>Storage</td>\n",
       "      <td>NLSE-NEW LEASE</td>\n",
       "      <td>Regular Periodic Invoice-Payment in Arrears</td>\n",
       "      <td>Regular Periodic Invoice-Payment in Arrears</td>\n",
       "      <td>OL</td>\n",
       "      <td>5/1/2020</td>\n",
       "      <td>129.02</td>\n",
       "      <td>8/31/2022</td>\n",
       "      <td>Q7</td>\n",
       "      <td>TBD</td>\n",
       "      <td></td>\n",
       "    </tr>\n",
       "    <tr>\n",
       "      <th>96052</th>\n",
       "      <td>Q7026GH</td>\n",
       "      <td>3956</td>\n",
       "      <td>Storage</td>\n",
       "      <td>NLSE-NEW LEASE</td>\n",
       "      <td>Regular Periodic Invoice-Payment in Arrears</td>\n",
       "      <td>Regular Periodic Invoice-Payment in Arrears</td>\n",
       "      <td>OL</td>\n",
       "      <td>5/1/2020</td>\n",
       "      <td>523.17</td>\n",
       "      <td>8/31/2022</td>\n",
       "      <td>Q7</td>\n",
       "      <td>TBD</td>\n",
       "      <td></td>\n",
       "    </tr>\n",
       "  </tbody>\n",
       "</table>\n",
       "</div>"
      ],
      "text/plain": [
       "      Invoice number Machine type Equipment type      Sub-status  \\\n",
       "96048        Q7026GH         3952        Storage  NLSE-NEW LEASE   \n",
       "96049        Q7026GH         3952        Storage  NLSE-NEW LEASE   \n",
       "96050        Q7026GH         3952        Storage  NLSE-NEW LEASE   \n",
       "96051        Q7026GH         3952        Storage  NLSE-NEW LEASE   \n",
       "96052        Q7026GH         3956        Storage  NLSE-NEW LEASE   \n",
       "\n",
       "                                      Payment type  \\\n",
       "96048  Regular Periodic Invoice-Payment in Arrears   \n",
       "96049  Regular Periodic Invoice-Payment in Arrears   \n",
       "96050  Regular Periodic Invoice-Payment in Arrears   \n",
       "96051  Regular Periodic Invoice-Payment in Arrears   \n",
       "96052  Regular Periodic Invoice-Payment in Arrears   \n",
       "\n",
       "                                       Description Invoice client reference 1  \\\n",
       "96048  Regular Periodic Invoice-Payment in Arrears                         OL   \n",
       "96049  Regular Periodic Invoice-Payment in Arrears                         OL   \n",
       "96050  Regular Periodic Invoice-Payment in Arrears                         OL   \n",
       "96051  Regular Periodic Invoice-Payment in Arrears                         OL   \n",
       "96052  Regular Periodic Invoice-Payment in Arrears                         OL   \n",
       "\n",
       "      Invoice date  Total amount due End of Lease Date Invoice number 2  \\\n",
       "96048     5/1/2020            324.84         8/31/2022               Q7   \n",
       "96049     5/1/2020            324.84         8/31/2022               Q7   \n",
       "96050     5/1/2020            129.02         8/31/2022               Q7   \n",
       "96051     5/1/2020            129.02         8/31/2022               Q7   \n",
       "96052     5/1/2020            523.17         8/31/2022               Q7   \n",
       "\n",
       "      BILL TYPE To be removed  \n",
       "96048       TBD                \n",
       "96049       TBD                \n",
       "96050       TBD                \n",
       "96051       TBD                \n",
       "96052       TBD                "
      ]
     },
     "execution_count": 51,
     "metadata": {},
     "output_type": "execute_result"
    }
   ],
   "source": [
    "PC_ONLY[FILTER_ONE_OFF].head()"
   ]
  },
  {
   "cell_type": "code",
   "execution_count": 52,
   "metadata": {},
   "outputs": [],
   "source": [
    "LPF = PC_ONLY[FILTER_LPF]"
   ]
  },
  {
   "cell_type": "code",
   "execution_count": 53,
   "metadata": {},
   "outputs": [
    {
     "data": {
      "text/html": [
       "<div>\n",
       "<style scoped>\n",
       "    .dataframe tbody tr th:only-of-type {\n",
       "        vertical-align: middle;\n",
       "    }\n",
       "\n",
       "    .dataframe tbody tr th {\n",
       "        vertical-align: top;\n",
       "    }\n",
       "\n",
       "    .dataframe thead th {\n",
       "        text-align: right;\n",
       "    }\n",
       "</style>\n",
       "<table border=\"1\" class=\"dataframe\">\n",
       "  <thead>\n",
       "    <tr style=\"text-align: right;\">\n",
       "      <th></th>\n",
       "      <th>Invoice number</th>\n",
       "      <th>Machine type</th>\n",
       "      <th>Equipment type</th>\n",
       "      <th>Sub-status</th>\n",
       "      <th>Payment type</th>\n",
       "      <th>Description</th>\n",
       "      <th>Invoice client reference 1</th>\n",
       "      <th>Invoice date</th>\n",
       "      <th>Total amount due</th>\n",
       "      <th>End of Lease Date</th>\n",
       "      <th>Invoice number 2</th>\n",
       "      <th>BILL TYPE</th>\n",
       "      <th>To be removed</th>\n",
       "    </tr>\n",
       "  </thead>\n",
       "  <tbody>\n",
       "  </tbody>\n",
       "</table>\n",
       "</div>"
      ],
      "text/plain": [
       "Empty DataFrame\n",
       "Columns: [Invoice number, Machine type, Equipment type, Sub-status, Payment type, Description, Invoice client reference 1, Invoice date, Total amount due, End of Lease Date, Invoice number 2, BILL TYPE, To be removed]\n",
       "Index: []"
      ]
     },
     "execution_count": 53,
     "metadata": {},
     "output_type": "execute_result"
    }
   ],
   "source": [
    "PC_ONLY[PC_ONLY['Invoice number']=='Q6591GF']"
   ]
  },
  {
   "cell_type": "code",
   "execution_count": 54,
   "metadata": {},
   "outputs": [],
   "source": [
    "NON_PC = PC_ONLY[FILTER_DAMAGE]"
   ]
  },
  {
   "cell_type": "code",
   "execution_count": 55,
   "metadata": {},
   "outputs": [
    {
     "name": "stderr",
     "output_type": "stream",
     "text": [
      "C:\\Users\\OctavioLuisElliotFre\\anaconda3\\lib\\site-packages\\pandas\\core\\indexing.py:965: SettingWithCopyWarning: \n",
      "A value is trying to be set on a copy of a slice from a DataFrame.\n",
      "Try using .loc[row_indexer,col_indexer] = value instead\n",
      "\n",
      "See the caveats in the documentation: https://pandas.pydata.org/pandas-docs/stable/user_guide/indexing.html#returning-a-view-versus-a-copy\n",
      "  self.obj[item] = s\n"
     ]
    }
   ],
   "source": [
    "PC_ONLY.loc[FILTER_LPF, 'To be removed'] = 'NaN'"
   ]
  },
  {
   "cell_type": "code",
   "execution_count": 56,
   "metadata": {},
   "outputs": [],
   "source": [
    "PC_ONLY.loc[FILTER_DAMAGE, 'To be removed'] = 'NaN'"
   ]
  },
  {
   "cell_type": "code",
   "execution_count": 57,
   "metadata": {},
   "outputs": [],
   "source": [
    "PC_ONLY.loc[FILTER_ONE_OFF, 'To be removed'] = 'NaN'"
   ]
  },
  {
   "cell_type": "code",
   "execution_count": 58,
   "metadata": {},
   "outputs": [],
   "source": [
    "PC_ONLY.loc[(FILTER_RECYLCLYNG_FEE) & (PC_ONLY['BILL TYPE'] == 'TBD'),'BILL TYPE']= 'Recycle'"
   ]
  },
  {
   "cell_type": "code",
   "execution_count": 59,
   "metadata": {},
   "outputs": [],
   "source": [
    "PC_ONLY.loc[FILTER_CMOS,'To be removed'] = 'NaN'"
   ]
  },
  {
   "cell_type": "code",
   "execution_count": 60,
   "metadata": {},
   "outputs": [],
   "source": [
    "PC_ONLY.loc[FILTER_STORAGE,'To be removed'] = 'NaN'"
   ]
  },
  {
   "cell_type": "code",
   "execution_count": 61,
   "metadata": {},
   "outputs": [],
   "source": [
    "PC_ONLY.loc[FILTER_IBM_MAINT,'To be removed'] = 'NaN'"
   ]
  },
  {
   "cell_type": "code",
   "execution_count": 62,
   "metadata": {},
   "outputs": [],
   "source": [
    "for invoice in INVOICE_LIST_REMOVED:\n",
    "    NON_PC = NON_PC.append(PC_ONLY[PC_ONLY['Invoice number'] == invoice])\n",
    "    PC_ONLY.loc[PC_ONLY['Invoice number'] == invoice,'To be removed'] = 'NaN'\n",
    "\n"
   ]
  },
  {
   "cell_type": "code",
   "execution_count": 63,
   "metadata": {},
   "outputs": [],
   "source": [
    "PC_ONLY = PC_ONLY[PC_ONLY['To be removed']!= 'NaN']"
   ]
  },
  {
   "cell_type": "code",
   "execution_count": 64,
   "metadata": {},
   "outputs": [
    {
     "data": {
      "text/plain": [
       "['Q6230GE']"
      ]
     },
     "execution_count": 64,
     "metadata": {},
     "output_type": "execute_result"
    }
   ],
   "source": [
    "INVOICE_LIST_REMOVED"
   ]
  },
  {
   "cell_type": "code",
   "execution_count": 65,
   "metadata": {},
   "outputs": [
    {
     "name": "stderr",
     "output_type": "stream",
     "text": [
      "C:\\Users\\OctavioLuisElliotFre\\anaconda3\\lib\\site-packages\\ipykernel_launcher.py:1: UserWarning: Boolean Series key will be reindexed to match DataFrame index.\n",
      "  \"\"\"Entry point for launching an IPython kernel.\n"
     ]
    }
   ],
   "source": [
    "NON_PC = NON_PC.append(PC_ONLY[FILTER_ONE_OFF])"
   ]
  },
  {
   "cell_type": "code",
   "execution_count": 66,
   "metadata": {},
   "outputs": [
    {
     "name": "stderr",
     "output_type": "stream",
     "text": [
      "C:\\Users\\OctavioLuisElliotFre\\anaconda3\\lib\\site-packages\\ipykernel_launcher.py:1: UserWarning: Boolean Series key will be reindexed to match DataFrame index.\n",
      "  \"\"\"Entry point for launching an IPython kernel.\n"
     ]
    }
   ],
   "source": [
    "NON_PC = NON_PC.append(PC_ONLY[FILTER_CMOS])"
   ]
  },
  {
   "cell_type": "code",
   "execution_count": 67,
   "metadata": {},
   "outputs": [
    {
     "name": "stderr",
     "output_type": "stream",
     "text": [
      "C:\\Users\\OctavioLuisElliotFre\\anaconda3\\lib\\site-packages\\ipykernel_launcher.py:1: UserWarning: Boolean Series key will be reindexed to match DataFrame index.\n",
      "  \"\"\"Entry point for launching an IPython kernel.\n"
     ]
    }
   ],
   "source": [
    "NON_PC = NON_PC.append(PC_ONLY[FILTER_STORAGE])"
   ]
  },
  {
   "cell_type": "code",
   "execution_count": 68,
   "metadata": {},
   "outputs": [
    {
     "name": "stderr",
     "output_type": "stream",
     "text": [
      "C:\\Users\\OctavioLuisElliotFre\\anaconda3\\lib\\site-packages\\ipykernel_launcher.py:1: UserWarning: Boolean Series key will be reindexed to match DataFrame index.\n",
      "  \"\"\"Entry point for launching an IPython kernel.\n"
     ]
    }
   ],
   "source": [
    "NON_PC = NON_PC.append(PC_ONLY[FILTER_IBM_MAINT])"
   ]
  },
  {
   "cell_type": "code",
   "execution_count": 69,
   "metadata": {},
   "outputs": [],
   "source": [
    "PC_ONLY = PC_ONLY.dropna()"
   ]
  },
  {
   "cell_type": "code",
   "execution_count": 70,
   "metadata": {},
   "outputs": [],
   "source": [
    "PC_ONLY.loc[FILTER_PRODUCT_SET,'Equipment type'] = 'MISCELLANEOUS FINANCING'"
   ]
  },
  {
   "cell_type": "code",
   "execution_count": 71,
   "metadata": {},
   "outputs": [],
   "source": [
    "#  Update empty cells on [AC] TO MISCELLANEOUS FINANCING if XOT9 OEM\n",
    "\n",
    "PC_ONLY.loc[(FILTER_XOT9_EMPTY) & (PC_ONLY['BILL TYPE'] == 'TBD'), 'Equipment type'] = 'MISCELLANEOUS FINANCING'"
   ]
  },
  {
   "cell_type": "code",
   "execution_count": 72,
   "metadata": {},
   "outputs": [],
   "source": [
    "PC_ONLY.loc[(FILTER_PPT) & (PC_ONLY['BILL TYPE'] == 'TBD'),'BILL TYPE'] = 'TAXES'"
   ]
  },
  {
   "cell_type": "code",
   "execution_count": 73,
   "metadata": {},
   "outputs": [],
   "source": [
    "PC_ONLY.loc[(FILTER_BUY) & (PC_ONLY['BILL TYPE'] == 'TBD'),'BILL TYPE'] = 'BUY'"
   ]
  },
  {
   "cell_type": "code",
   "execution_count": 74,
   "metadata": {},
   "outputs": [],
   "source": [
    "PC_ONLY.loc[(FILTER_CONC) & (PC_ONLY['BILL TYPE'] == 'TBD'),'BILL TYPE'] = 'REGULAR RENT'\n",
    "PC_ONLY.loc[(FILTER_CONT) & (PC_ONLY['BILL TYPE'] == 'TBD'),'BILL TYPE'] = 'REGULAR RENT'\n",
    "PC_ONLY.loc[(FILTER_EPUR) & (PC_ONLY['BILL TYPE'] == 'TBD'),'BILL TYPE'] = 'REGULAR RENT'"
   ]
  },
  {
   "cell_type": "code",
   "execution_count": 75,
   "metadata": {},
   "outputs": [],
   "source": [
    "PC_ONLY.loc[(FILTER_SS_ETRM) & (PC_ONLY['BILL TYPE'] == 'TBD'),'BILL TYPE'] = 'ETERM'"
   ]
  },
  {
   "cell_type": "code",
   "execution_count": 76,
   "metadata": {},
   "outputs": [],
   "source": [
    "PC_ONLY.loc[(FILTER_REGULAR_PERIODIC) & (PC_ONLY['BILL TYPE'] == 'TBD'),'BILL TYPE'] = 'REGULAR RENT'"
   ]
  },
  {
   "cell_type": "code",
   "execution_count": 77,
   "metadata": {},
   "outputs": [],
   "source": [
    "PC_ONLY.loc[(FILTER_NLOA_NLEASE) & (PC_ONLY['BILL TYPE'] == 'TBD'),'BILL TYPE'] = 'REGULAR RENT'"
   ]
  },
  {
   "cell_type": "code",
   "execution_count": 78,
   "metadata": {},
   "outputs": [
    {
     "name": "stderr",
     "output_type": "stream",
     "text": [
      "C:\\Users\\OctavioLuisElliotFre\\anaconda3\\lib\\site-packages\\ipykernel_launcher.py:1: UserWarning: Boolean Series key will be reindexed to match DataFrame index.\n",
      "  \"\"\"Entry point for launching an IPython kernel.\n"
     ]
    },
    {
     "data": {
      "text/html": [
       "<div>\n",
       "<style scoped>\n",
       "    .dataframe tbody tr th:only-of-type {\n",
       "        vertical-align: middle;\n",
       "    }\n",
       "\n",
       "    .dataframe tbody tr th {\n",
       "        vertical-align: top;\n",
       "    }\n",
       "\n",
       "    .dataframe thead th {\n",
       "        text-align: right;\n",
       "    }\n",
       "</style>\n",
       "<table border=\"1\" class=\"dataframe\">\n",
       "  <thead>\n",
       "    <tr style=\"text-align: right;\">\n",
       "      <th></th>\n",
       "      <th>Invoice number</th>\n",
       "      <th>Machine type</th>\n",
       "      <th>Equipment type</th>\n",
       "      <th>Sub-status</th>\n",
       "      <th>Payment type</th>\n",
       "      <th>Description</th>\n",
       "      <th>Invoice client reference 1</th>\n",
       "      <th>Invoice date</th>\n",
       "      <th>Total amount due</th>\n",
       "      <th>End of Lease Date</th>\n",
       "      <th>Invoice number 2</th>\n",
       "      <th>BILL TYPE</th>\n",
       "      <th>To be removed</th>\n",
       "    </tr>\n",
       "  </thead>\n",
       "  <tbody>\n",
       "  </tbody>\n",
       "</table>\n",
       "</div>"
      ],
      "text/plain": [
       "Empty DataFrame\n",
       "Columns: [Invoice number, Machine type, Equipment type, Sub-status, Payment type, Description, Invoice client reference 1, Invoice date, Total amount due, End of Lease Date, Invoice number 2, BILL TYPE, To be removed]\n",
       "Index: []"
      ]
     },
     "execution_count": 78,
     "metadata": {},
     "output_type": "execute_result"
    }
   ],
   "source": [
    "PC_ONLY[(FILTER_SS_ETRM)&(PC_ONLY['BILL TYPE'] == 'TBD')]\n",
    "\n"
   ]
  },
  {
   "cell_type": "markdown",
   "metadata": {},
   "source": [
    "CRINDO EXCEL XLSX FILE"
   ]
  },
  {
   "cell_type": "code",
   "execution_count": 79,
   "metadata": {},
   "outputs": [],
   "source": [
    "#today = str(date.today())\n"
   ]
  },
  {
   "cell_type": "code",
   "execution_count": 80,
   "metadata": {},
   "outputs": [],
   "source": [
    "file_name = 'PC_ONLY_Pivot.xlsx'"
   ]
  },
  {
   "cell_type": "code",
   "execution_count": 81,
   "metadata": {},
   "outputs": [],
   "source": [
    "#PC_ONLY.to_csv(r'PC_ONLY_'+ today +'.csv')\n",
    "PC_ONLY.to_excel(file_name,index = False)"
   ]
  },
  {
   "cell_type": "code",
   "execution_count": 82,
   "metadata": {},
   "outputs": [
    {
     "data": {
      "text/html": [
       "<div>\n",
       "<style scoped>\n",
       "    .dataframe tbody tr th:only-of-type {\n",
       "        vertical-align: middle;\n",
       "    }\n",
       "\n",
       "    .dataframe tbody tr th {\n",
       "        vertical-align: top;\n",
       "    }\n",
       "\n",
       "    .dataframe thead th {\n",
       "        text-align: right;\n",
       "    }\n",
       "</style>\n",
       "<table border=\"1\" class=\"dataframe\">\n",
       "  <thead>\n",
       "    <tr style=\"text-align: right;\">\n",
       "      <th></th>\n",
       "      <th>Invoice number</th>\n",
       "      <th>Machine type</th>\n",
       "      <th>Equipment type</th>\n",
       "      <th>Sub-status</th>\n",
       "      <th>Payment type</th>\n",
       "      <th>Description</th>\n",
       "      <th>Invoice client reference 1</th>\n",
       "      <th>Invoice date</th>\n",
       "      <th>Total amount due</th>\n",
       "      <th>End of Lease Date</th>\n",
       "      <th>Invoice number 2</th>\n",
       "      <th>BILL TYPE</th>\n",
       "      <th>To be removed</th>\n",
       "    </tr>\n",
       "  </thead>\n",
       "  <tbody>\n",
       "    <tr>\n",
       "      <th>0</th>\n",
       "      <td>Q5886GH</td>\n",
       "      <td>DELN</td>\n",
       "      <td>Notebooks</td>\n",
       "      <td>ETRM-EARLYTERM</td>\n",
       "      <td>Early Termination/Early Termination of Lease o...</td>\n",
       "      <td>Early Termination/Early Termination of Lease o...</td>\n",
       "      <td>na</td>\n",
       "      <td>5/1/2020</td>\n",
       "      <td>-35.15</td>\n",
       "      <td>4/30/2020</td>\n",
       "      <td>Q5</td>\n",
       "      <td>ETERM</td>\n",
       "      <td></td>\n",
       "    </tr>\n",
       "    <tr>\n",
       "      <th>1</th>\n",
       "      <td>Q5886GH</td>\n",
       "      <td>DELN</td>\n",
       "      <td>Notebooks</td>\n",
       "      <td>ETRM-EARLYTERM</td>\n",
       "      <td>Early Termination/Early Termination of Lease o...</td>\n",
       "      <td>Early Termination/Early Termination of Lease o...</td>\n",
       "      <td>na</td>\n",
       "      <td>5/1/2020</td>\n",
       "      <td>-21.19</td>\n",
       "      <td>4/30/2020</td>\n",
       "      <td>Q5</td>\n",
       "      <td>ETERM</td>\n",
       "      <td></td>\n",
       "    </tr>\n",
       "    <tr>\n",
       "      <th>2</th>\n",
       "      <td>Q5886GH</td>\n",
       "      <td>DELN</td>\n",
       "      <td>Notebooks</td>\n",
       "      <td>ETRM-EARLYTERM</td>\n",
       "      <td>Early Termination/Early Termination of Lease o...</td>\n",
       "      <td>Early Termination/Early Termination of Lease o...</td>\n",
       "      <td>na</td>\n",
       "      <td>5/1/2020</td>\n",
       "      <td>-19.72</td>\n",
       "      <td>4/30/2020</td>\n",
       "      <td>Q5</td>\n",
       "      <td>ETERM</td>\n",
       "      <td></td>\n",
       "    </tr>\n",
       "    <tr>\n",
       "      <th>3</th>\n",
       "      <td>Q5886GH</td>\n",
       "      <td>DELD</td>\n",
       "      <td>Desktops</td>\n",
       "      <td>ETRM-EARLYTERM</td>\n",
       "      <td>Early Termination/Early Termination of Lease o...</td>\n",
       "      <td>Early Termination/Early Termination of Lease o...</td>\n",
       "      <td>na</td>\n",
       "      <td>5/1/2020</td>\n",
       "      <td>-12.39</td>\n",
       "      <td>4/30/2020</td>\n",
       "      <td>Q5</td>\n",
       "      <td>ETERM</td>\n",
       "      <td></td>\n",
       "    </tr>\n",
       "    <tr>\n",
       "      <th>4</th>\n",
       "      <td>Q5886GH</td>\n",
       "      <td>DELD</td>\n",
       "      <td>Desktops</td>\n",
       "      <td>ETRM-EARLYTERM</td>\n",
       "      <td>Early Termination/Early Termination of Lease o...</td>\n",
       "      <td>Early Termination/Early Termination of Lease o...</td>\n",
       "      <td>na</td>\n",
       "      <td>5/1/2020</td>\n",
       "      <td>-12.51</td>\n",
       "      <td>3/31/2020</td>\n",
       "      <td>Q5</td>\n",
       "      <td>ETERM</td>\n",
       "      <td></td>\n",
       "    </tr>\n",
       "    <tr>\n",
       "      <th>...</th>\n",
       "      <td>...</td>\n",
       "      <td>...</td>\n",
       "      <td>...</td>\n",
       "      <td>...</td>\n",
       "      <td>...</td>\n",
       "      <td>...</td>\n",
       "      <td>...</td>\n",
       "      <td>...</td>\n",
       "      <td>...</td>\n",
       "      <td>...</td>\n",
       "      <td>...</td>\n",
       "      <td>...</td>\n",
       "      <td>...</td>\n",
       "    </tr>\n",
       "    <tr>\n",
       "      <th>96739</th>\n",
       "      <td>QP6365U</td>\n",
       "      <td>ZLND</td>\n",
       "      <td>Desktops</td>\n",
       "      <td>NLSE-NEW LEASE</td>\n",
       "      <td>PPT Recovery: Full Year</td>\n",
       "      <td>PPT Recovery: Full Year</td>\n",
       "      <td>na</td>\n",
       "      <td>5/1/2020</td>\n",
       "      <td>8.32</td>\n",
       "      <td>9/30/2021</td>\n",
       "      <td>QP</td>\n",
       "      <td>TAXES</td>\n",
       "      <td></td>\n",
       "    </tr>\n",
       "    <tr>\n",
       "      <th>96740</th>\n",
       "      <td>QP6365U</td>\n",
       "      <td>ZLND</td>\n",
       "      <td>Desktops</td>\n",
       "      <td>NLSE-NEW LEASE</td>\n",
       "      <td>PPT Recovery: Full Year</td>\n",
       "      <td>PPT Recovery: Full Year</td>\n",
       "      <td>na</td>\n",
       "      <td>5/1/2020</td>\n",
       "      <td>8.32</td>\n",
       "      <td>9/30/2021</td>\n",
       "      <td>QP</td>\n",
       "      <td>TAXES</td>\n",
       "      <td></td>\n",
       "    </tr>\n",
       "    <tr>\n",
       "      <th>96741</th>\n",
       "      <td>QP6365U</td>\n",
       "      <td>ZLND</td>\n",
       "      <td>Desktops</td>\n",
       "      <td>NLSE-NEW LEASE</td>\n",
       "      <td>PPT Recovery: Full Year</td>\n",
       "      <td>PPT Recovery: Full Year</td>\n",
       "      <td>na</td>\n",
       "      <td>5/1/2020</td>\n",
       "      <td>7.58</td>\n",
       "      <td>8/31/2021</td>\n",
       "      <td>QP</td>\n",
       "      <td>TAXES</td>\n",
       "      <td></td>\n",
       "    </tr>\n",
       "    <tr>\n",
       "      <th>96742</th>\n",
       "      <td>QP6375U</td>\n",
       "      <td>DELN</td>\n",
       "      <td>Notebooks</td>\n",
       "      <td>NLSE-NEW LEASE</td>\n",
       "      <td>PPT Recovery: Full Year</td>\n",
       "      <td>PPT Recovery: Full Year</td>\n",
       "      <td>na</td>\n",
       "      <td>5/1/2020</td>\n",
       "      <td>17.69</td>\n",
       "      <td>9/30/2021</td>\n",
       "      <td>QP</td>\n",
       "      <td>TAXES</td>\n",
       "      <td></td>\n",
       "    </tr>\n",
       "    <tr>\n",
       "      <th>96743</th>\n",
       "      <td>QP6385U</td>\n",
       "      <td>DELD</td>\n",
       "      <td>Desktops</td>\n",
       "      <td>CONC-CONCLUDE</td>\n",
       "      <td>PPT Recovery: Full Year</td>\n",
       "      <td>PPT Recovery: Full Year</td>\n",
       "      <td>TR</td>\n",
       "      <td>5/1/2020</td>\n",
       "      <td>3.42</td>\n",
       "      <td>5/10/2019</td>\n",
       "      <td>QP</td>\n",
       "      <td>TAXES</td>\n",
       "      <td></td>\n",
       "    </tr>\n",
       "  </tbody>\n",
       "</table>\n",
       "<p>89342 rows × 13 columns</p>\n",
       "</div>"
      ],
      "text/plain": [
       "      Invoice number Machine type Equipment type      Sub-status  \\\n",
       "0            Q5886GH         DELN      Notebooks  ETRM-EARLYTERM   \n",
       "1            Q5886GH         DELN      Notebooks  ETRM-EARLYTERM   \n",
       "2            Q5886GH         DELN      Notebooks  ETRM-EARLYTERM   \n",
       "3            Q5886GH         DELD       Desktops  ETRM-EARLYTERM   \n",
       "4            Q5886GH         DELD       Desktops  ETRM-EARLYTERM   \n",
       "...              ...          ...            ...             ...   \n",
       "96739        QP6365U         ZLND       Desktops  NLSE-NEW LEASE   \n",
       "96740        QP6365U         ZLND       Desktops  NLSE-NEW LEASE   \n",
       "96741        QP6365U         ZLND       Desktops  NLSE-NEW LEASE   \n",
       "96742        QP6375U         DELN      Notebooks  NLSE-NEW LEASE   \n",
       "96743        QP6385U         DELD       Desktops   CONC-CONCLUDE   \n",
       "\n",
       "                                            Payment type  \\\n",
       "0      Early Termination/Early Termination of Lease o...   \n",
       "1      Early Termination/Early Termination of Lease o...   \n",
       "2      Early Termination/Early Termination of Lease o...   \n",
       "3      Early Termination/Early Termination of Lease o...   \n",
       "4      Early Termination/Early Termination of Lease o...   \n",
       "...                                                  ...   \n",
       "96739                            PPT Recovery: Full Year   \n",
       "96740                            PPT Recovery: Full Year   \n",
       "96741                            PPT Recovery: Full Year   \n",
       "96742                            PPT Recovery: Full Year   \n",
       "96743                            PPT Recovery: Full Year   \n",
       "\n",
       "                                             Description  \\\n",
       "0      Early Termination/Early Termination of Lease o...   \n",
       "1      Early Termination/Early Termination of Lease o...   \n",
       "2      Early Termination/Early Termination of Lease o...   \n",
       "3      Early Termination/Early Termination of Lease o...   \n",
       "4      Early Termination/Early Termination of Lease o...   \n",
       "...                                                  ...   \n",
       "96739                            PPT Recovery: Full Year   \n",
       "96740                            PPT Recovery: Full Year   \n",
       "96741                            PPT Recovery: Full Year   \n",
       "96742                            PPT Recovery: Full Year   \n",
       "96743                            PPT Recovery: Full Year   \n",
       "\n",
       "      Invoice client reference 1 Invoice date  Total amount due  \\\n",
       "0                             na     5/1/2020            -35.15   \n",
       "1                             na     5/1/2020            -21.19   \n",
       "2                             na     5/1/2020            -19.72   \n",
       "3                             na     5/1/2020            -12.39   \n",
       "4                             na     5/1/2020            -12.51   \n",
       "...                          ...          ...               ...   \n",
       "96739                         na     5/1/2020              8.32   \n",
       "96740                         na     5/1/2020              8.32   \n",
       "96741                         na     5/1/2020              7.58   \n",
       "96742                         na     5/1/2020             17.69   \n",
       "96743                         TR     5/1/2020              3.42   \n",
       "\n",
       "      End of Lease Date Invoice number 2 BILL TYPE To be removed  \n",
       "0             4/30/2020               Q5     ETERM                \n",
       "1             4/30/2020               Q5     ETERM                \n",
       "2             4/30/2020               Q5     ETERM                \n",
       "3             4/30/2020               Q5     ETERM                \n",
       "4             3/31/2020               Q5     ETERM                \n",
       "...                 ...              ...       ...           ...  \n",
       "96739         9/30/2021               QP     TAXES                \n",
       "96740         9/30/2021               QP     TAXES                \n",
       "96741         8/31/2021               QP     TAXES                \n",
       "96742         9/30/2021               QP     TAXES                \n",
       "96743         5/10/2019               QP     TAXES                \n",
       "\n",
       "[89342 rows x 13 columns]"
      ]
     },
     "execution_count": 82,
     "metadata": {},
     "output_type": "execute_result"
    }
   ],
   "source": [
    "\n",
    "PC_ONLY\n",
    "    "
   ]
  },
  {
   "cell_type": "code",
   "execution_count": null,
   "metadata": {},
   "outputs": [],
   "source": []
  },
  {
   "cell_type": "code",
   "execution_count": null,
   "metadata": {},
   "outputs": [],
   "source": []
  }
 ],
 "metadata": {
  "kernelspec": {
   "display_name": "Python 3",
   "language": "python",
   "name": "python3"
  },
  "language_info": {
   "codemirror_mode": {
    "name": "ipython",
    "version": 3
   },
   "file_extension": ".py",
   "mimetype": "text/x-python",
   "name": "python",
   "nbconvert_exporter": "python",
   "pygments_lexer": "ipython3",
   "version": "3.7.6"
  }
 },
 "nbformat": 4,
 "nbformat_minor": 4
}
