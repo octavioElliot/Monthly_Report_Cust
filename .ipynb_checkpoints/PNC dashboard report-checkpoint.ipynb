{
 "cells": [
  {
   "cell_type": "code",
   "execution_count": 4,
   "metadata": {},
   "outputs": [],
   "source": [
    "#!conda install -c anaconda xlrd --yes"
   ]
  },
  {
   "cell_type": "code",
   "execution_count": 5,
   "metadata": {},
   "outputs": [],
   "source": [
    "import pandas as pd\n",
    "from datetime import date"
   ]
  },
  {
   "cell_type": "code",
   "execution_count": 6,
   "metadata": {},
   "outputs": [
    {
     "data": {
      "text/html": [
       "<div>\n",
       "<style scoped>\n",
       "    .dataframe tbody tr th:only-of-type {\n",
       "        vertical-align: middle;\n",
       "    }\n",
       "\n",
       "    .dataframe tbody tr th {\n",
       "        vertical-align: top;\n",
       "    }\n",
       "\n",
       "    .dataframe thead th {\n",
       "        text-align: right;\n",
       "    }\n",
       "</style>\n",
       "<table border=\"1\" class=\"dataframe\">\n",
       "  <thead>\n",
       "    <tr style=\"text-align: right;\">\n",
       "      <th></th>\n",
       "      <th>Invoice number</th>\n",
       "      <th>Invoice date</th>\n",
       "      <th>Invoice client reference 1</th>\n",
       "      <th>Invoice client reference 2</th>\n",
       "      <th>Subtotal</th>\n",
       "      <th>Currency</th>\n",
       "      <th>Payment type</th>\n",
       "      <th>Total amount due</th>\n",
       "      <th>Currency.1</th>\n",
       "      <th>Description</th>\n",
       "      <th>Mfr. serial number</th>\n",
       "      <th>Machine type</th>\n",
       "      <th>Model</th>\n",
       "      <th>Contract schedule number</th>\n",
       "      <th>Contract item number</th>\n",
       "      <th>Sub-status</th>\n",
       "      <th>End of Lease Date</th>\n",
       "      <th>Cost center</th>\n",
       "    </tr>\n",
       "  </thead>\n",
       "  <tbody>\n",
       "    <tr>\n",
       "      <th>0</th>\n",
       "      <td>Q5886GH</td>\n",
       "      <td>5/1/2020</td>\n",
       "      <td>NaN</td>\n",
       "      <td>PO77876</td>\n",
       "      <td>-19.46</td>\n",
       "      <td>USD</td>\n",
       "      <td>Early Termination/Early Termination of Lease o...</td>\n",
       "      <td>-21.19</td>\n",
       "      <td>USD</td>\n",
       "      <td>Early Termination/Early Termination of Lease o...</td>\n",
       "      <td>382QFH2</td>\n",
       "      <td>DELN</td>\n",
       "      <td>4KA</td>\n",
       "      <td>40227066</td>\n",
       "      <td>2.0</td>\n",
       "      <td>ETRM-EARLYTERM</td>\n",
       "      <td>4/30/2020</td>\n",
       "      <td>NaN</td>\n",
       "    </tr>\n",
       "    <tr>\n",
       "      <th>1</th>\n",
       "      <td>Q5886GH</td>\n",
       "      <td>5/1/2020</td>\n",
       "      <td>NaN</td>\n",
       "      <td>PO12092</td>\n",
       "      <td>-18.52</td>\n",
       "      <td>USD</td>\n",
       "      <td>Early Termination/Early Termination of Lease o...</td>\n",
       "      <td>-19.72</td>\n",
       "      <td>USD</td>\n",
       "      <td>Early Termination/Early Termination of Lease o...</td>\n",
       "      <td>3F0S8H2</td>\n",
       "      <td>DELN</td>\n",
       "      <td>4KA</td>\n",
       "      <td>35872097</td>\n",
       "      <td>2.0</td>\n",
       "      <td>ETRM-EARLYTERM</td>\n",
       "      <td>4/30/2020</td>\n",
       "      <td>NaN</td>\n",
       "    </tr>\n",
       "    <tr>\n",
       "      <th>2</th>\n",
       "      <td>Q5886GH</td>\n",
       "      <td>5/1/2020</td>\n",
       "      <td>NaN</td>\n",
       "      <td>PO20736</td>\n",
       "      <td>-32.85</td>\n",
       "      <td>USD</td>\n",
       "      <td>Early Termination/Early Termination of Lease o...</td>\n",
       "      <td>-35.15</td>\n",
       "      <td>USD</td>\n",
       "      <td>Early Termination/Early Termination of Lease o...</td>\n",
       "      <td>6GQG7H2</td>\n",
       "      <td>DELN</td>\n",
       "      <td>4MI</td>\n",
       "      <td>35872052</td>\n",
       "      <td>2.0</td>\n",
       "      <td>ETRM-EARLYTERM</td>\n",
       "      <td>4/30/2020</td>\n",
       "      <td>NaN</td>\n",
       "    </tr>\n",
       "    <tr>\n",
       "      <th>3</th>\n",
       "      <td>Q5886GH</td>\n",
       "      <td>5/1/2020</td>\n",
       "      <td>NaN</td>\n",
       "      <td>DO3802580</td>\n",
       "      <td>-11.69</td>\n",
       "      <td>USD</td>\n",
       "      <td>Early Termination/Early Termination of Lease o...</td>\n",
       "      <td>-12.39</td>\n",
       "      <td>USD</td>\n",
       "      <td>Early Termination/Early Termination of Lease o...</td>\n",
       "      <td>GKR6382</td>\n",
       "      <td>DELD</td>\n",
       "      <td>2TB</td>\n",
       "      <td>15863045</td>\n",
       "      <td>4.0</td>\n",
       "      <td>ETRM-EARLYTERM</td>\n",
       "      <td>4/30/2020</td>\n",
       "      <td>NaN</td>\n",
       "    </tr>\n",
       "    <tr>\n",
       "      <th>4</th>\n",
       "      <td>Q5886GH</td>\n",
       "      <td>5/1/2020</td>\n",
       "      <td>NaN</td>\n",
       "      <td>DO4058656</td>\n",
       "      <td>-11.44</td>\n",
       "      <td>USD</td>\n",
       "      <td>Early Termination/Early Termination of Lease o...</td>\n",
       "      <td>-12.13</td>\n",
       "      <td>USD</td>\n",
       "      <td>Early Termination/Early Termination of Lease o...</td>\n",
       "      <td>1ZQ7FB2</td>\n",
       "      <td>DELD</td>\n",
       "      <td>2TB</td>\n",
       "      <td>28568001</td>\n",
       "      <td>5.0</td>\n",
       "      <td>ETRM-EARLYTERM</td>\n",
       "      <td>4/30/2020</td>\n",
       "      <td>NaN</td>\n",
       "    </tr>\n",
       "  </tbody>\n",
       "</table>\n",
       "</div>"
      ],
      "text/plain": [
       "  Invoice number Invoice date Invoice client reference 1  \\\n",
       "0        Q5886GH     5/1/2020                        NaN   \n",
       "1        Q5886GH     5/1/2020                        NaN   \n",
       "2        Q5886GH     5/1/2020                        NaN   \n",
       "3        Q5886GH     5/1/2020                        NaN   \n",
       "4        Q5886GH     5/1/2020                        NaN   \n",
       "\n",
       "  Invoice client reference 2  Subtotal Currency  \\\n",
       "0                    PO77876    -19.46    USD     \n",
       "1                    PO12092    -18.52    USD     \n",
       "2                    PO20736    -32.85    USD     \n",
       "3                  DO3802580    -11.69    USD     \n",
       "4                  DO4058656    -11.44    USD     \n",
       "\n",
       "                                        Payment type  Total amount due  \\\n",
       "0  Early Termination/Early Termination of Lease o...            -21.19   \n",
       "1  Early Termination/Early Termination of Lease o...            -19.72   \n",
       "2  Early Termination/Early Termination of Lease o...            -35.15   \n",
       "3  Early Termination/Early Termination of Lease o...            -12.39   \n",
       "4  Early Termination/Early Termination of Lease o...            -12.13   \n",
       "\n",
       "  Currency.1                                        Description  \\\n",
       "0      USD    Early Termination/Early Termination of Lease o...   \n",
       "1      USD    Early Termination/Early Termination of Lease o...   \n",
       "2      USD    Early Termination/Early Termination of Lease o...   \n",
       "3      USD    Early Termination/Early Termination of Lease o...   \n",
       "4      USD    Early Termination/Early Termination of Lease o...   \n",
       "\n",
       "  Mfr. serial number Machine type Model Contract schedule number  \\\n",
       "0            382QFH2         DELN   4KA                 40227066   \n",
       "1            3F0S8H2         DELN   4KA                 35872097   \n",
       "2            6GQG7H2         DELN   4MI                 35872052   \n",
       "3            GKR6382         DELD   2TB                 15863045   \n",
       "4            1ZQ7FB2         DELD   2TB                 28568001   \n",
       "\n",
       "   Contract item number      Sub-status End of Lease Date  Cost center  \n",
       "0                   2.0  ETRM-EARLYTERM         4/30/2020          NaN  \n",
       "1                   2.0  ETRM-EARLYTERM         4/30/2020          NaN  \n",
       "2                   2.0  ETRM-EARLYTERM         4/30/2020          NaN  \n",
       "3                   4.0  ETRM-EARLYTERM         4/30/2020          NaN  \n",
       "4                   5.0  ETRM-EARLYTERM         4/30/2020          NaN  "
      ]
     },
     "execution_count": 6,
     "metadata": {},
     "output_type": "execute_result"
    }
   ],
   "source": [
    "#df = pd.read_excel('PNC_BANK_20200511_140520_62_inv1.xlsx')\n",
    "df = pd.read_csv(r'Data csv\\pnc april.csv')\n",
    "df.head()"
   ]
  },
  {
   "cell_type": "code",
   "execution_count": 7,
   "metadata": {},
   "outputs": [
    {
     "data": {
      "text/html": [
       "<div>\n",
       "<style scoped>\n",
       "    .dataframe tbody tr th:only-of-type {\n",
       "        vertical-align: middle;\n",
       "    }\n",
       "\n",
       "    .dataframe tbody tr th {\n",
       "        vertical-align: top;\n",
       "    }\n",
       "\n",
       "    .dataframe thead th {\n",
       "        text-align: right;\n",
       "    }\n",
       "</style>\n",
       "<table border=\"1\" class=\"dataframe\">\n",
       "  <thead>\n",
       "    <tr style=\"text-align: right;\">\n",
       "      <th></th>\n",
       "      <th>Invoice number</th>\n",
       "      <th>Invoice date</th>\n",
       "      <th>Invoice client reference 1</th>\n",
       "      <th>Invoice client reference 2</th>\n",
       "      <th>Subtotal</th>\n",
       "      <th>Currency</th>\n",
       "      <th>Payment type</th>\n",
       "      <th>Total amount due</th>\n",
       "      <th>Currency.1</th>\n",
       "      <th>Description</th>\n",
       "      <th>Mfr. serial number</th>\n",
       "      <th>Machine type</th>\n",
       "      <th>Model</th>\n",
       "      <th>Contract schedule number</th>\n",
       "      <th>Contract item number</th>\n",
       "      <th>Sub-status</th>\n",
       "      <th>End of Lease Date</th>\n",
       "      <th>Cost center</th>\n",
       "    </tr>\n",
       "  </thead>\n",
       "  <tbody>\n",
       "    <tr>\n",
       "      <th>0</th>\n",
       "      <td>Q5886GH</td>\n",
       "      <td>5/1/2020</td>\n",
       "      <td>NaN</td>\n",
       "      <td>PO77876</td>\n",
       "      <td>-19.46</td>\n",
       "      <td>USD</td>\n",
       "      <td>Early Termination/Early Termination of Lease o...</td>\n",
       "      <td>-21.19</td>\n",
       "      <td>USD</td>\n",
       "      <td>Early Termination/Early Termination of Lease o...</td>\n",
       "      <td>382QFH2</td>\n",
       "      <td>DELN</td>\n",
       "      <td>4KA</td>\n",
       "      <td>40227066</td>\n",
       "      <td>2.0</td>\n",
       "      <td>ETRM-EARLYTERM</td>\n",
       "      <td>4/30/2020</td>\n",
       "      <td>NaN</td>\n",
       "    </tr>\n",
       "    <tr>\n",
       "      <th>1</th>\n",
       "      <td>Q5886GH</td>\n",
       "      <td>5/1/2020</td>\n",
       "      <td>NaN</td>\n",
       "      <td>PO12092</td>\n",
       "      <td>-18.52</td>\n",
       "      <td>USD</td>\n",
       "      <td>Early Termination/Early Termination of Lease o...</td>\n",
       "      <td>-19.72</td>\n",
       "      <td>USD</td>\n",
       "      <td>Early Termination/Early Termination of Lease o...</td>\n",
       "      <td>3F0S8H2</td>\n",
       "      <td>DELN</td>\n",
       "      <td>4KA</td>\n",
       "      <td>35872097</td>\n",
       "      <td>2.0</td>\n",
       "      <td>ETRM-EARLYTERM</td>\n",
       "      <td>4/30/2020</td>\n",
       "      <td>NaN</td>\n",
       "    </tr>\n",
       "    <tr>\n",
       "      <th>2</th>\n",
       "      <td>Q5886GH</td>\n",
       "      <td>5/1/2020</td>\n",
       "      <td>NaN</td>\n",
       "      <td>PO20736</td>\n",
       "      <td>-32.85</td>\n",
       "      <td>USD</td>\n",
       "      <td>Early Termination/Early Termination of Lease o...</td>\n",
       "      <td>-35.15</td>\n",
       "      <td>USD</td>\n",
       "      <td>Early Termination/Early Termination of Lease o...</td>\n",
       "      <td>6GQG7H2</td>\n",
       "      <td>DELN</td>\n",
       "      <td>4MI</td>\n",
       "      <td>35872052</td>\n",
       "      <td>2.0</td>\n",
       "      <td>ETRM-EARLYTERM</td>\n",
       "      <td>4/30/2020</td>\n",
       "      <td>NaN</td>\n",
       "    </tr>\n",
       "    <tr>\n",
       "      <th>3</th>\n",
       "      <td>Q5886GH</td>\n",
       "      <td>5/1/2020</td>\n",
       "      <td>NaN</td>\n",
       "      <td>DO3802580</td>\n",
       "      <td>-11.69</td>\n",
       "      <td>USD</td>\n",
       "      <td>Early Termination/Early Termination of Lease o...</td>\n",
       "      <td>-12.39</td>\n",
       "      <td>USD</td>\n",
       "      <td>Early Termination/Early Termination of Lease o...</td>\n",
       "      <td>GKR6382</td>\n",
       "      <td>DELD</td>\n",
       "      <td>2TB</td>\n",
       "      <td>15863045</td>\n",
       "      <td>4.0</td>\n",
       "      <td>ETRM-EARLYTERM</td>\n",
       "      <td>4/30/2020</td>\n",
       "      <td>NaN</td>\n",
       "    </tr>\n",
       "    <tr>\n",
       "      <th>4</th>\n",
       "      <td>Q5886GH</td>\n",
       "      <td>5/1/2020</td>\n",
       "      <td>NaN</td>\n",
       "      <td>DO4058656</td>\n",
       "      <td>-11.44</td>\n",
       "      <td>USD</td>\n",
       "      <td>Early Termination/Early Termination of Lease o...</td>\n",
       "      <td>-12.13</td>\n",
       "      <td>USD</td>\n",
       "      <td>Early Termination/Early Termination of Lease o...</td>\n",
       "      <td>1ZQ7FB2</td>\n",
       "      <td>DELD</td>\n",
       "      <td>2TB</td>\n",
       "      <td>28568001</td>\n",
       "      <td>5.0</td>\n",
       "      <td>ETRM-EARLYTERM</td>\n",
       "      <td>4/30/2020</td>\n",
       "      <td>NaN</td>\n",
       "    </tr>\n",
       "  </tbody>\n",
       "</table>\n",
       "</div>"
      ],
      "text/plain": [
       "  Invoice number Invoice date Invoice client reference 1  \\\n",
       "0        Q5886GH     5/1/2020                        NaN   \n",
       "1        Q5886GH     5/1/2020                        NaN   \n",
       "2        Q5886GH     5/1/2020                        NaN   \n",
       "3        Q5886GH     5/1/2020                        NaN   \n",
       "4        Q5886GH     5/1/2020                        NaN   \n",
       "\n",
       "  Invoice client reference 2  Subtotal Currency  \\\n",
       "0                    PO77876    -19.46    USD     \n",
       "1                    PO12092    -18.52    USD     \n",
       "2                    PO20736    -32.85    USD     \n",
       "3                  DO3802580    -11.69    USD     \n",
       "4                  DO4058656    -11.44    USD     \n",
       "\n",
       "                                        Payment type  Total amount due  \\\n",
       "0  Early Termination/Early Termination of Lease o...            -21.19   \n",
       "1  Early Termination/Early Termination of Lease o...            -19.72   \n",
       "2  Early Termination/Early Termination of Lease o...            -35.15   \n",
       "3  Early Termination/Early Termination of Lease o...            -12.39   \n",
       "4  Early Termination/Early Termination of Lease o...            -12.13   \n",
       "\n",
       "  Currency.1                                        Description  \\\n",
       "0      USD    Early Termination/Early Termination of Lease o...   \n",
       "1      USD    Early Termination/Early Termination of Lease o...   \n",
       "2      USD    Early Termination/Early Termination of Lease o...   \n",
       "3      USD    Early Termination/Early Termination of Lease o...   \n",
       "4      USD    Early Termination/Early Termination of Lease o...   \n",
       "\n",
       "  Mfr. serial number Machine type Model Contract schedule number  \\\n",
       "0            382QFH2         DELN   4KA                 40227066   \n",
       "1            3F0S8H2         DELN   4KA                 35872097   \n",
       "2            6GQG7H2         DELN   4MI                 35872052   \n",
       "3            GKR6382         DELD   2TB                 15863045   \n",
       "4            1ZQ7FB2         DELD   2TB                 28568001   \n",
       "\n",
       "   Contract item number      Sub-status End of Lease Date  Cost center  \n",
       "0                   2.0  ETRM-EARLYTERM         4/30/2020          NaN  \n",
       "1                   2.0  ETRM-EARLYTERM         4/30/2020          NaN  \n",
       "2                   2.0  ETRM-EARLYTERM         4/30/2020          NaN  \n",
       "3                   4.0  ETRM-EARLYTERM         4/30/2020          NaN  \n",
       "4                   5.0  ETRM-EARLYTERM         4/30/2020          NaN  "
      ]
     },
     "execution_count": 7,
     "metadata": {},
     "output_type": "execute_result"
    }
   ],
   "source": [
    "df.head()"
   ]
  },
  {
   "cell_type": "code",
   "execution_count": 8,
   "metadata": {},
   "outputs": [
    {
     "ename": "KeyError",
     "evalue": "\"['Equipment type'] not in index\"",
     "output_type": "error",
     "traceback": [
      "\u001b[1;31m---------------------------------------------------------------------------\u001b[0m",
      "\u001b[1;31mKeyError\u001b[0m                                  Traceback (most recent call last)",
      "\u001b[1;32m<ipython-input-8-ea43b2a579dc>\u001b[0m in \u001b[0;36m<module>\u001b[1;34m\u001b[0m\n\u001b[1;32m----> 1\u001b[1;33m \u001b[0mPC_ONLY\u001b[0m \u001b[1;33m=\u001b[0m \u001b[0mdf\u001b[0m\u001b[1;33m[\u001b[0m\u001b[1;33m[\u001b[0m\u001b[1;34m'Invoice number'\u001b[0m\u001b[1;33m,\u001b[0m\u001b[1;34m'Machine type'\u001b[0m\u001b[1;33m,\u001b[0m\u001b[1;34m'Equipment type'\u001b[0m\u001b[1;33m,\u001b[0m\u001b[1;34m'Sub-status'\u001b[0m\u001b[1;33m,\u001b[0m \u001b[1;34m'Payment type'\u001b[0m\u001b[1;33m,\u001b[0m\u001b[1;34m'Description'\u001b[0m\u001b[1;33m,\u001b[0m\u001b[1;34m'Invoice client reference 1'\u001b[0m\u001b[1;33m,\u001b[0m\u001b[1;34m'Invoice date'\u001b[0m\u001b[1;33m,\u001b[0m\u001b[1;34m'Total amount due'\u001b[0m\u001b[1;33m]\u001b[0m\u001b[1;33m]\u001b[0m\u001b[1;33m\u001b[0m\u001b[1;33m\u001b[0m\u001b[0m\n\u001b[0m",
      "\u001b[1;32m~\\anaconda3\\lib\\site-packages\\pandas\\core\\frame.py\u001b[0m in \u001b[0;36m__getitem__\u001b[1;34m(self, key)\u001b[0m\n\u001b[0;32m   2804\u001b[0m             \u001b[1;32mif\u001b[0m \u001b[0mis_iterator\u001b[0m\u001b[1;33m(\u001b[0m\u001b[0mkey\u001b[0m\u001b[1;33m)\u001b[0m\u001b[1;33m:\u001b[0m\u001b[1;33m\u001b[0m\u001b[1;33m\u001b[0m\u001b[0m\n\u001b[0;32m   2805\u001b[0m                 \u001b[0mkey\u001b[0m \u001b[1;33m=\u001b[0m \u001b[0mlist\u001b[0m\u001b[1;33m(\u001b[0m\u001b[0mkey\u001b[0m\u001b[1;33m)\u001b[0m\u001b[1;33m\u001b[0m\u001b[1;33m\u001b[0m\u001b[0m\n\u001b[1;32m-> 2806\u001b[1;33m             \u001b[0mindexer\u001b[0m \u001b[1;33m=\u001b[0m \u001b[0mself\u001b[0m\u001b[1;33m.\u001b[0m\u001b[0mloc\u001b[0m\u001b[1;33m.\u001b[0m\u001b[0m_get_listlike_indexer\u001b[0m\u001b[1;33m(\u001b[0m\u001b[0mkey\u001b[0m\u001b[1;33m,\u001b[0m \u001b[0maxis\u001b[0m\u001b[1;33m=\u001b[0m\u001b[1;36m1\u001b[0m\u001b[1;33m,\u001b[0m \u001b[0mraise_missing\u001b[0m\u001b[1;33m=\u001b[0m\u001b[1;32mTrue\u001b[0m\u001b[1;33m)\u001b[0m\u001b[1;33m[\u001b[0m\u001b[1;36m1\u001b[0m\u001b[1;33m]\u001b[0m\u001b[1;33m\u001b[0m\u001b[1;33m\u001b[0m\u001b[0m\n\u001b[0m\u001b[0;32m   2807\u001b[0m \u001b[1;33m\u001b[0m\u001b[0m\n\u001b[0;32m   2808\u001b[0m         \u001b[1;31m# take() does not accept boolean indexers\u001b[0m\u001b[1;33m\u001b[0m\u001b[1;33m\u001b[0m\u001b[1;33m\u001b[0m\u001b[0m\n",
      "\u001b[1;32m~\\anaconda3\\lib\\site-packages\\pandas\\core\\indexing.py\u001b[0m in \u001b[0;36m_get_listlike_indexer\u001b[1;34m(self, key, axis, raise_missing)\u001b[0m\n\u001b[0;32m   1550\u001b[0m \u001b[1;33m\u001b[0m\u001b[0m\n\u001b[0;32m   1551\u001b[0m         self._validate_read_indexer(\n\u001b[1;32m-> 1552\u001b[1;33m             \u001b[0mkeyarr\u001b[0m\u001b[1;33m,\u001b[0m \u001b[0mindexer\u001b[0m\u001b[1;33m,\u001b[0m \u001b[0mo\u001b[0m\u001b[1;33m.\u001b[0m\u001b[0m_get_axis_number\u001b[0m\u001b[1;33m(\u001b[0m\u001b[0maxis\u001b[0m\u001b[1;33m)\u001b[0m\u001b[1;33m,\u001b[0m \u001b[0mraise_missing\u001b[0m\u001b[1;33m=\u001b[0m\u001b[0mraise_missing\u001b[0m\u001b[1;33m\u001b[0m\u001b[1;33m\u001b[0m\u001b[0m\n\u001b[0m\u001b[0;32m   1553\u001b[0m         )\n\u001b[0;32m   1554\u001b[0m         \u001b[1;32mreturn\u001b[0m \u001b[0mkeyarr\u001b[0m\u001b[1;33m,\u001b[0m \u001b[0mindexer\u001b[0m\u001b[1;33m\u001b[0m\u001b[1;33m\u001b[0m\u001b[0m\n",
      "\u001b[1;32m~\\anaconda3\\lib\\site-packages\\pandas\\core\\indexing.py\u001b[0m in \u001b[0;36m_validate_read_indexer\u001b[1;34m(self, key, indexer, axis, raise_missing)\u001b[0m\n\u001b[0;32m   1643\u001b[0m             \u001b[1;32mif\u001b[0m \u001b[1;32mnot\u001b[0m \u001b[1;33m(\u001b[0m\u001b[0mself\u001b[0m\u001b[1;33m.\u001b[0m\u001b[0mname\u001b[0m \u001b[1;33m==\u001b[0m \u001b[1;34m\"loc\"\u001b[0m \u001b[1;32mand\u001b[0m \u001b[1;32mnot\u001b[0m \u001b[0mraise_missing\u001b[0m\u001b[1;33m)\u001b[0m\u001b[1;33m:\u001b[0m\u001b[1;33m\u001b[0m\u001b[1;33m\u001b[0m\u001b[0m\n\u001b[0;32m   1644\u001b[0m                 \u001b[0mnot_found\u001b[0m \u001b[1;33m=\u001b[0m \u001b[0mlist\u001b[0m\u001b[1;33m(\u001b[0m\u001b[0mset\u001b[0m\u001b[1;33m(\u001b[0m\u001b[0mkey\u001b[0m\u001b[1;33m)\u001b[0m \u001b[1;33m-\u001b[0m \u001b[0mset\u001b[0m\u001b[1;33m(\u001b[0m\u001b[0max\u001b[0m\u001b[1;33m)\u001b[0m\u001b[1;33m)\u001b[0m\u001b[1;33m\u001b[0m\u001b[1;33m\u001b[0m\u001b[0m\n\u001b[1;32m-> 1645\u001b[1;33m                 \u001b[1;32mraise\u001b[0m \u001b[0mKeyError\u001b[0m\u001b[1;33m(\u001b[0m\u001b[1;34mf\"{not_found} not in index\"\u001b[0m\u001b[1;33m)\u001b[0m\u001b[1;33m\u001b[0m\u001b[1;33m\u001b[0m\u001b[0m\n\u001b[0m\u001b[0;32m   1646\u001b[0m \u001b[1;33m\u001b[0m\u001b[0m\n\u001b[0;32m   1647\u001b[0m             \u001b[1;31m# we skip the warning on Categorical/Interval\u001b[0m\u001b[1;33m\u001b[0m\u001b[1;33m\u001b[0m\u001b[1;33m\u001b[0m\u001b[0m\n",
      "\u001b[1;31mKeyError\u001b[0m: \"['Equipment type'] not in index\""
     ]
    }
   ],
   "source": [
    "PC_ONLY = df[['Invoice number','Machine type','Equipment type','Sub-status', 'Payment type','Description','Invoice client reference 1','Invoice date','Total amount due','End of Lease Date']]"
   ]
  },
  {
   "cell_type": "code",
   "execution_count": null,
   "metadata": {},
   "outputs": [],
   "source": [
    "INVOICE_LIST_REMOVED = ['Q6230GE']\n",
    "items = len(INVOICE_LIST_REMOVED)"
   ]
  },
  {
   "cell_type": "code",
   "execution_count": null,
   "metadata": {},
   "outputs": [],
   "source": [
    "for i in range(items):\n",
    "       print (PC_ONLY[PC_ONLY['Invoice number'] == INVOICE_LIST_REMOVED[i]].head(1))"
   ]
  },
  {
   "cell_type": "code",
   "execution_count": null,
   "metadata": {},
   "outputs": [],
   "source": []
  },
  {
   "cell_type": "code",
   "execution_count": null,
   "metadata": {},
   "outputs": [],
   "source": [
    "rows = PC_ONLY['Invoice number'].count()"
   ]
  },
  {
   "cell_type": "code",
   "execution_count": null,
   "metadata": {},
   "outputs": [],
   "source": [
    "PC_ONLY['Invoice number 2'] = PC_ONLY['Invoice number']\n",
    "PC_ONLY['BILL TYPE'] = 'TBD'\n",
    "PC_ONLY['To be removed'] = ''"
   ]
  },
  {
   "cell_type": "code",
   "execution_count": null,
   "metadata": {},
   "outputs": [],
   "source": [
    "PC_ONLY.head()"
   ]
  },
  {
   "cell_type": "markdown",
   "metadata": {},
   "source": [
    "FORMATACAO DOS DADOS"
   ]
  },
  {
   "cell_type": "code",
   "execution_count": null,
   "metadata": {},
   "outputs": [],
   "source": [
    "for i in range(rows):\n",
    "    PC_ONLY.at[i,'Invoice number 2'] = PC_ONLY.at[i,'Invoice number'][:2]\n",
    "    PC_ONLY.at[i,'Invoice number'] = PC_ONLY.at[i,'Invoice number'][:7]"
   ]
  },
  {
   "cell_type": "code",
   "execution_count": null,
   "metadata": {},
   "outputs": [],
   "source": [
    "PC_ONLY[\"Total amount due\"] = pd.to_numeric(PC_ONLY[\"Total amount due\"], downcast=\"float\")\n",
    "PC_ONLY['Total amount due'] = PC_ONLY['Total amount due'].apply (lambda x: round(x,2)) "
   ]
  },
  {
   "cell_type": "code",
   "execution_count": null,
   "metadata": {},
   "outputs": [],
   "source": [
    "PC_ONLY[\"Invoice client reference 1\"]= PC_ONLY[\"Invoice client reference 1\"].astype(str)"
   ]
  },
  {
   "cell_type": "code",
   "execution_count": null,
   "metadata": {},
   "outputs": [],
   "source": [
    "for i in range(rows):\n",
    "    PC_ONLY.at[i,'Invoice client reference 1'] = PC_ONLY.at[i,'Invoice client reference 1'][:2]\n",
    "    "
   ]
  },
  {
   "cell_type": "code",
   "execution_count": null,
   "metadata": {},
   "outputs": [],
   "source": [
    "# creating the filters taht will be used\n",
    "\n",
    "FILTER_LPF = (PC_ONLY['Payment type']=='Late Payment Fee')\n",
    "FILTER_DAMAGE = (PC_ONLY[\"Invoice number 2\"] == \"QC\")\n",
    "FILTER_RECYLCLYNG_FEE = (PC_ONLY['Payment type'] == 'STATE RECYCLING FEE (FOR BATCH JOBS)')\n",
    "FILTER_CMOS = (PC_ONLY['Equipment type'] == 'Storage')\n",
    "FILTER_STORAGE = (PC_ONLY['Equipment type']=='CMOS Processors')\n",
    "\n",
    "\n",
    "FILTER_PRODUCT_SET = (PC_ONLY['Equipment type'] == 'PC Product Set')\n",
    "FILTER_IBM_MAINT = (PC_ONLY['Description'] == 'IBM PREPAID MAINTENANCE')\n",
    "\n",
    "FILTER_XOT9_EMPTY = (PC_ONLY['Machine type'] == \"XOT9\") # &  pd.isnull(df['Equipment type'])\n",
    "\n",
    "FILTER_PPT = (PC_ONLY['Payment type'] == 'PPT Recovery: Full Year') # & (PC_ONLY['BILL TYPE'] == '')\n",
    "FILTER_BUY = (PC_ONLY['Sub-status'] == 'BUY-BUYOUT') # & (PC_ONLY['BILL TYPE'] == '')\n",
    "\n",
    "FILTER_CONC = (PC_ONLY['Sub-status'] == 'CONC-CONCLUDE') # & (PC_ONLY['BILL TYPE'] == '')\n",
    "FILTER_CONT = (PC_ONLY['Sub-status'] == 'CONT-CONTINUATION') # & (PC_ONLY['BILL TYPE'] == '')\n",
    "\n",
    "\n",
    "\n",
    "FILTER_EPUR = (PC_ONLY['Sub-status'] == 'EPUR-PURCHASE')  # & (PC_ONLY['BILL TYPE'] == '')\n",
    "\n",
    "FILTER_SS_ETRM = (PC_ONLY['Sub-status'] =='ETRM-EARLYTERM') | (PC_ONLY['Payment type'] == 'Early Termination/Early Termination of Lease of Lease')\n",
    "\n",
    "\n",
    "FILTER_REGULAR_PERIODIC = (PC_ONLY['Payment type'] == 'Regular Periodic Invoice-Payment in Advance') # & (PC_ONLY['BILL TYPE'] == '')\n",
    "\n",
    "FILTER_NLOA_NLEASE = (PC_ONLY['Sub-status'] == 'NLOA-NEW LOAN') | (PC_ONLY['Sub-status'] == 'NLSE-NEW LEASE') # & (PC_ONLY['BILL TYPE'] == '')\n",
    "\n",
    "FILTER_ONE_OFF = (PC_ONLY['Invoice client reference 1']=='OL') | (PC_ONLY['Invoice client reference 1']=='OI')\n",
    "\n"
   ]
  },
  {
   "cell_type": "markdown",
   "metadata": {},
   "source": [
    "# Notacao para filtro duplo\n",
    "DOUBLE FILTER = PC_ONLY[(PC_ONLY[\"Equipment type\"] == \"PC Product Set\") & (PC_ONLY[\"Payment type\"] == \"PPT Recovery: Full Year\")]\n",
    "PC_ONLY[(FILTER_PRODUCT_SET) & (FILTER_PPT)]\n",
    "\n",
    "PC_ONLY.loc[(FILTER_CONT) & (FILTER_BT_EMPTY),'BILL TYPE'] = \"s\""
   ]
  },
  {
   "cell_type": "code",
   "execution_count": null,
   "metadata": {},
   "outputs": [],
   "source": [
    "PC_ONLY[FILTER_ONE_OFF].head()"
   ]
  },
  {
   "cell_type": "code",
   "execution_count": null,
   "metadata": {},
   "outputs": [],
   "source": [
    "LPF = PC_ONLY[FILTER_LPF]"
   ]
  },
  {
   "cell_type": "code",
   "execution_count": null,
   "metadata": {},
   "outputs": [],
   "source": [
    "PC_ONLY[PC_ONLY['Invoice number']=='Q6591GF']"
   ]
  },
  {
   "cell_type": "code",
   "execution_count": null,
   "metadata": {},
   "outputs": [],
   "source": [
    "NON_PC = PC_ONLY[FILTER_DAMAGE]"
   ]
  },
  {
   "cell_type": "code",
   "execution_count": null,
   "metadata": {},
   "outputs": [],
   "source": [
    "PC_ONLY.loc[FILTER_LPF, 'To be removed'] = 'NaN'"
   ]
  },
  {
   "cell_type": "code",
   "execution_count": null,
   "metadata": {},
   "outputs": [],
   "source": [
    "PC_ONLY.loc[FILTER_DAMAGE, 'To be removed'] = 'NaN'"
   ]
  },
  {
   "cell_type": "code",
   "execution_count": null,
   "metadata": {},
   "outputs": [],
   "source": [
    "PC_ONLY.loc[FILTER_ONE_OFF, 'To be removed'] = 'NaN'"
   ]
  },
  {
   "cell_type": "code",
   "execution_count": null,
   "metadata": {},
   "outputs": [],
   "source": [
    "PC_ONLY.loc[(FILTER_RECYLCLYNG_FEE) & (PC_ONLY['BILL TYPE'] == 'TBD'),'BILL TYPE']= 'Recycle'"
   ]
  },
  {
   "cell_type": "code",
   "execution_count": null,
   "metadata": {},
   "outputs": [],
   "source": [
    "PC_ONLY.loc[FILTER_CMOS,'To be removed'] = 'NaN'"
   ]
  },
  {
   "cell_type": "code",
   "execution_count": null,
   "metadata": {},
   "outputs": [],
   "source": [
    "PC_ONLY.loc[FILTER_STORAGE,'To be removed'] = 'NaN'"
   ]
  },
  {
   "cell_type": "code",
   "execution_count": null,
   "metadata": {},
   "outputs": [],
   "source": [
    "PC_ONLY.loc[FILTER_IBM_MAINT,'To be removed'] = 'NaN'"
   ]
  },
  {
   "cell_type": "code",
   "execution_count": null,
   "metadata": {},
   "outputs": [],
   "source": [
    "for invoice in INVOICE_LIST_REMOVED:\n",
    "    NON_PC = NON_PC.append(PC_ONLY[PC_ONLY['Invoice number'] == invoice])\n",
    "    PC_ONLY.loc[PC_ONLY['Invoice number'] == invoice,'To be removed'] = 'NaN'\n",
    "\n"
   ]
  },
  {
   "cell_type": "code",
   "execution_count": null,
   "metadata": {},
   "outputs": [],
   "source": [
    "PC_ONLY = PC_ONLY[PC_ONLY['To be removed']!= 'NaN']"
   ]
  },
  {
   "cell_type": "code",
   "execution_count": null,
   "metadata": {},
   "outputs": [],
   "source": [
    "INVOICE_LIST_REMOVED"
   ]
  },
  {
   "cell_type": "code",
   "execution_count": null,
   "metadata": {},
   "outputs": [],
   "source": [
    "NON_PC = NON_PC.append(PC_ONLY[FILTER_ONE_OFF])"
   ]
  },
  {
   "cell_type": "code",
   "execution_count": null,
   "metadata": {},
   "outputs": [],
   "source": [
    "NON_PC = NON_PC.append(PC_ONLY[FILTER_CMOS])"
   ]
  },
  {
   "cell_type": "code",
   "execution_count": null,
   "metadata": {},
   "outputs": [],
   "source": [
    "NON_PC = NON_PC.append(PC_ONLY[FILTER_STORAGE])"
   ]
  },
  {
   "cell_type": "code",
   "execution_count": null,
   "metadata": {},
   "outputs": [],
   "source": [
    "NON_PC = NON_PC.append(PC_ONLY[FILTER_IBM_MAINT])"
   ]
  },
  {
   "cell_type": "code",
   "execution_count": null,
   "metadata": {},
   "outputs": [],
   "source": [
    "PC_ONLY = PC_ONLY.dropna()"
   ]
  },
  {
   "cell_type": "code",
   "execution_count": null,
   "metadata": {},
   "outputs": [],
   "source": [
    "PC_ONLY.loc[FILTER_PRODUCT_SET,'Equipment type'] = 'MISCELLANEOUS FINANCING'"
   ]
  },
  {
   "cell_type": "code",
   "execution_count": null,
   "metadata": {},
   "outputs": [],
   "source": [
    "#  Update empty cells on [AC] TO MISCELLANEOUS FINANCING if XOT9 OEM\n",
    "\n",
    "PC_ONLY.loc[(FILTER_XOT9_EMPTY) & (PC_ONLY['BILL TYPE'] == 'TBD'), 'Equipment type'] = 'MISCELLANEOUS FINANCING'"
   ]
  },
  {
   "cell_type": "code",
   "execution_count": null,
   "metadata": {},
   "outputs": [],
   "source": [
    "PC_ONLY.loc[(FILTER_PPT) & (PC_ONLY['BILL TYPE'] == 'TBD'),'BILL TYPE'] = 'TAXES'"
   ]
  },
  {
   "cell_type": "code",
   "execution_count": null,
   "metadata": {},
   "outputs": [],
   "source": [
    "PC_ONLY.loc[(FILTER_BUY) & (PC_ONLY['BILL TYPE'] == 'TBD'),'BILL TYPE'] = 'BUY'"
   ]
  },
  {
   "cell_type": "code",
   "execution_count": null,
   "metadata": {},
   "outputs": [],
   "source": [
    "PC_ONLY.loc[(FILTER_CONC) & (PC_ONLY['BILL TYPE'] == 'TBD'),'BILL TYPE'] = 'REGULAR RENT'\n",
    "PC_ONLY.loc[(FILTER_CONT) & (PC_ONLY['BILL TYPE'] == 'TBD'),'BILL TYPE'] = 'REGULAR RENT'\n",
    "PC_ONLY.loc[(FILTER_EPUR) & (PC_ONLY['BILL TYPE'] == 'TBD'),'BILL TYPE'] = 'REGULAR RENT'"
   ]
  },
  {
   "cell_type": "code",
   "execution_count": null,
   "metadata": {},
   "outputs": [],
   "source": [
    "PC_ONLY.loc[(FILTER_SS_ETRM) & (PC_ONLY['BILL TYPE'] == 'TBD'),'BILL TYPE'] = 'ETERM'"
   ]
  },
  {
   "cell_type": "code",
   "execution_count": null,
   "metadata": {},
   "outputs": [],
   "source": [
    "PC_ONLY.loc[(FILTER_REGULAR_PERIODIC) & (PC_ONLY['BILL TYPE'] == 'TBD'),'BILL TYPE'] = 'REGULAR RENT'"
   ]
  },
  {
   "cell_type": "code",
   "execution_count": null,
   "metadata": {},
   "outputs": [],
   "source": [
    "PC_ONLY.loc[(FILTER_NLOA_NLEASE) & (PC_ONLY['BILL TYPE'] == 'TBD'),'BILL TYPE'] = 'REGULAR RENT'"
   ]
  },
  {
   "cell_type": "code",
   "execution_count": null,
   "metadata": {},
   "outputs": [],
   "source": [
    "PC_ONLY[(FILTER_SS_ETRM)&(PC_ONLY['BILL TYPE'] == 'TBD')]\n",
    "\n"
   ]
  },
  {
   "cell_type": "markdown",
   "metadata": {},
   "source": [
    "CRINDO EXCEL XLSX FILE"
   ]
  },
  {
   "cell_type": "code",
   "execution_count": null,
   "metadata": {},
   "outputs": [],
   "source": [
    "#today = str(date.today())\n"
   ]
  },
  {
   "cell_type": "code",
   "execution_count": null,
   "metadata": {},
   "outputs": [],
   "source": [
    "file_name = 'PC_ONLY_Pivot.xlsx'"
   ]
  },
  {
   "cell_type": "code",
   "execution_count": null,
   "metadata": {},
   "outputs": [],
   "source": [
    "#PC_ONLY.to_csv(r'PC_ONLY_'+ today +'.csv')\n",
    "PC_ONLY.to_excel(file_name,index = False)"
   ]
  },
  {
   "cell_type": "code",
   "execution_count": null,
   "metadata": {},
   "outputs": [],
   "source": [
    "\n",
    "PC_ONLY\n",
    "    "
   ]
  },
  {
   "cell_type": "code",
   "execution_count": null,
   "metadata": {},
   "outputs": [],
   "source": []
  },
  {
   "cell_type": "code",
   "execution_count": null,
   "metadata": {},
   "outputs": [],
   "source": []
  }
 ],
 "metadata": {
  "kernelspec": {
   "display_name": "Python 3",
   "language": "python",
   "name": "python3"
  },
  "language_info": {
   "codemirror_mode": {
    "name": "ipython",
    "version": 3
   },
   "file_extension": ".py",
   "mimetype": "text/x-python",
   "name": "python",
   "nbconvert_exporter": "python",
   "pygments_lexer": "ipython3",
   "version": "3.7.6"
  }
 },
 "nbformat": 4,
 "nbformat_minor": 4
}
